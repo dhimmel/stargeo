{
 "cells": [
  {
   "cell_type": "code",
   "execution_count": null,
   "metadata": {
    "collapsed": false
   },
   "outputs": [],
   "source": [
    "import logging\n",
    "import os\n",
    "import gzip\n",
    "\n",
    "import pandas\n",
    "import easydict\n",
    "\n",
    "import starapi.analysis\n",
    "import starapi.conf"
   ]
  },
  {
   "cell_type": "code",
   "execution_count": null,
   "metadata": {
    "collapsed": false
   },
   "outputs": [],
   "source": [
    "starapi.analysis.logger.propagate = False\n",
    "starapi.conf.configure('data')"
   ]
  },
  {
   "cell_type": "code",
   "execution_count": null,
   "metadata": {
    "collapsed": false
   },
   "outputs": [],
   "source": [
    "query_df = pandas.read_table('data/queries.tsv')\n",
    "query_df.head()"
   ]
  },
  {
   "cell_type": "code",
   "execution_count": null,
   "metadata": {
    "collapsed": false
   },
   "outputs": [],
   "source": [
    "for i, row in query_df.iterrows():\n",
    "    print i, row.slim_id, row.slim_name\n",
    "\n",
    "    name = row.slim_id.replace(':', '_')\n",
    "    params = easydict.EasyDict(\n",
    "        analysis_name = name,\n",
    "        case_query = row.case_query,\n",
    "        control_query = row.control_query,\n",
    "        modifier_query = '',\n",
    "        min_samples = 3,\n",
    "    )\n",
    "    \n",
    "    directory = os.path.join('data', 'doslim', params.analysis_name)\n",
    "    if not os.path.isdir(directory):\n",
    "        os.mkdir(directory)\n",
    "\n",
    "    logfile = logging.FileHandler(os.path.join(directory, 'log.txt'))\n",
    "    logfile.setLevel(logging.DEBUG)\n",
    "    starapi.analysis.logger.addHandler(logfile)\n",
    "    try:\n",
    "        sample_df, fold_df, balanced_perm_df, perm_df = starapi.analysis.perform_analysis(params)\n",
    "        for df in fold_df, balanced_perm_df:\n",
    "            df.reset_index(inplace=True)\n",
    "        \n",
    "    except Exception as e:\n",
    "        sample_df, fold_df, balanced_perm_df, perm_df = None, None, None, None\n",
    "        print(e)\n",
    "    starapi.analysis.logger.removeHandler(logfile)\n",
    "    \n",
    "    # write files\n",
    "    files = [\n",
    "        (sample_df, 'samples.tsv', open),\n",
    "        (fold_df, 'fold_change.tsv.gz', gzip.open),\n",
    "        (balanced_perm_df, 'balanced_permutation.tsv.gz', gzip.open),\n",
    "    ]\n",
    "    for df, filename, opener in files:\n",
    "        path = os.path.join(directory, filename)\n",
    "        with opener(path, 'wt') as write_file:\n",
    "            df.to_csv(write_file, index=False, sep='\\t', float_format='%.5g')\n"
   ]
  },
  {
   "cell_type": "code",
   "execution_count": null,
   "metadata": {
    "collapsed": true
   },
   "outputs": [],
   "source": []
  }
 ],
 "metadata": {
  "kernelspec": {
   "display_name": "Python 2 - stargeo",
   "language": "python",
   "name": "stargeo"
  },
  "language_info": {
   "codemirror_mode": {
    "name": "ipython",
    "version": 2
   },
   "file_extension": ".py",
   "mimetype": "text/x-python",
   "name": "python",
   "nbconvert_exporter": "python",
   "pygments_lexer": "ipython2",
   "version": "2.7.10"
  }
 },
 "nbformat": 4,
 "nbformat_minor": 0
}
