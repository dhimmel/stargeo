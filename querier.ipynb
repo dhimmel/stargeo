{
 "cells": [
  {
   "cell_type": "markdown",
   "metadata": {},
   "source": [
    "# Run stargeo queries for hetio-ind diseases"
   ]
  },
  {
   "cell_type": "code",
   "execution_count": 1,
   "metadata": {
    "collapsed": false
   },
   "outputs": [],
   "source": [
    "import logging\n",
    "import os\n",
    "import gzip\n",
    "\n",
    "import pandas\n",
    "import easydict\n",
    "\n",
    "import starapi.analysis\n",
    "import starapi.conf"
   ]
  },
  {
   "cell_type": "code",
   "execution_count": 2,
   "metadata": {
    "collapsed": false
   },
   "outputs": [],
   "source": [
    "starapi.analysis.logger.propagate = False\n",
    "starapi.conf.configure('data')"
   ]
  },
  {
   "cell_type": "code",
   "execution_count": 3,
   "metadata": {
    "collapsed": false
   },
   "outputs": [
    {
     "data": {
      "text/html": [
       "<div>\n",
       "<table border=\"1\" class=\"dataframe\">\n",
       "  <thead>\n",
       "    <tr style=\"text-align: right;\">\n",
       "      <th></th>\n",
       "      <th>slim_id</th>\n",
       "      <th>slim_name</th>\n",
       "      <th>case_query</th>\n",
       "      <th>control_query</th>\n",
       "    </tr>\n",
       "  </thead>\n",
       "  <tbody>\n",
       "    <tr>\n",
       "      <th>0</th>\n",
       "      <td>DOID:0050156</td>\n",
       "      <td>idiopathic pulmonary fibrosis</td>\n",
       "      <td>IPF == 'IPF'</td>\n",
       "      <td>IPF_control == 'IPF_control'</td>\n",
       "    </tr>\n",
       "    <tr>\n",
       "      <th>1</th>\n",
       "      <td>DOID:0050741</td>\n",
       "      <td>alcohol dependence</td>\n",
       "      <td>alcoholism == 'alcoholism'</td>\n",
       "      <td>alcoholism_control == 'alcoholism_control'</td>\n",
       "    </tr>\n",
       "    <tr>\n",
       "      <th>2</th>\n",
       "      <td>DOID:0050742</td>\n",
       "      <td>nicotine dependence</td>\n",
       "      <td>Smoker == 'Smoker'</td>\n",
       "      <td>Nonsmoker == 'Nonsmoker'</td>\n",
       "    </tr>\n",
       "    <tr>\n",
       "      <th>3</th>\n",
       "      <td>DOID:1024</td>\n",
       "      <td>leprosy</td>\n",
       "      <td>borderline_leprosy == 'borderline_leprosy' or ...</td>\n",
       "      <td>leprosy_control == 'leprosy_control'</td>\n",
       "    </tr>\n",
       "    <tr>\n",
       "      <th>4</th>\n",
       "      <td>DOID:10283</td>\n",
       "      <td>prostate cancer</td>\n",
       "      <td>PC == 'PC' or PC_tissue_case == 'PC_tissue_case'</td>\n",
       "      <td>PC_control == 'PC_control' or PC_tissue_contro...</td>\n",
       "    </tr>\n",
       "  </tbody>\n",
       "</table>\n",
       "</div>"
      ],
      "text/plain": [
       "        slim_id                      slim_name  \\\n",
       "0  DOID:0050156  idiopathic pulmonary fibrosis   \n",
       "1  DOID:0050741             alcohol dependence   \n",
       "2  DOID:0050742            nicotine dependence   \n",
       "3     DOID:1024                        leprosy   \n",
       "4    DOID:10283                prostate cancer   \n",
       "\n",
       "                                          case_query  \\\n",
       "0                                       IPF == 'IPF'   \n",
       "1                         alcoholism == 'alcoholism'   \n",
       "2                                 Smoker == 'Smoker'   \n",
       "3  borderline_leprosy == 'borderline_leprosy' or ...   \n",
       "4   PC == 'PC' or PC_tissue_case == 'PC_tissue_case'   \n",
       "\n",
       "                                       control_query  \n",
       "0                       IPF_control == 'IPF_control'  \n",
       "1         alcoholism_control == 'alcoholism_control'  \n",
       "2                           Nonsmoker == 'Nonsmoker'  \n",
       "3               leprosy_control == 'leprosy_control'  \n",
       "4  PC_control == 'PC_control' or PC_tissue_contro...  "
      ]
     },
     "execution_count": 3,
     "metadata": {},
     "output_type": "execute_result"
    }
   ],
   "source": [
    "query_df = pandas.read_table('data/queries.tsv')\n",
    "query_df.head()"
   ]
  },
  {
   "cell_type": "code",
   "execution_count": 4,
   "metadata": {
    "collapsed": false,
    "scrolled": true
   },
   "outputs": [
    {
     "name": "stderr",
     "output_type": "stream",
     "text": [
      "Started DOID_0050156 analysis\n",
      "/home/dhimmels/anaconda3/envs/stargeo/lib/python2.7/site-packages/pandas/core/indexing.py:115: SettingWithCopyWarning: \n",
      "A value is trying to be set on a copy of a slice from a DataFrame\n",
      "\n",
      "See the the caveats in the documentation: http://pandas.pydata.org/pandas-docs/stable/indexing.html#indexing-view-versus-copy\n",
      "  self._setitem_with_indexer(indexer, value)\n",
      "921.44 ms in get_analysis_df(\"IPF == 'IPF'\", \"IPF_control == 'IPF_c..., '')\n",
      "926.25 ms in Loading dataframe for DOID_0050156\n",
      "Matching sources: 12\n",
      "Stats: 12 sources, 12 series, 8 platforms, 679 samples\n",
      "Loading data and calculating fold change for DOID_0050156\n",
      "Loading data for GSE10667, id = 179\n",
      "  1.38 s in get_probes(10)\n",
      " 24.33 s in load_gse( series_id platform_id..., 179, False)\n",
      "/home/dhimmels/Documents/serg/rephetio/construct/star_api/starapi/analysis.py:164: SettingWithCopyWarning: \n",
      "A value is trying to be set on a copy of a slice from a DataFrame.\n",
      "Try using .loc[row_indexer,col_indexer] = value instead\n",
      "\n",
      "See the the caveats in the documentation: http://pandas.pydata.org/pandas-docs/stable/indexing.html#indexing-view-versus-copy\n",
      "  samples['subset'] = \"NA\"\n",
      "  3.75 s in get_gene_fold_change(<Gse GSE10667>, False, 0, None)\n",
      "Loading data for GSE17978, id = 2072\n",
      "  1.09 s in get_probes(593)\n",
      " 19.49 s in load_gse( series_id platform_id..., 2072, False)\n",
      "  3.14 s in get_gene_fold_change(<Gse GSE17978>, False, 0, None)\n",
      "Loading data for GSE2052, id = 2719\n",
      "469.02 ms in get_probes(687)\n",
      "  4.33 s in load_gse( series_id platform_id..., 2719, False)\n",
      "  1.05 s in get_gene_fold_change(<Gse GSE2052>, False, 0, None)\n",
      "Loading data for GSE24206, id = 3666\n",
      "  1.51 s in get_probes(4)\n",
      " 19.28 s in load_gse( series_id platform_id..., 3666, False)\n",
      "  3.35 s in get_gene_fold_change(<Gse GSE24206>, False, 0, None)\n",
      "Loading data for GSE28042, id = 4602\n",
      "  1.32 s in get_probes(53)\n",
      " 35.59 s in load_gse( series_id platform_id..., 4602, False)\n",
      "  5.66 s in get_gene_fold_change(<Gse GSE28042>, False, 0, None)\n",
      "Loading data for GSE28221, id = 4650\n",
      "  1.15 s in get_probes(53)\n",
      " 35.02 s in load_gse( series_id platform_id..., 4650, False)\n",
      "  5.87 s in get_gene_fold_change(<Gse GSE28221>, False, 0, None)\n",
      "Loading data for GSE31934, id = 5581\n",
      "129.23 ms in get_probes(1004)\n",
      "503.89 ms in load_gse( series_id platform_id..., 5581, False)\n",
      "471.84 ms in get_gene_fold_change(<Gse GSE31934>, False, 0, None)\n",
      "Loading data for GSE33566, id = 5969\n",
      "  1.11 s in get_probes(53)\n",
      " 24.42 s in load_gse( series_id platform_id..., 5969, False)\n",
      "  6.85 s in get_gene_fold_change(<Gse GSE33566>, False, 0, None)\n",
      "Loading data for GSE35145, id = 6333\n",
      "  1.34 s in get_probes(674)\n",
      "  8.37 s in load_gse( series_id platform_id..., 6333, False)\n",
      "  2.00 s in get_gene_fold_change(<Gse GSE35145>, False, 0, None)\n",
      "Loading data for GSE38958, id = 7205\n",
      "  1.27 s in get_probes(280)\n",
      " 26.43 s in load_gse( series_id platform_id..., 7205, False)\n",
      "  6.58 s in get_gene_fold_change(<Gse GSE38958>, False, 0, None)\n",
      "Loading data for GSE45686, id = 8724\n",
      "  1.34 s in get_probes(674)\n",
      " 25.46 s in load_gse( series_id platform_id..., 8724, False)\n",
      "  3.32 s in get_gene_fold_change(<Gse GSE45686>, False, 0, None)\n",
      "Loading data for GSE53845, id = 12401\n",
      "  1.41 s in get_probes(53)\n",
      " 20.82 s in load_gse( series_id platform_id..., 12401, False)\n",
      "  3.57 s in get_gene_fold_change(<Gse GSE53845>, False, 0, None)\n",
      "294.12 s in Load/fold for DOID_0050156\n",
      "Meta-Analyzing DOID_0050156\n",
      "459.74 s in meta analysis of real data for DOID_0050156\n",
      "919.67 ms in meta analysis of permutations for DOID_0050156\n",
      "144.00 mks in get_balanced_permutations({'analysis_name': 'DOI...,  C H H_lower H_upper \\..., Empty DataFrame Column...)\n",
      "461.29 s in Meta analysis for DOID_0050156\n",
      "DONE DOID_0050156 analysis\n",
      "756.62 s in perform_analysis({'analysis_name': 'DOI...)\n"
     ]
    },
    {
     "name": "stdout",
     "output_type": "stream",
     "text": [
      "0 DOID:0050156 idiopathic pulmonary fibrosis\n",
      "1"
     ]
    },
    {
     "name": "stderr",
     "output_type": "stream",
     "text": [
      "Started DOID_0050741 analysis\n",
      "  1.00 s in get_analysis_df(\"alcoholism == 'alcoho..., \"alcoholism_control ==..., '')\n",
      "  1.01 s in Loading dataframe for DOID_0050741\n",
      "Matching sources: 8\n",
      "Stats: 8 sources, 8 series, 8 platforms, 435 samples\n",
      "Loading data and calculating fold change for DOID_0050741\n",
      "Loading data for GSE10356, id = 95\n",
      " 38.58 ms in get_probes(36)\n",
      " 22.71 s in load_gse( series_id platform_id..., 95, False)\n",
      "257.47 ms in get_gene_fold_change(<Gse GSE10356>, False, 0, None)\n",
      "Loading data for GSE20568, id = 2733\n",
      " 39.23 ms in get_probes(689)\n",
      "  2.38 s in load_gse( series_id platform_id..., 2733, False)\n",
      "317.54 ms in get_gene_fold_change(<Gse GSE20568>, False, 0, None)\n",
      "Loading data for GSE29555, id = 5002\n"
     ]
    },
    {
     "name": "stdout",
     "output_type": "stream",
     "text": [
      " DOID:0050741 alcohol dependence\n",
      "Loading URL ftp://ftp.ncbi.nih.gov/pub/geo/DATA/SeriesMatrix/GSE29555/GSE29555_series_matrix.txt.gz ...\n",
      "Cache to"
     ]
    },
    {
     "name": "stderr",
     "output_type": "stream",
     "text": [
      "  1.27 s in get_probes(389)\n",
      " 28.23 s in load_gse( series_id platform_id..., 5002, False)\n",
      "  5.89 s in get_gene_fold_change(<Gse GSE29555>, False, 0, None)\n",
      "Loading data for GSE44456, id = 8480\n"
     ]
    },
    {
     "name": "stdout",
     "output_type": "stream",
     "text": [
      " data/geo_mirror/DATA/SeriesMatrix/GSE29555/GSE29555_series_matrix.txt.gz\n",
      "Loading URL ftp://ftp.ncbi.nih.gov/pub/geo/DATA/SeriesMatrix/GSE44456/GSE44456_series_matrix.txt.gz ...\n",
      "Cache to"
     ]
    },
    {
     "name": "stderr",
     "output_type": "stream",
     "text": [
      "  1.04 s in get_probes(283)\n",
      " 17.74 s in load_gse( series_id platform_id..., 8480, False)\n",
      "  2.47 s in get_gene_fold_change(<Gse GSE44456>, False, 0, None)\n",
      "Loading data for GSE49376, id = 9395\n"
     ]
    },
    {
     "name": "stdout",
     "output_type": "stream",
     "text": [
      " data/geo_mirror/DATA/SeriesMatrix/GSE44456/GSE44456_series_matrix.txt.gz\n",
      "Loading URL ftp://ftp.ncbi.nih.gov/pub/geo/DATA/SeriesMatrix/GSE49376/GSE49376_series_matrix.txt.gz ...\n",
      "Cache to"
     ]
    },
    {
     "name": "stderr",
     "output_type": "stream",
     "text": [
      "990.05 ms in get_probes(789)\n",
      " 15.11 s in load_gse( series_id platform_id..., 9395, False)\n",
      "  2.19 s in get_gene_fold_change(<Gse GSE49376>, False, 0, None)\n",
      "Loading data for GSE53808, id = 10083\n"
     ]
    },
    {
     "name": "stdout",
     "output_type": "stream",
     "text": [
      " data/geo_mirror/DATA/SeriesMatrix/GSE49376/GSE49376_series_matrix.txt.gz\n",
      "Loading URL ftp://ftp.ncbi.nih.gov/pub/geo/DATA/SeriesMatrix/GSE53808/GSE53808_series_matrix.txt.gz ...\n",
      "Cache to"
     ]
    },
    {
     "name": "stderr",
     "output_type": "stream",
     "text": [
      "  1.64 s in get_probes(841)\n",
      " 23.26 s in load_gse( series_id platform_id..., 10083, False)\n",
      "  3.96 s in get_gene_fold_change(<Gse GSE53808>, False, 0, None)\n",
      "Loading data for GSE9058, id = 11639\n"
     ]
    },
    {
     "name": "stdout",
     "output_type": "stream",
     "text": [
      " data/geo_mirror/DATA/SeriesMatrix/GSE53808/GSE53808_series_matrix.txt.gz\n",
      "Loading URL ftp://ftp.ncbi.nih.gov/pub/geo/DATA/SeriesMatrix/GSE9058/GSE9058_series_matrix.txt.gz ...\n",
      "Cache to"
     ]
    },
    {
     "name": "stderr",
     "output_type": "stream",
     "text": [
      " 43.17 ms in get_probes(1630)\n",
      "  5.67 s in load_gse( series_id platform_id..., 11639, False)\n",
      "420.85 ms in get_gene_fold_change(<Gse GSE9058>, False, 0, None)\n",
      "Loading data for GSE52553, id = 12329\n"
     ]
    },
    {
     "name": "stdout",
     "output_type": "stream",
     "text": [
      " data/geo_mirror/DATA/SeriesMatrix/GSE9058/GSE9058_series_matrix.txt.gz\n",
      "Loading URL ftp://ftp.ncbi.nih.gov/pub/geo/DATA/SeriesMatrix/GSE52553/GSE52553_series_matrix.txt.gz ...\n",
      "Cache to"
     ]
    },
    {
     "name": "stderr",
     "output_type": "stream",
     "text": [
      "  1.40 s in get_probes(4)\n",
      " 55.18 s in load_gse( series_id platform_id..., 12329, False)\n",
      "  7.01 s in get_gene_fold_change(<Gse GSE52553>, False, 0, None)\n",
      "195.64 s in Load/fold for DOID_0050741\n",
      "Meta-Analyzing DOID_0050741\n",
      "410.31 s in meta analysis of real data for DOID_0050741\n",
      "508.53 ms in meta analysis of permutations for DOID_0050741\n",
      "145.20 mks in get_balanced_permutations({'analysis_name': 'DOI...,  C H H_lower H_upper \\..., Empty DataFrame Column...)\n",
      "411.47 s in Meta analysis for DOID_0050741\n",
      "DONE DOID_0050741 analysis\n",
      "608.33 s in perform_analysis({'analysis_name': 'DOI...)\n"
     ]
    },
    {
     "name": "stdout",
     "output_type": "stream",
     "text": [
      " data/geo_mirror/DATA/SeriesMatrix/GSE52553/GSE52553_series_matrix.txt.gz\n",
      "2"
     ]
    },
    {
     "name": "stderr",
     "output_type": "stream",
     "text": [
      "Started DOID_0050742 analysis\n",
      "  1.22 s in get_analysis_df(\"Smoker == 'Smoker'\", \"Nonsmoker == 'Nonsmok..., '')\n",
      "  1.23 s in Loading dataframe for DOID_0050742\n",
      "Matching sources: 21\n",
      "Excluded 21 sources as single-class\n",
      "  1.33 s in perform_analysis({'analysis_name': 'DOI...)\n"
     ]
    },
    {
     "name": "stdout",
     "output_type": "stream",
     "text": [
      " DOID:0050742 nicotine dependence\n",
      "'Int64Index' object has no attribute 'labels'\n",
      "3"
     ]
    },
    {
     "name": "stderr",
     "output_type": "stream",
     "text": [
      "Started DOID_1024 analysis\n",
      "685.36 ms in get_analysis_df(\"borderline_leprosy ==..., \"leprosy_control == 'l..., '')\n",
      "689.73 ms in Loading dataframe for DOID_1024\n",
      "Matching sources: 1\n",
      "Excluded 1 source by min samples\n",
      "FAIL Can't perform meta-analysis on no data\n",
      "869.11 ms in perform_analysis({'analysis_name': 'DOI...)\n"
     ]
    },
    {
     "name": "stdout",
     "output_type": "stream",
     "text": [
      " DOID:1024 leprosy\n",
      "4"
     ]
    },
    {
     "name": "stderr",
     "output_type": "stream",
     "text": [
      "Started DOID_10283 analysis\n",
      "  1.16 s in get_analysis_df(\"PC == 'PC' or PC_tiss..., \"PC_control == 'PC_con..., '')\n",
      "  1.16 s in Loading dataframe for DOID_10283\n",
      "Matching sources: 16\n",
      "Excluded 13 sources as single-class\n",
      "Stats: 3 sources, 3 series, 2 platforms, 464 samples\n",
      "Loading data and calculating fold change for DOID_10283\n",
      "Loading data for GSE11682, id = 437\n",
      "  1.40 s in get_probes(10)\n",
      " 22.60 s in load_gse( series_id platform_id..., 437, False)\n",
      "  3.22 s in get_gene_fold_change(<Gse GSE11682>, False, 0, None)\n",
      "Loading data for GSE30994, id = 5362\n"
     ]
    },
    {
     "name": "stdout",
     "output_type": "stream",
     "text": [
      " DOID:10283 prostate cancer\n",
      "Loading URL ftp://ftp.ncbi.nih.gov/pub/geo/DATA/SeriesMatrix/GSE30994/GSE30994_series_matrix.txt.gz ...\n",
      "Cache to"
     ]
    },
    {
     "name": "stderr",
     "output_type": "stream",
     "text": [
      "  1.44 s in get_probes(10)\n",
      " 11.63 s in load_gse( series_id platform_id..., 5362, False)\n",
      "  1.99 s in get_gene_fold_change(<Gse GSE30994>, False, 0, None)\n",
      "Loading data for GSE62872, id = 13217\n"
     ]
    },
    {
     "name": "stdout",
     "output_type": "stream",
     "text": [
      " data/geo_mirror/DATA/SeriesMatrix/GSE30994/GSE30994_series_matrix.txt.gz\n",
      "Loading URL ftp://ftp.ncbi.nih.gov/pub/geo/DATA/SeriesMatrix/GSE62872/GSE62872_series_matrix.txt.gz ...\n",
      "Cache to"
     ]
    },
    {
     "name": "stderr",
     "output_type": "stream",
     "text": [
      " 38.47 ms in get_probes(1787)\n",
      " 86.92 s in load_gse( series_id platform_id..., 13217, False)\n",
      "429.86 ms in get_gene_fold_change(<Gse GSE62872>, False, 0, None)\n",
      "128.09 s in Load/fold for DOID_10283\n",
      "Meta-Analyzing DOID_10283\n",
      "345.82 s in meta analysis of real data for DOID_10283\n",
      "261.77 ms in meta analysis of permutations for DOID_10283\n",
      "156.16 mks in get_balanced_permutations({'analysis_name': 'DOI...,  C H H_lower H_upper I..., Empty DataFrame Column...)\n",
      "346.80 s in Meta analysis for DOID_10283\n",
      "DONE DOID_10283 analysis\n",
      "476.26 s in perform_analysis({'analysis_name': 'DOI...)\n"
     ]
    },
    {
     "name": "stdout",
     "output_type": "stream",
     "text": [
      " data/geo_mirror/DATA/SeriesMatrix/GSE62872/GSE62872_series_matrix.txt.gz\n",
      "5"
     ]
    },
    {
     "name": "stderr",
     "output_type": "stream",
     "text": [
      "Started DOID_10534 analysis\n",
      "722.75 ms in get_analysis_df(\"stomach_cancer_tissue..., \"stomach_cancer_tissue..., '')\n",
      "727.99 ms in Loading dataframe for DOID_10534\n",
      "Matching sources: 2\n",
      "Excluded 1 source as single-class\n",
      "FAIL Can't perform meta-analysis on single source\n",
      "882.32 ms in perform_analysis({'analysis_name': 'DOI...)\n"
     ]
    },
    {
     "name": "stdout",
     "output_type": "stream",
     "text": [
      " DOID:10534 stomach cancer\n",
      "6"
     ]
    },
    {
     "name": "stderr",
     "output_type": "stream",
     "text": [
      "Started DOID_10608 analysis\n",
      "563.06 ms in get_analysis_df(\"celiac == 'celiac'\", \"celiac_control == 'ce..., '')\n",
      "567.75 ms in Loading dataframe for DOID_10608\n",
      "Matching sources: 1\n",
      "FAIL Can't perform meta-analysis on single source\n",
      "708.58 ms in perform_analysis({'analysis_name': 'DOI...)\n"
     ]
    },
    {
     "name": "stdout",
     "output_type": "stream",
     "text": [
      " DOID:10608 celiac disease\n",
      "7"
     ]
    },
    {
     "name": "stderr",
     "output_type": "stream",
     "text": [
      "Started DOID_10652 analysis\n",
      "739.94 ms in get_analysis_df(\"AD == 'AD'\", \"AD_Control == 'AD_Con..., '')\n",
      "744.71 ms in Loading dataframe for DOID_10652\n",
      "Matching sources: 4\n",
      "Excluded 2 sources as single-class\n",
      "Stats: 2 sources, 2 series, 2 platforms, 512 samples\n",
      "Loading data and calculating fold change for DOID_10652\n",
      "Loading data for GSE33000, id = 5836\n",
      "  1.25 s in get_probes(297)\n",
      "289.21 s in load_gse( series_id platform_id..., 5836, False)\n",
      " 18.21 s in get_gene_fold_change(<Gse GSE33000>, False, 0, None)\n",
      "Loading data for GSE6613, id = 11004\n",
      "941.73 ms in get_probes(2)\n",
      " 19.83 s in load_gse( series_id platform_id..., 11004, False)\n",
      "  2.48 s in get_gene_fold_change(<Gse GSE6613>, False, 0, None)\n",
      "330.45 s in Load/fold for DOID_10652\n",
      "Meta-Analyzing DOID_10652\n",
      "176.75 s in meta analysis of real data for DOID_10652\n",
      "169.41 ms in meta analysis of permutations for DOID_10652\n",
      "135.90 mks in get_balanced_permutations({'analysis_name': 'DOI...,  C H H_lower H_upper I..., Empty DataFrame Column...)\n",
      "177.61 s in Meta analysis for DOID_10652\n",
      "DONE DOID_10652 analysis\n",
      "508.99 s in perform_analysis({'analysis_name': 'DOI...)\n"
     ]
    },
    {
     "name": "stdout",
     "output_type": "stream",
     "text": [
      " DOID:10652 Alzheimer's disease\n",
      "8"
     ]
    },
    {
     "name": "stderr",
     "output_type": "stream",
     "text": [
      "Started DOID_10763 analysis\n",
      "488.44 ms in get_analysis_df(\"PHT == 'PHT' or hyper..., \"PHT_Control == 'PHT_C..., '')\n",
      "490.79 ms in Loading dataframe for DOID_10763\n",
      "Matching sources: 8\n",
      "Excluded 1 source as single-class\n",
      "Stats: 7 sources, 7 series, 6 platforms, 309 samples\n",
      "Loading data and calculating fold change for DOID_10763\n",
      "Loading data for GSE10767, id = 202\n",
      "  1.32 s in get_probes(4)\n",
      "  9.16 s in load_gse( series_id platform_id..., 202, False)\n",
      "  2.45 s in get_gene_fold_change(<Gse GSE10767>, False, 0, None)\n",
      "Loading data for GSE15197, id = 1359\n",
      "  1.02 s in get_probes(53)\n",
      " 15.59 s in load_gse( series_id platform_id..., 1359, False)\n",
      "  3.44 s in get_gene_fold_change(<Gse GSE15197>, False, 0, None)\n",
      "Loading data for GSE19617, id = 2473\n",
      "  1.28 s in get_probes(53)\n",
      " 13.37 s in load_gse( series_id platform_id..., 2473, False)\n",
      "  2.56 s in get_gene_fold_change(<Gse GSE19617>, False, 0, None)\n",
      "Loading data for GSE24988, id = 3871\n",
      "  1.07 s in get_probes(283)\n",
      " 34.78 s in load_gse( series_id platform_id..., 3871, False)\n",
      "  4.07 s in get_gene_fold_change(<Gse GSE24988>, False, 0, None)\n",
      "Loading data for GSE33463, id = 5944\n",
      "  1.26 s in get_probes(389)\n",
      " 64.29 s in load_gse( series_id platform_id..., 5944, False)\n",
      "  6.19 s in get_gene_fold_change(<Gse GSE33463>, False, 0, None)\n",
      "Loading data for GSE48149, id = 9192\n",
      "890.16 ms in get_probes(1292)\n",
      " 11.75 s in load_gse( series_id platform_id..., 9192, False)\n",
      "  1.85 s in get_gene_fold_change(<Gse GSE48149>, False, 0, None)\n",
      "Loading data for GSE703, id = 11135\n",
      "453.57 ms in get_probes(22)\n",
      "  2.27 s in load_gse( series_id platform_id..., 11135, False)\n",
      "777.34 ms in get_gene_fold_change(<Gse GSE703>, False, 0, None)\n",
      "175.39 s in Load/fold for DOID_10763\n",
      "Meta-Analyzing DOID_10763\n",
      "441.79 s in meta analysis of real data for DOID_10763\n",
      "651.15 ms in meta analysis of permutations for DOID_10763\n",
      "142.81 mks in get_balanced_permutations({'analysis_name': 'DOI...,  C H H_lower H_upper \\..., Empty DataFrame Column...)\n",
      "443.08 s in Meta analysis for DOID_10763\n",
      "DONE DOID_10763 analysis\n",
      "619.01 s in perform_analysis({'analysis_name': 'DOI...)\n"
     ]
    },
    {
     "name": "stdout",
     "output_type": "stream",
     "text": [
      " DOID:10763 hypertension\n",
      "9"
     ]
    },
    {
     "name": "stderr",
     "output_type": "stream",
     "text": [
      "Started DOID_10871 analysis\n",
      "848.99 ms in get_analysis_df(\"AMD == 'AMD'\", \"AMD_control == 'AMD_c..., '')\n",
      "854.04 ms in Loading dataframe for DOID_10871\n",
      "Matching sources: 1\n",
      "FAIL Can't perform meta-analysis on single source\n",
      "  1.01 s in perform_analysis({'analysis_name': 'DOI...)\n"
     ]
    },
    {
     "name": "stdout",
     "output_type": "stream",
     "text": [
      " DOID:10871 age related macular degeneration\n",
      "10"
     ]
    },
    {
     "name": "stderr",
     "output_type": "stream",
     "text": [
      "Started DOID_1094 analysis\n",
      "185.78 ms in get_analysis_df(\"ADHD == 'ADHD'\", \"ADHD_control == 'ADHD..., '')\n",
      "186.97 ms in Loading dataframe for DOID_1094\n",
      "Matching sources: 1\n",
      "Excluded 1 source by min samples\n",
      "FAIL Can't perform meta-analysis on no data\n",
      "212.46 ms in perform_analysis({'analysis_name': 'DOI...)\n"
     ]
    },
    {
     "name": "stdout",
     "output_type": "stream",
     "text": [
      " DOID:1094 attention deficit hyperactivity disorder\n",
      "11"
     ]
    },
    {
     "name": "stderr",
     "output_type": "stream",
     "text": [
      "Started DOID_11054 analysis\n",
      "351.86 ms in get_analysis_df(\"bladder_cancer == 'bl..., \"bladder_cancer_contro..., '')\n",
      "356.77 ms in Loading dataframe for DOID_11054\n",
      "Matching sources: 0\n",
      "422.93 ms in perform_analysis({'analysis_name': 'DOI...)\n"
     ]
    },
    {
     "name": "stdout",
     "output_type": "stream",
     "text": [
      " DOID:11054 urinary bladder cancer\n",
      "'Int64Index' object has no attribute 'labels'"
     ]
    },
    {
     "name": "stderr",
     "output_type": "stream",
     "text": [
      "Started DOID_11612 analysis\n",
      "308.30 ms in get_analysis_df(\"PCOS == 'PCOS'\", \"PCOS_control == 'PCOS..., '')\n",
      "309.70 ms in Loading dataframe for DOID_11612\n",
      "Matching sources: 11\n",
      "Stats: 11 sources, 10 series, 5 platforms, 215 samples\n",
      "Loading data and calculating fold change for DOID_11612\n",
      "Loading data for GSE10946, id = 254\n",
      "979.98 ms in get_probes(4)\n",
      " 18.73 s in load_gse( series_id platform_id..., 254, False)\n",
      "  3.37 s in get_gene_fold_change(<Gse GSE10946>, False, 0, None)\n",
      "Loading data for GSE1615, id = 1613\n",
      "660.74 ms in get_probes(2)\n",
      "  1.02 s in get_probes(50)\n",
      "  9.50 s in load_gse( series_id platform_id..., 1613, False)\n",
      "  2.54 s in get_gene_fold_change(<Gse GSE1615>, False, 0, None)\n",
      "Loading data for GSE34526, id = 6193\n",
      "  1.32 s in get_probes(4)\n",
      " 11.74 s in load_gse( series_id platform_id..., 6193, False)\n",
      "  2.72 s in get_gene_fold_change(<Gse GSE34526>, False, 0, None)\n",
      "Loading data for GSE43264, id = 8243\n",
      "811.73 ms in get_probes(1160)\n",
      "  5.04 s in load_gse( series_id platform_id..., 8243, False)\n",
      "  1.47 s in get_gene_fold_change(<Gse GSE43264>, False, 0, None)\n",
      "Loading data for GSE43322, id = 8252\n",
      "  1.11 s in get_probes(1160)\n",
      "  8.42 s in load_gse( series_id platform_id..., 8252, False)\n",
      "  1.71 s in get_gene_fold_change(<Gse GSE43322>, False, 0, None)\n",
      "Loading data for GSE48301, id = 9220\n",
      "  1.07 s in get_probes(283)\n",
      " 12.54 s in load_gse( series_id platform_id..., 9220, False)\n",
      "  2.28 s in get_gene_fold_change(<Gse GSE48301>, False, 0, None)\n",
      "Loading data for GSE5090, id = 9638\n",
      "973.14 ms in get_probes(2)\n",
      "  5.77 s in load_gse( series_id platform_id..., 9638, False)\n",
      "  1.67 s in get_gene_fold_change(<Gse GSE5090>, False, 0, None)\n",
      "Loading data for GSE5850, id = 10693\n",
      "  1.56 s in get_probes(4)\n",
      " 10.93 s in load_gse( series_id platform_id..., 10693, False)\n",
      "  2.69 s in get_gene_fold_change(<Gse GSE5850>, False, 0, None)\n",
      "Loading data for GSE6798, id = 11053\n",
      "  1.57 s in get_probes(4)\n",
      " 23.63 s in load_gse( series_id platform_id..., 11053, False)\n",
      "  3.08 s in get_gene_fold_change(<Gse GSE6798>, False, 0, None)\n",
      "Loading data for GSE8157, id = 11431\n",
      "  1.52 s in get_probes(4)\n",
      " 33.74 s in load_gse( series_id platform_id..., 11431, False)\n",
      "  3.45 s in get_gene_fold_change(<Gse GSE8157>, False, 0, None)\n",
      "168.75 s in Load/fold for DOID_11612\n",
      "Meta-Analyzing DOID_11612\n",
      "443.14 s in meta analysis of real data for DOID_11612\n",
      "  1.17 s in meta analysis of permutations for DOID_11612\n",
      "149.01 mks in get_balanced_permutations({'analysis_name': 'DOI...,  C H H_lower H_upper \\..., Empty DataFrame Column...)\n",
      "444.97 s in Meta analysis for DOID_11612\n",
      "DONE DOID_11612 analysis\n",
      "614.08 s in perform_analysis({'analysis_name': 'DOI...)\n"
     ]
    },
    {
     "name": "stdout",
     "output_type": "stream",
     "text": [
      "\n",
      "12 DOID:11612 polycystic ovary syndrome\n",
      "13"
     ]
    },
    {
     "name": "stderr",
     "output_type": "stream",
     "text": [
      "Started DOID_11714 analysis\n",
      "918.56 ms in get_analysis_df(\"GDM == 'GDM'\", \"GDM_control == 'GDM_c..., '')\n",
      "922.93 ms in Loading dataframe for DOID_11714\n",
      "Matching sources: 4\n",
      "Excluded 2 sources by min samples\n",
      "Stats: 2 sources, 2 series, 2 platforms, 12 samples\n",
      "Loading data and calculating fold change for DOID_11714\n",
      "Loading data for GSE49524, id = 9415\n",
      "943.02 ms in get_probes(482)\n",
      "  4.58 s in load_gse( series_id platform_id..., 9415, False)\n",
      "  1.34 s in get_gene_fold_change(<Gse GSE49524>, False, 0, None)\n",
      "Loading data for GSE65737, id = 13510\n",
      " 36.55 ms in get_probes(1802)\n",
      "  7.72 s in load_gse( series_id platform_id..., 13510, False)\n",
      "256.72 ms in get_gene_fold_change(<Gse GSE65737>, False, 0, None)\n",
      " 14.13 s in Load/fold for DOID_11714\n",
      "Meta-Analyzing DOID_11714\n",
      " 19.71 s in meta analysis of real data for DOID_11714\n",
      " 19.71 s in Meta analysis for DOID_11714\n",
      " 34.95 s in perform_analysis({'analysis_name': 'DOI...)\n"
     ]
    },
    {
     "name": "stdout",
     "output_type": "stream",
     "text": [
      " DOID:11714 gestational diabetes\n",
      "'mygene_sym'\n",
      "14"
     ]
    },
    {
     "name": "stderr",
     "output_type": "stream",
     "text": [
      "Started DOID_11949 analysis\n",
      "746.16 ms in get_analysis_df(\"CJD == 'CJD'\", \"CJD_control == 'CJD_c..., '')\n",
      "751.38 ms in Loading dataframe for DOID_11949\n",
      "Matching sources: 1\n",
      "Excluded 1 source by min samples\n",
      "FAIL Can't perform meta-analysis on no data\n",
      "905.34 ms in perform_analysis({'analysis_name': 'DOI...)\n"
     ]
    },
    {
     "name": "stdout",
     "output_type": "stream",
     "text": [
      " DOID:11949 Creutzfeldt-Jakob disease\n",
      "15"
     ]
    },
    {
     "name": "stderr",
     "output_type": "stream",
     "text": [
      "Started DOID_12306 analysis\n",
      "572.16 ms in get_analysis_df(\"vitiligo == 'vitiligo'\", \"vitiligo_control == '..., '')\n",
      "577.27 ms in Loading dataframe for DOID_12306\n",
      "Matching sources: 1\n",
      "FAIL Can't perform meta-analysis on single source\n",
      "724.77 ms in perform_analysis({'analysis_name': 'DOI...)\n"
     ]
    },
    {
     "name": "stdout",
     "output_type": "stream",
     "text": [
      " DOID:12306 vitiligo\n",
      "16"
     ]
    },
    {
     "name": "stderr",
     "output_type": "stream",
     "text": [
      "Started DOID_12365 analysis\n",
      "818.53 ms in get_analysis_df(\"malaria == 'malaria'\", \"malaria_control == 'm..., '')\n",
      "823.29 ms in Loading dataframe for DOID_12365\n",
      "Matching sources: 8\n",
      "Excluded 1 source as single-class\n",
      "Excluded 1 source by min samples\n",
      "Stats: 6 sources, 6 series, 5 platforms, 295 samples\n",
      "Loading data and calculating fold change for DOID_12365\n",
      "Loading data for GSE15221, id = 1372\n",
      "  1.28 s in get_probes(17)\n",
      " 19.15 s in load_gse( series_id platform_id..., 1372, False)\n",
      "  2.35 s in get_gene_fold_change(<Gse GSE15221>, False, 0, None)\n",
      "Loading data for GSE18323, id = 2164\n",
      "  1.03 s in get_probes(9)\n",
      " 50.09 s in load_gse( series_id platform_id..., 2164, False)\n",
      "  2.82 s in get_gene_fold_change(<Gse GSE18323>, False, 0, None)\n",
      "Loading data for GSE24849, id = 3840\n",
      "  1.60 s in get_probes(4)\n",
      " 20.52 s in load_gse( series_id platform_id..., 3840, False)\n",
      "  3.09 s in get_gene_fold_change(<Gse GSE24849>, False, 0, None)\n",
      "Loading data for GSE34404, id = 6155\n",
      "  1.39 s in get_probes(674)\n",
      " 80.91 s in load_gse( series_id platform_id..., 6155, False)\n",
      "  9.56 s in get_gene_fold_change(<Gse GSE34404>, False, 0, None)\n",
      "Loading data for GSE5418, id = 10145\n",
      "969.36 ms in get_probes(2)\n",
      " 14.84 s in load_gse( series_id platform_id..., 10145, False)\n",
      "  2.44 s in get_gene_fold_change(<Gse GSE5418>, False, 0, None)\n",
      "Loading data for GSE7586, id = 11293\n",
      "  1.51 s in get_probes(4)\n",
      " 14.41 s in load_gse( series_id platform_id..., 11293, False)\n",
      "  2.73 s in get_gene_fold_change(<Gse GSE7586>, False, 0, None)\n",
      "225.28 s in Load/fold for DOID_12365\n",
      "Meta-Analyzing DOID_12365\n",
      "455.48 s in meta analysis of real data for DOID_12365\n",
      "593.64 ms in meta analysis of permutations for DOID_12365\n",
      "139.00 mks in get_balanced_permutations({'analysis_name': 'DOI...,  C H H_lower H_upper \\..., Empty DataFrame Column...)\n",
      "456.69 s in Meta analysis for DOID_12365\n",
      "DONE DOID_12365 analysis\n",
      "683.01 s in perform_analysis({'analysis_name': 'DOI...)\n"
     ]
    },
    {
     "name": "stdout",
     "output_type": "stream",
     "text": [
      " DOID:12365 malaria\n",
      "17"
     ]
    },
    {
     "name": "stderr",
     "output_type": "stream",
     "text": [
      "Started DOID_12849 analysis\n",
      "610.60 ms in get_analysis_df(\"autism == 'autism'\", \"autism_control == 'au..., '')\n",
      "611.93 ms in Loading dataframe for DOID_12849\n",
      "Matching sources: 14\n",
      "Excluded 1 source as single-class\n",
      "Excluded 1 source by min samples\n",
      "Stats: 12 sources, 11 series, 7 platforms, 1302 samples\n",
      "Loading data and calculating fold change for DOID_12849\n",
      "Loading data for GSE15402, id = 1425\n",
      "  1.20 s in get_probes(497)\n",
      " 46.25 s in load_gse( series_id platform_id..., 1425, False)\n",
      "  4.52 s in get_gene_fold_change(<Gse GSE15402>, False, 0, None)\n",
      "Loading data for GSE15451, id = 1434\n",
      "  1.23 s in get_probes(497)\n",
      " 17.10 s in load_gse( series_id platform_id..., 1434, False)\n",
      "  2.25 s in get_gene_fold_change(<Gse GSE15451>, False, 0, None)\n",
      "Loading data for GSE18123, id = 2111\n",
      "  1.49 s in get_probes(4)\n",
      "879.19 ms in get_probes(283)\n",
      "128.42 s in load_gse( series_id platform_id..., 2111, False)\n",
      " 10.78 s in get_gene_fold_change(<Gse GSE18123>, False, 0, None)\n",
      "Loading data for GSE25507, id = 4004\n",
      "  1.54 s in get_probes(4)\n",
      " 96.60 s in load_gse( series_id platform_id..., 4004, False)\n",
      " 11.76 s in get_gene_fold_change(<Gse GSE25507>, False, 0, None)\n",
      "Loading data for GSE26415, id = 4204\n",
      "  1.27 s in get_probes(53)\n",
      " 19.45 s in load_gse( series_id platform_id..., 4204, False)\n",
      "  5.17 s in get_gene_fold_change(<Gse GSE26415>, False, 0, None)\n",
      "Loading data for GSE28521, id = 4729\n",
      "  1.06 s in get_probes(331)\n",
      " 11.03 s in load_gse( series_id platform_id..., 4729, False)\n",
      "  3.55 s in get_gene_fold_change(<Gse GSE28521>, False, 0, None)\n",
      "Loading data for GSE37772, id = 6963\n",
      "  1.09 s in get_probes(331)\n",
      "123.23 s in load_gse( series_id platform_id..., 6963, False)\n",
      " 16.81 s in get_gene_fold_change(<Gse GSE37772>, False, 0, None)\n",
      "Loading data for GSE38322, id = 7080\n",
      "  1.28 s in get_probes(674)\n",
      " 23.09 s in load_gse( series_id platform_id..., 7080, False)\n",
      "  3.12 s in get_gene_fold_change(<Gse GSE38322>, False, 0, None)\n",
      "Loading data for GSE43076, id = 8190\n",
      "242.65 ms in load_gse( series_id platform_id..., 8190, False)\n",
      "525.92 s in Load/fold for DOID_12849\n",
      "526.77 s in perform_analysis({'analysis_name': 'DOI...)\n"
     ]
    },
    {
     "name": "stdout",
     "output_type": "stream",
     "text": [
      " DOID:12849 autistic disorder\n",
      "zero-size array to reduction operation maximum which has no identity\n",
      "18"
     ]
    },
    {
     "name": "stderr",
     "output_type": "stream",
     "text": [
      "Started DOID_13223 analysis\n",
      "747.72 ms in get_analysis_df(\"uterine_fibroid == 'u..., \"uterine_fibroid_contr..., '')\n",
      "752.43 ms in Loading dataframe for DOID_13223\n",
      "Matching sources: 7\n",
      "Excluded 1 source as single-class\n",
      "Stats: 6 sources, 6 series, 5 platforms, 124 samples\n",
      "Loading data and calculating fold change for DOID_13223\n",
      "Loading data for GSE2724, id = 4435\n",
      "913.52 ms in get_probes(2)\n",
      "  5.73 s in load_gse( series_id platform_id..., 4435, False)\n",
      "  1.67 s in get_gene_fold_change(<Gse GSE2724>, False, 0, None)\n",
      "Loading data for GSE28945, id = 4848\n",
      "130.80 ms in get_probes(929)\n",
      "640.44 ms in load_gse( series_id platform_id..., 4848, False)\n",
      "384.30 ms in get_gene_fold_change(<Gse GSE28945>, False, 0, None)\n",
      "Loading data for GSE41386, id = 7773\n",
      "  1.58 s in get_probes(4)\n",
      " 10.08 s in load_gse( series_id platform_id..., 7773, False)\n",
      "  2.64 s in get_gene_fold_change(<Gse GSE41386>, False, 0, None)\n",
      "Loading data for GSE593, id = 10753\n",
      "  1.01 s in get_probes(2)\n",
      "  4.53 s in load_gse( series_id platform_id..., 10753, False)\n",
      "  1.50 s in get_gene_fold_change(<Gse GSE593>, False, 0, None)\n",
      "Loading data for GSE9511, id = 11757\n",
      "473.53 ms in get_probes(22)\n",
      "  2.72 s in load_gse( series_id platform_id..., 11757, False)\n",
      "706.71 ms in get_gene_fold_change(<Gse GSE9511>, False, 0, None)\n",
      "Loading data for GSE64763, id = 13408\n",
      "  1.01 s in get_probes(9)\n",
      " 15.53 s in load_gse( series_id platform_id..., 13408, False)\n",
      "  2.72 s in get_gene_fold_change(<Gse GSE64763>, False, 0, None)\n",
      " 51.02 s in Load/fold for DOID_13223\n",
      "Meta-Analyzing DOID_13223\n",
      "280.91 s in meta analysis of real data for DOID_13223\n",
      "313.82 ms in meta analysis of permutations for DOID_13223\n",
      "118.02 mks in get_balanced_permutations({'analysis_name': 'DOI...,  C H H_lower H_upper \\..., Empty DataFrame Column...)\n",
      "281.85 s in Meta analysis for DOID_13223\n",
      "DONE DOID_13223 analysis\n",
      "333.83 s in perform_analysis({'analysis_name': 'DOI...)\n"
     ]
    },
    {
     "name": "stdout",
     "output_type": "stream",
     "text": [
      " DOID:13223 uterine fibroid\n",
      "19"
     ]
    },
    {
     "name": "stderr",
     "output_type": "stream",
     "text": [
      "Started DOID_1324 analysis\n",
      "  1.93 s in get_analysis_df(\"NSCLC == 'NSCLC' or P..., \"lung_cancer_control =..., '')\n",
      "  1.93 s in Loading dataframe for DOID_1324\n",
      "Matching sources: 51\n",
      "Excluded 49 sources as single-class\n",
      "Stats: 2 sources, 2 series, 2 platforms, 800 samples\n",
      "Loading data and calculating fold change for DOID_1324\n",
      "Loading data for GSE19804, id = 2533\n",
      "  1.53 s in get_probes(4)\n",
      " 65.21 s in load_gse( series_id platform_id..., 2533, False)\n",
      "  8.88 s in get_gene_fold_change(<Gse GSE19804>, False, 0, None)\n",
      "Loading data for GSE66499, id = 13592\n",
      "  1.30 s in get_probes(283)\n",
      "243.20 s in load_gse( series_id platform_id..., 13592, False)\n",
      " 22.27 s in get_gene_fold_change(<Gse GSE66499>, False, 0, None)\n",
      "340.54 s in Load/fold for DOID_1324\n",
      "Meta-Analyzing DOID_1324\n",
      "328.22 s in meta analysis of real data for DOID_1324\n",
      "188.37 ms in meta analysis of permutations for DOID_1324\n",
      "119.92 mks in get_balanced_permutations({'analysis_name': 'DOI...,  C H H_lower H_upper I..., Empty DataFrame Column...)\n",
      "329.09 s in Meta analysis for DOID_1324\n",
      "DONE DOID_1324 analysis\n",
      "671.77 s in perform_analysis({'analysis_name': 'DOI...)\n"
     ]
    },
    {
     "name": "stdout",
     "output_type": "stream",
     "text": [
      " DOID:1324 lung cancer\n",
      "20"
     ]
    },
    {
     "name": "stderr",
     "output_type": "stream",
     "text": [
      "Started DOID_13241 analysis\n",
      "637.08 ms in get_analysis_df(\"Behcet == 'Behcet'\", \"Behcet_control == 'Be..., '')\n",
      "641.39 ms in Loading dataframe for DOID_13241\n",
      "Matching sources: 1\n",
      "FAIL Can't perform meta-analysis on single source\n",
      "782.27 ms in perform_analysis({'analysis_name': 'DOI...)\n"
     ]
    },
    {
     "name": "stdout",
     "output_type": "stream",
     "text": [
      " DOID:13241 Behcet's disease\n",
      "21"
     ]
    },
    {
     "name": "stderr",
     "output_type": "stream",
     "text": [
      "Started DOID_13378 analysis\n",
      "764.93 ms in get_analysis_df(\"Kawasaki == 'Kawasaki'\", \"Kawasaki_control == '..., '')\n",
      "769.27 ms in Loading dataframe for DOID_13378\n",
      "Matching sources: 1\n",
      "FAIL Can't perform meta-analysis on single source\n",
      "908.00 ms in perform_analysis({'analysis_name': 'DOI...)\n"
     ]
    },
    {
     "name": "stdout",
     "output_type": "stream",
     "text": [
      " DOID:13378 Kawasaki disease\n",
      "22"
     ]
    },
    {
     "name": "stderr",
     "output_type": "stream",
     "text": [
      "Started DOID_14221 analysis\n",
      "703.31 ms in get_analysis_df(\"MetS == 'MetS'\", \"MetS_Control == 'MetS..., '')\n",
      "707.55 ms in Loading dataframe for DOID_14221\n",
      "Matching sources: 4\n",
      "Excluded 4 sources as single-class\n",
      "791.44 ms in perform_analysis({'analysis_name': 'DOI...)\n"
     ]
    },
    {
     "name": "stdout",
     "output_type": "stream",
     "text": [
      " DOID:14221 metabolic syndrome X\n",
      "'Int64Index' object has no attribute 'labels'"
     ]
    },
    {
     "name": "stderr",
     "output_type": "stream",
     "text": [
      "Started DOID_14227 analysis\n",
      "532.66 ms in get_analysis_df(\"azoospermia == 'azoos..., \"azoospermia_control =..., '')\n",
      "536.91 ms in Loading dataframe for DOID_14227\n",
      "Matching sources: 2\n",
      "Stats: 2 sources, 2 series, 1 platforms, 51 samples\n",
      "Loading data and calculating fold change for DOID_14227\n",
      "Loading data for GSE45885, id = 8763\n",
      "981.61 ms in get_probes(283)\n",
      " 13.23 s in load_gse( series_id platform_id..., 8763, False)\n",
      "  2.22 s in get_gene_fold_change(<Gse GSE45885>, False, 0, None)\n",
      "Loading data for GSE45887, id = 8764\n",
      "900.74 ms in get_probes(283)\n",
      " 10.15 s in load_gse( series_id platform_id..., 8764, False)\n",
      "  1.94 s in get_gene_fold_change(<Gse GSE45887>, False, 0, None)\n",
      " 28.18 s in Load/fold for DOID_14227\n",
      "Meta-Analyzing DOID_14227\n",
      "348.82 s in meta analysis of real data for DOID_14227\n",
      "132.22 ms in meta analysis of permutations for DOID_14227\n",
      "128.98 mks in get_balanced_permutations({'analysis_name': 'DOI...,  C H H_lower H_upper I..., Empty DataFrame Column...)\n",
      "349.66 s in Meta analysis for DOID_14227\n",
      "DONE DOID_14227 analysis\n",
      "378.54 s in perform_analysis({'analysis_name': 'DOI...)\n"
     ]
    },
    {
     "name": "stdout",
     "output_type": "stream",
     "text": [
      "\n",
      "23 DOID:14227 azoospermia\n",
      "24"
     ]
    },
    {
     "name": "stderr",
     "output_type": "stream",
     "text": [
      "Started DOID_14330 analysis\n",
      "655.89 ms in get_analysis_df(\"PD == 'PD'\", \"PD_control == 'PD_con..., '')\n",
      "660.41 ms in Loading dataframe for DOID_14330\n",
      "Matching sources: 30\n",
      "Excluded 2 sources as single-class\n",
      "Excluded 1 source by min samples\n",
      "Stats: 27 sources, 26 series, 12 platforms, 946 samples\n",
      "Loading data and calculating fold change for DOID_14330\n",
      "Loading data for GSE18838, id = 2292\n",
      "  1.15 s in get_probes(280)\n",
      "  7.85 s in load_gse( series_id platform_id..., 2292, False)\n",
      "  2.62 s in get_gene_fold_change(<Gse GSE18838>, False, 0, None)\n",
      "Loading data for GSE19587, id = 2467\n",
      "967.16 ms in get_probes(9)\n",
      "  7.04 s in load_gse( series_id platform_id..., 2467, False)\n",
      "  1.77 s in get_gene_fold_change(<Gse GSE19587>, False, 0, None)\n",
      "Loading data for GSE20141, id = 2616\n",
      "  1.39 s in get_probes(4)\n",
      " 14.26 s in load_gse( series_id platform_id..., 2616, False)\n",
      "  2.98 s in get_gene_fold_change(<Gse GSE20141>, False, 0, None)\n",
      "Loading data for GSE20146, id = 2619\n",
      "  1.36 s in get_probes(4)\n",
      " 15.06 s in load_gse( series_id platform_id..., 2619, False)\n",
      "  3.08 s in get_gene_fold_change(<Gse GSE20146>, False, 0, None)\n",
      "Loading data for GSE20153, id = 2621\n",
      "  1.56 s in get_probes(4)\n",
      " 13.54 s in load_gse( series_id platform_id..., 2621, False)\n",
      "  2.79 s in get_gene_fold_change(<Gse GSE20153>, False, 0, None)\n",
      "Loading data for GSE20163, id = 2625\n",
      "944.71 ms in get_probes(2)\n",
      "  6.54 s in load_gse( series_id platform_id..., 2625, False)\n",
      "303.59 ms in get_gene_fold_change(<Gse GSE20163>, False, 0, None)\n",
      "Loading data for GSE20164, id = 2626\n",
      "890.96 ms in get_probes(2)\n",
      "  5.22 s in load_gse( series_id platform_id..., 2626, False)\n",
      "  1.00 s in get_gene_fold_change(<Gse GSE20164>, False, 0, None)\n",
      "Loading data for GSE20168, id = 2628\n",
      "913.50 ms in get_probes(2)\n",
      "  8.67 s in load_gse( series_id platform_id..., 2628, False)\n",
      "  1.96 s in get_gene_fold_change(<Gse GSE20168>, False, 0, None)\n",
      "Loading data for GSE20186, id = 2635\n",
      "  1.03 s in get_probes(2)\n",
      " 11.48 s in load_gse( series_id platform_id..., 2635, False)\n",
      "  1.87 s in get_gene_fold_change(<Gse GSE20186>, False, 0, None)\n",
      "Loading data for GSE20291, id = 2660\n",
      "970.30 ms in get_probes(2)\n",
      "  9.85 s in load_gse( series_id platform_id..., 2660, False)\n",
      "  2.11 s in get_gene_fold_change(<Gse GSE20291>, False, 0, None)\n",
      "Loading data for GSE20292, id = 2661\n",
      "999.10 ms in get_probes(2)\n",
      "  8.71 s in load_gse( series_id platform_id..., 2661, False)\n",
      "  2.00 s in get_gene_fold_change(<Gse GSE20292>, False, 0, None)\n",
      "Loading data for GSE20295, id = 2663\n",
      "964.69 ms in get_probes(2)\n",
      " 22.61 s in load_gse( series_id platform_id..., 2663, False)\n",
      "  3.02 s in get_gene_fold_change(<Gse GSE20295>, False, 0, None)\n",
      "Loading data for GSE20314, id = 2668\n",
      "992.65 ms in get_probes(2)\n",
      "  4.73 s in load_gse( series_id platform_id..., 2668, False)\n",
      "  1.38 s in get_gene_fold_change(<Gse GSE20314>, False, 0, None)\n",
      "Loading data for GSE20333, id = 2674\n",
      "545.15 ms in get_probes(80)\n",
      "  2.13 s in load_gse( series_id platform_id..., 2674, False)\n",
      "784.90 ms in get_gene_fold_change(<Gse GSE20333>, False, 0, None)\n",
      "Loading data for GSE22491, id = 3215\n",
      "  1.40 s in get_probes(53)\n",
      " 12.44 s in load_gse( series_id platform_id..., 3215, False)\n",
      "  2.25 s in get_gene_fold_change(<Gse GSE22491>, False, 0, None)\n",
      "Loading data for GSE23290, id = 3414\n",
      "  1.34 s in get_probes(280)\n",
      "  5.48 s in load_gse( series_id platform_id..., 3414, False)\n",
      "  2.15 s in get_gene_fold_change(<Gse GSE23290>, False, 0, None)\n",
      "Loading data for GSE24378, id = 3706\n",
      "  1.68 s in get_probes(67)\n",
      " 17.72 s in load_gse( series_id platform_id..., 3706, False)\n",
      "  3.11 s in get_gene_fold_change(<Gse GSE24378>, False, 0, None)\n",
      "Loading data for GSE28894, id = 4829\n",
      "908.51 ms in get_probes(3)\n",
      " 27.70 s in load_gse( series_id platform_id..., 4829, False)\n",
      "  4.25 s in get_gene_fold_change(<Gse GSE28894>, False, 0, None)\n",
      "Loading data for GSE34287, id = 6132\n",
      " 32.13 s in get_probes(563)\n",
      "1075.81 s in load_gse( series_id platform_id..., 6132, False)\n",
      "122.21 s in get_gene_fold_change(<Gse GSE34287>, False, 0, None)\n",
      "Loading data for GSE34516, id = 6187\n",
      "  1.29 s in get_probes(280)\n",
      "  4.84 s in load_gse( series_id platform_id..., 6187, False)\n",
      "  4.18 s in get_gene_fold_change(<Gse GSE34516>, False, 0, None)\n",
      "Loading data for GSE6613, id = 11004\n",
      "937.89 ms in get_probes(2)\n",
      " 20.08 s in load_gse( series_id platform_id..., 11004, False)\n",
      "  3.10 s in get_gene_fold_change(<Gse GSE6613>, False, 0, None)\n",
      "Loading data for GSE7621, id = 11300\n",
      "  1.51 s in get_probes(4)\n",
      " 16.59 s in load_gse( series_id platform_id..., 11300, False)\n",
      "  3.47 s in get_gene_fold_change(<Gse GSE7621>, False, 0, None)\n",
      "Loading data for GSE8397, id = 11469\n",
      "  1.12 s in get_probes(2)\n",
      "  1.02 s in get_probes(50)\n",
      " 29.59 s in load_gse( series_id platform_id..., 11469, False)\n",
      "  4.13 s in get_gene_fold_change(<Gse GSE8397>, False, 0, None)\n",
      "Loading data for GSE43490, id = 12100\n",
      "  1.37 s in get_probes(53)\n",
      " 11.94 s in load_gse( series_id platform_id..., 12100, False)\n",
      "  3.18 s in get_gene_fold_change(<Gse GSE43490>, False, 0, None)\n",
      "Loading data for GSE54282, id = 12418\n",
      "965.61 ms in get_probes(1367)\n",
      " 11.64 s in load_gse( series_id platform_id..., 12418, False)\n",
      "  1.87 s in get_gene_fold_change(<Gse GSE54282>, False, 0, None)\n",
      "Loading data for GSE57475, id = 12634\n",
      "  1.28 s in get_probes(389)\n",
      " 72.07 s in load_gse( series_id platform_id..., 12634, False)\n",
      "  7.31 s in get_gene_fold_change(<Gse GSE57475>, False, 0, None)\n",
      "1647.54 s in Load/fold for DOID_14330\n",
      "Meta-Analyzing DOID_14330\n",
      "491.99 s in meta analysis of real data for DOID_14330\n",
      "  7.50 s in meta analysis of permutations for DOID_14330\n",
      "141.86 mks in get_balanced_permutations({'analysis_name': 'DOI...,  C H H_lower H_upper \\..., Empty DataFrame Column...)\n",
      "500.13 s in Meta analysis for DOID_14330\n",
      "DONE DOID_14330 analysis\n",
      "2148.68 s in perform_analysis({'analysis_name': 'DOI...)\n"
     ]
    },
    {
     "name": "stdout",
     "output_type": "stream",
     "text": [
      " DOID:14330 Parkinson's disease\n",
      "25"
     ]
    },
    {
     "name": "stderr",
     "output_type": "stream",
     "text": [
      "Started DOID_1595 analysis\n",
      "  2.84 s in get_analysis_df(\"Depression == 'Depres..., \"MDD_control == 'MDD_c..., '')\n",
      "  2.84 s in Loading dataframe for DOID_1595\n",
      "Matching sources: 19\n",
      "Excluded 5 sources as single-class\n",
      "Stats: 14 sources, 14 series, 6 platforms, 533 samples\n",
      "Loading data and calculating fold change for DOID_1595\n",
      "Loading data for GSE12654, id = 704\n",
      "661.77 ms in get_probes(7)\n",
      "  8.84 s in load_gse( series_id platform_id..., 704, False)\n",
      "  1.17 s in get_gene_fold_change(<Gse GSE12654>, False, 0, None)\n",
      "Loading data for GSE19738, id = 2518\n",
      "  1.51 s in get_probes(282)\n",
      " 40.48 s in load_gse( series_id platform_id..., 2518, False)\n",
      "  7.21 s in get_gene_fold_change(<Gse GSE19738>, False, 0, None)\n",
      "Loading data for GSE39653, id = 7363\n",
      "  1.62 s in get_probes(674)\n",
      " 30.00 s in load_gse( series_id platform_id..., 7363, False)\n",
      "  3.47 s in get_gene_fold_change(<Gse GSE39653>, False, 0, None)\n",
      "Loading data for GSE54562, id = 10202\n",
      "  1.19 s in get_probes(389)\n",
      " 15.33 s in load_gse( series_id platform_id..., 10202, False)\n",
      "  2.28 s in get_gene_fold_change(<Gse GSE54562>, False, 0, None)\n",
      "Loading data for GSE54563, id = 10203\n",
      "  1.14 s in get_probes(389)\n",
      " 32.71 s in load_gse( series_id platform_id..., 10203, False)\n",
      "  3.38 s in get_gene_fold_change(<Gse GSE54563>, False, 0, None)\n",
      "Loading data for GSE54564, id = 10204\n",
      "  1.14 s in get_probes(389)\n",
      " 27.26 s in load_gse( series_id platform_id..., 10204, False)\n",
      "  2.90 s in get_gene_fold_change(<Gse GSE54564>, False, 0, None)\n",
      "Loading data for GSE54565, id = 10205\n",
      "  1.46 s in get_probes(4)\n",
      " 29.40 s in load_gse( series_id platform_id..., 10205, False)\n",
      "  3.58 s in get_gene_fold_change(<Gse GSE54565>, False, 0, None)\n",
      "Loading data for GSE54566, id = 10206\n",
      "  1.49 s in get_probes(4)\n",
      " 26.43 s in load_gse( series_id platform_id..., 10206, False)\n",
      "  3.28 s in get_gene_fold_change(<Gse GSE54566>, False, 0, None)\n",
      "Loading data for GSE54567, id = 10207\n",
      "  1.40 s in get_probes(4)\n",
      " 22.19 s in load_gse( series_id platform_id..., 10207, False)\n",
      "  3.56 s in get_gene_fold_change(<Gse GSE54567>, False, 0, None)\n",
      "Loading data for GSE54568, id = 10208\n",
      "  1.45 s in get_probes(4)\n",
      " 23.25 s in load_gse( series_id platform_id..., 10208, False)\n",
      "  3.74 s in get_gene_fold_change(<Gse GSE54568>, False, 0, None)\n",
      "Loading data for GSE54570, id = 10210\n",
      "884.42 ms in get_probes(2)\n",
      "  6.99 s in load_gse( series_id platform_id..., 10210, False)\n",
      "  1.90 s in get_gene_fold_change(<Gse GSE54570>, False, 0, None)\n",
      "Loading data for GSE54571, id = 10211\n",
      "  1.57 s in get_probes(4)\n",
      " 20.90 s in load_gse( series_id platform_id..., 10211, False)\n",
      "  3.38 s in get_gene_fold_change(<Gse GSE54571>, False, 0, None)\n",
      "Loading data for GSE54572, id = 10212\n",
      "  1.46 s in get_probes(4)\n",
      " 19.59 s in load_gse( series_id platform_id..., 10212, False)\n",
      "  3.37 s in get_gene_fold_change(<Gse GSE54572>, False, 0, None)\n",
      "Loading data for GSE54575, id = 10213\n",
      "  1.03 s in get_probes(2)\n",
      "  6.82 s in load_gse( series_id platform_id..., 10213, False)\n",
      "  1.84 s in get_gene_fold_change(<Gse GSE54575>, False, 0, None)\n",
      "361.91 s in Load/fold for DOID_1595\n",
      "Meta-Analyzing DOID_1595\n",
      "460.87 s in meta analysis of real data for DOID_1595\n",
      "  1.48 s in meta analysis of permutations for DOID_1595\n",
      "121.83 mks in get_balanced_permutations({'analysis_name': 'DOI...,  C H H_lower H_upper \\..., Empty DataFrame Column...)\n",
      "462.97 s in Meta analysis for DOID_1595\n",
      "DONE DOID_1595 analysis\n",
      "827.97 s in perform_analysis({'analysis_name': 'DOI...)\n"
     ]
    },
    {
     "name": "stdout",
     "output_type": "stream",
     "text": [
      " DOID:1595 endogenous depression\n",
      "26"
     ]
    },
    {
     "name": "stderr",
     "output_type": "stream",
     "text": [
      "Started DOID_1612 analysis\n",
      "  2.27 s in get_analysis_df(\"breast_cancer == 'bre..., \"breast_cancer_control..., '')\n",
      "  2.27 s in Loading dataframe for DOID_1612\n",
      "Matching sources: 63\n",
      "Excluded 33 sources as single-class\n",
      "Excluded 1 source by min samples\n",
      "Stats: 29 sources, 25 series, 16 platforms, 1819 samples\n",
      "Loading data and calculating fold change for DOID_1612\n",
      "Loading data for GSE10780, id = 206\n",
      "  1.61 s in get_probes(4)\n",
      "123.70 s in load_gse( series_id platform_id..., 206, False)\n",
      " 13.47 s in get_gene_fold_change(<Gse GSE10780>, False, 0, None)\n",
      "Loading data for GSE10797, id = 212\n",
      "  1.01 s in get_probes(9)\n",
      " 22.86 s in load_gse( series_id platform_id..., 212, False)\n",
      "  2.99 s in get_gene_fold_change(<Gse GSE10797>, False, 0, None)\n",
      "Loading data for GSE10810, id = 218\n",
      "  1.35 s in get_probes(4)\n",
      " 17.63 s in load_gse( series_id platform_id..., 218, False)\n",
      "  4.83 s in get_gene_fold_change(<Gse GSE10810>, False, 0, None)\n",
      "Loading data for GSE10885, id = 238\n",
      "895.95 ms in get_probes(83)\n",
      "902.96 ms in get_probes(49)\n",
      " 42.36 s in load_gse( series_id platform_id..., 238, False)\n",
      "  7.02 s in get_gene_fold_change(<Gse GSE10885>, False, 0, None)\n",
      "Loading data for GSE10886, id = 239\n",
      "895.56 ms in get_probes(83)\n",
      " 37.39 s in load_gse( series_id platform_id..., 239, False)\n",
      "  3.67 s in get_gene_fold_change(<Gse GSE10886>, False, 0, None)\n",
      "Loading data for GSE11545, id = 412\n",
      "858.29 ms in get_probes(60)\n",
      " 26.19 s in load_gse( series_id platform_id..., 412, False)\n",
      "  1.81 s in get_gene_fold_change(<Gse GSE11545>, False, 0, None)\n",
      "Loading data for GSE13293, id = 864\n",
      "161.28 ms in get_probes(399)\n",
      "188.62 ms in get_probes(401)\n",
      " 23.14 s in load_gse( series_id platform_id..., 864, False)\n",
      "883.80 ms in get_gene_fold_change(<Gse GSE13293>, False, 0, None)\n",
      "Loading data for GSE14548, id = 1177\n",
      "  1.59 s in get_probes(67)\n",
      " 51.72 s in load_gse( series_id platform_id..., 1177, False)\n",
      "  6.33 s in get_gene_fold_change(<Gse GSE14548>, False, 0, None)\n",
      "Loading data for GSE15852, id = 1538\n",
      "938.99 ms in get_probes(2)\n",
      " 19.72 s in load_gse( series_id platform_id..., 1538, False)\n",
      "  3.81 s in get_gene_fold_change(<Gse GSE15852>, False, 0, None)\n",
      "Loading data for GSE20266, id = 2653\n",
      "  1.63 s in get_probes(4)\n",
      " 13.57 s in load_gse( series_id platform_id..., 2653, False)\n",
      "  3.13 s in get_gene_fold_change(<Gse GSE20266>, False, 0, None)\n",
      "Loading data for GSE20437, id = 2693\n",
      "887.17 ms in get_probes(2)\n",
      "  9.70 s in load_gse( series_id platform_id..., 2693, False)\n",
      "  2.15 s in get_gene_fold_change(<Gse GSE20437>, False, 0, None)\n",
      "Loading data for GSE21947, id = 3053\n"
     ]
    },
    {
     "name": "stdout",
     "output_type": "stream",
     "text": [
      " DOID:1612 breast cancer\n",
      "Loading URL ftp://ftp.ncbi.nih.gov/pub/geo/DATA/SeriesMatrix/GSE21947/GSE21947_series_matrix.txt.gz ...\n",
      "Cache to"
     ]
    },
    {
     "name": "stderr",
     "output_type": "stream",
     "text": [
      "997.68 ms in get_probes(2)\n",
      " 11.34 s in load_gse( series_id platform_id..., 3053, False)\n",
      "  2.02 s in get_gene_fold_change(<Gse GSE21947>, False, 0, None)\n",
      "Loading data for GSE22384, id = 3185\n",
      "  3.47 s in get_probes(517)\n",
      "  2.83 s in get_probes(519)\n",
      "  3.48 s in get_probes(520)\n",
      "294.78 s in load_gse( series_id platform_id..., 3185, False)\n",
      " 39.25 s in get_gene_fold_change(<Gse GSE22384>, False, 0, None)\n",
      "Loading data for GSE26910, id = 4354\n",
      "  1.25 s in get_probes(4)\n",
      " 17.35 s in load_gse( series_id platform_id..., 4354, False)\n",
      "  1.08 s in get_gene_fold_change(<Gse GSE26910>, False, 0, None)\n",
      "Loading data for GSE27120, id = 4400\n",
      "  1.10 s in get_probes(4)\n",
      " 51.32 s in load_gse( series_id platform_id..., 4400, False)\n",
      "  3.88 s in get_gene_fold_change(<Gse GSE27120>, False, 0, None)\n",
      "Loading data for GSE29044, id = 4880\n",
      "  1.46 s in get_probes(4)\n",
      " 70.00 s in load_gse( series_id platform_id..., 4880, False)\n",
      "  9.68 s in get_gene_fold_change(<Gse GSE29044>, False, 0, None)\n",
      "Loading data for GSE29431, id = 4975\n",
      "  1.41 s in get_probes(4)\n",
      " 33.24 s in load_gse( series_id platform_id..., 4975, False)\n",
      "  5.77 s in get_gene_fold_change(<Gse GSE29431>, False, 0, None)\n",
      "Loading data for GSE32641, id = 5764\n",
      "872.77 ms in get_probes(49)\n",
      " 27.59 s in load_gse( series_id platform_id..., 5764, False)\n",
      "  3.89 s in get_gene_fold_change(<Gse GSE32641>, False, 0, None)\n",
      "Loading data for GSE33447, id = 5940\n",
      "  1.60 s in get_probes(1010)\n",
      " 10.54 s in load_gse( series_id platform_id..., 5940, False)\n",
      "  2.23 s in get_gene_fold_change(<Gse GSE33447>, False, 0, None)\n",
      "Loading data for GSE36295, id = 6622\n",
      "  1.07 s in get_probes(283)\n",
      " 18.52 s in load_gse( series_id platform_id..., 6622, False)\n",
      "  2.86 s in get_gene_fold_change(<Gse GSE36295>, False, 0, None)\n",
      "Loading data for GSE38959, id = 7206\n",
      "  1.55 s in get_probes(10)\n",
      " 23.25 s in load_gse( series_id platform_id..., 7206, False)\n",
      "  3.52 s in get_gene_fold_change(<Gse GSE38959>, False, 0, None)\n",
      "Loading data for GSE42568, id = 8064\n",
      "  1.40 s in get_probes(4)\n",
      " 74.05 s in load_gse( series_id platform_id..., 8064, False)\n",
      "  8.45 s in get_gene_fold_change(<Gse GSE42568>, False, 0, None)\n",
      "Loading data for GSE50567, id = 9572\n",
      "  1.46 s in get_probes(4)\n",
      " 29.67 s in load_gse( series_id platform_id..., 9572, False)\n",
      "  4.43 s in get_gene_fold_change(<Gse GSE50567>, False, 0, None)\n",
      "Loading data for GSE57297, id = 10562\n",
      "  1.13 s in get_probes(1339)\n",
      " 22.22 s in load_gse( series_id platform_id..., 10562, False)\n",
      "  3.24 s in get_gene_fold_change(<Gse GSE57297>, False, 0, None)\n",
      "Loading data for GSE6130, id = 10873\n",
      "867.54 ms in get_probes(49)\n",
      " 11.84 s in load_gse( series_id platform_id..., 10873, False)\n",
      "  2.42 s in get_gene_fold_change(<Gse GSE6130>, False, 0, None)\n",
      "1238.81 s in Load/fold for DOID_1612\n",
      "Meta-Analyzing DOID_1612\n",
      "506.70 s in meta analysis of real data for DOID_1612\n",
      "  4.09 s in meta analysis of permutations for DOID_1612\n",
      "140.91 mks in get_balanced_permutations({'analysis_name': 'DOI...,  C H H_lower H_upper \\..., Empty DataFrame Column...)\n",
      "511.43 s in Meta analysis for DOID_1612\n",
      "DONE DOID_1612 analysis\n",
      "1752.89 s in perform_analysis({'analysis_name': 'DOI...)\n"
     ]
    },
    {
     "name": "stdout",
     "output_type": "stream",
     "text": [
      " data/geo_mirror/DATA/SeriesMatrix/GSE21947/GSE21947_series_matrix.txt.gz\n",
      "27"
     ]
    },
    {
     "name": "stderr",
     "output_type": "stream",
     "text": [
      "Started DOID_1686 analysis\n",
      "  1.44 s in get_analysis_df(\"glaucoma == 'glaucoma'\", \"glaucoma_control == '..., '')\n",
      "  1.44 s in Loading dataframe for DOID_1686\n",
      "Matching sources: 11\n",
      "Excluded 1 source as single-class\n",
      "Excluded 3 sources by min samples\n",
      "Stats: 7 sources, 6 series, 5 platforms, 138 samples\n",
      "Loading data and calculating fold change for DOID_1686\n",
      "Loading data for GSE2378, id = 3554\n",
      "679.63 ms in get_probes(7)\n",
      "  3.51 s in load_gse( series_id platform_id..., 3554, False)\n",
      "  1.02 s in get_gene_fold_change(<Gse GSE2378>, False, 0, None)\n",
      "Loading data for GSE27276, id = 4448\n",
      "926.23 ms in get_probes(39)\n",
      " 22.74 s in load_gse( series_id platform_id..., 4448, False)\n",
      "  2.06 s in get_gene_fold_change(<Gse GSE27276>, False, 0, None)\n",
      "Loading data for GSE45570, id = 8697\n",
      "  1.35 s in get_probes(280)\n",
      "  6.72 s in load_gse( series_id platform_id..., 8697, False)\n",
      "  2.03 s in get_gene_fold_change(<Gse GSE45570>, False, 0, None)\n",
      "Loading data for GSE9944, id = 11879\n",
      "864.66 ms in get_probes(9)\n",
      "881.34 ms in get_probes(7)\n",
      " 14.23 s in load_gse( series_id platform_id..., 11879, False)\n",
      "  3.21 s in get_gene_fold_change(<Gse GSE9944>, False, 0, None)\n",
      "Loading data for GSE27057, id = 11946\n",
      " 36.60 ms in get_probes(1703)\n",
      "950.43 ms in load_gse( series_id platform_id..., 11946, False)\n",
      "221.80 ms in get_gene_fold_change(<Gse GSE27057>, False, 0, None)\n",
      "Loading data for GSE27058, id = 11947\n"
     ]
    },
    {
     "name": "stdout",
     "output_type": "stream",
     "text": [
      " DOID:1686 glaucoma\n",
      "Loading URL ftp://ftp.ncbi.nih.gov/pub/geo/DATA/SeriesMatrix/GSE27058/GSE27058_series_matrix.txt.gz ...\n",
      "Cache to"
     ]
    },
    {
     "name": "stderr",
     "output_type": "stream",
     "text": [
      " 36.38 ms in get_probes(1703)\n",
      "  2.32 s in load_gse( series_id platform_id..., 11947, False)\n",
      "185.93 ms in get_gene_fold_change(<Gse GSE27058>, False, 0, None)\n",
      " 61.18 s in Load/fold for DOID_1686\n",
      "Meta-Analyzing DOID_1686\n",
      "357.33 s in meta analysis of real data for DOID_1686\n",
      "270.69 ms in meta analysis of permutations for DOID_1686\n",
      "122.07 mks in get_balanced_permutations({'analysis_name': 'DOI...,  C H H_lower H_upper \\..., Empty DataFrame Column...)\n",
      "358.22 s in Meta analysis for DOID_1686\n",
      "DONE DOID_1686 analysis\n",
      "421.05 s in perform_analysis({'analysis_name': 'DOI...)\n"
     ]
    },
    {
     "name": "stdout",
     "output_type": "stream",
     "text": [
      " data/geo_mirror/DATA/SeriesMatrix/GSE27058/GSE27058_series_matrix.txt.gz\n",
      "28"
     ]
    },
    {
     "name": "stderr",
     "output_type": "stream",
     "text": [
      "Started DOID_1793 analysis\n",
      "917.51 ms in get_analysis_df(\"pancreatic_cancer == ..., \"pancreatic_cancer_con..., '')\n",
      "921.74 ms in Loading dataframe for DOID_1793\n",
      "Matching sources: 28\n",
      "Excluded 16 sources as single-class\n",
      "Excluded 3 sources by min samples\n",
      "Stats: 9 sources, 9 series, 5 platforms, 250 samples\n",
      "Loading data and calculating fold change for DOID_1793\n",
      "Loading data for GSE14245, id = 1080\n",
      "  1.54 s in get_probes(4)\n",
      " 14.72 s in load_gse( series_id platform_id..., 1080, False)\n",
      "  3.21 s in get_gene_fold_change(<Gse GSE14245>, False, 0, None)\n",
      "Loading data for GSE15932, id = 1550\n",
      "  1.24 s in get_probes(4)\n",
      "  5.44 s in load_gse( series_id platform_id..., 1550, False)\n",
      "  1.07 s in get_gene_fold_change(<Gse GSE15932>, False, 0, None)\n",
      "Loading data for GSE19279, id = 2400\n",
      "740.31 ms in get_probes(2)\n",
      "  1.66 s in load_gse( series_id platform_id..., 2400, False)\n",
      "  1.30 s in get_gene_fold_change(<Gse GSE19279>, False, 0, None)\n",
      "Loading data for GSE19650, id = 2485\n",
      "  1.34 s in get_probes(4)\n",
      " 15.12 s in load_gse( series_id platform_id..., 2485, False)\n",
      "  1.47 s in get_gene_fold_change(<Gse GSE19650>, False, 0, None)\n",
      "Loading data for GSE21163, id = 2867\n",
      "  6.44 s in get_probes(54)\n",
      " 72.06 s in load_gse( series_id platform_id..., 2867, False)\n",
      " 23.57 s in get_gene_fold_change(<Gse GSE21163>, False, 0, None)\n",
      "Loading data for GSE22780, id = 3283\n",
      "  1.53 s in get_probes(4)\n",
      " 13.92 s in load_gse( series_id platform_id..., 3283, False)\n",
      "  2.91 s in get_gene_fold_change(<Gse GSE22780>, False, 0, None)\n",
      "Loading data for GSE23397, id = 3450\n",
      "  6.36 s in get_probes(54)\n",
      " 87.51 s in load_gse( series_id platform_id..., 3450, False)\n",
      " 24.09 s in get_gene_fold_change(<Gse GSE23397>, False, 0, None)\n",
      "Loading data for GSE28735, id = 4791\n",
      "962.37 ms in get_probes(283)\n",
      " 26.67 s in load_gse( series_id platform_id..., 4791, False)\n",
      "  4.06 s in get_gene_fold_change(<Gse GSE28735>, False, 0, None)\n",
      "Loading data for GSE30134, id = 5154\n",
      "365.85 ms in get_probes(963)\n",
      "  1.84 s in load_gse( series_id platform_id..., 5154, False)\n",
      "469.75 ms in get_gene_fold_change(<Gse GSE30134>, False, 0, None)\n",
      "307.34 s in Load/fold for DOID_1793\n",
      "Meta-Analyzing DOID_1793\n",
      "455.42 s in meta analysis of real data for DOID_1793\n",
      "  3.22 s in meta analysis of permutations for DOID_1793\n",
      "126.84 mks in get_balanced_permutations({'analysis_name': 'DOI...,  C H H_lower H_upper \\..., Empty DataFrame Column...)\n",
      "459.30 s in Meta analysis for DOID_1793\n",
      "DONE DOID_1793 analysis\n",
      "767.79 s in perform_analysis({'analysis_name': 'DOI...)\n"
     ]
    },
    {
     "name": "stdout",
     "output_type": "stream",
     "text": [
      " DOID:1793 pancreatic cancer\n",
      "29"
     ]
    },
    {
     "name": "stderr",
     "output_type": "stream",
     "text": [
      "Started DOID_1909 analysis\n",
      "  1.75 s in get_analysis_df(\"melanoma == 'melanoma'\", \"melanoma_control == '..., '')\n",
      "  1.75 s in Loading dataframe for DOID_1909\n",
      "Matching sources: 48\n",
      "Excluded 35 sources as single-class\n",
      "Excluded 1 source by min samples\n",
      "Stats: 12 sources, 9 series, 5 platforms, 487 samples\n",
      "Loading data and calculating fold change for DOID_1909\n",
      "Loading data for GSE11907, id = 488\n"
     ]
    },
    {
     "name": "stdout",
     "output_type": "stream",
     "text": [
      " DOID:1909 melanoma\n",
      "Loading URL ftp://ftp.ncbi.nih.gov/pub/geo/DATA/SeriesMatrix/GSE11907/GSE11907_series_matrix.txt.gz ...\n",
      "Loading URL ftp://ftp.ncbi.nih.gov/pub/geo/DATA/SeriesMatrix/GSE11907/GSE11907-GPL96_series_matrix.txt.gz ...\n",
      "Cache to"
     ]
    },
    {
     "name": "stderr",
     "output_type": "stream",
     "text": [
      "999.63 ms in get_probes(2)\n",
      "708.26 ms in get_probes(50)\n",
      "117.70 s in load_gse( series_id platform_id..., 488, False)\n",
      "  4.25 s in get_gene_fold_change(<Gse GSE11907>, False, 0, None)\n",
      "Loading data for GSE15605, id = 1479\n",
      "  1.74 s in get_probes(4)\n",
      " 41.92 s in load_gse( series_id platform_id..., 1479, False)\n",
      "  3.82 s in get_gene_fold_change(<Gse GSE15605>, False, 0, None)\n",
      "Loading data for GSE3189, id = 5563\n",
      "919.19 ms in get_probes(2)\n",
      " 14.67 s in load_gse( series_id platform_id..., 5563, False)\n",
      "  2.64 s in get_gene_fold_change(<Gse GSE3189>, False, 0, None)\n",
      "Loading data for GSE44660, id = 8515\n",
      "886.64 ms in get_probes(280)\n",
      "  7.33 s in load_gse( series_id platform_id..., 8515, False)\n",
      "  2.51 s in get_gene_fold_change(<Gse GSE44660>, False, 0, None)\n",
      "Loading data for GSE46517, id = 8884\n",
      "909.67 ms in get_probes(2)\n",
      " 33.33 s in load_gse( series_id platform_id..., 8884, False)\n",
      "  4.47 s in get_gene_fold_change(<Gse GSE46517>, False, 0, None)\n",
      "Loading data for GSE4840, id = 9237\n",
      "  1.02 s in get_probes(2)\n",
      "842.97 ms in get_probes(50)\n",
      " 11.35 s in load_gse( series_id platform_id..., 9237, False)\n",
      "  2.63 s in get_gene_fold_change(<Gse GSE4840>, False, 0, None)\n",
      "Loading data for GSE4845, id = 9251\n",
      "947.66 ms in get_probes(2)\n",
      "699.99 ms in get_probes(50)\n",
      " 16.15 s in load_gse( series_id platform_id..., 9251, False)\n",
      "  3.39 s in get_gene_fold_change(<Gse GSE4845>, False, 0, None)\n",
      "Loading data for GSE7469, id = 11250\n",
      "  1.43 s in get_probes(26)\n",
      " 13.34 s in load_gse( series_id platform_id..., 11250, False)\n",
      "  2.43 s in get_gene_fold_change(<Gse GSE7469>, False, 0, None)\n",
      "Loading data for GSE7553, id = 11277\n",
      "  1.40 s in get_probes(4)\n",
      " 49.07 s in load_gse( series_id platform_id..., 11277, False)\n",
      "  5.67 s in get_gene_fold_change(<Gse GSE7553>, False, 0, None)\n",
      "340.22 s in Load/fold for DOID_1909\n",
      "Meta-Analyzing DOID_1909\n",
      "426.59 s in meta analysis of real data for DOID_1909\n",
      "366.77 ms in meta analysis of permutations for DOID_1909\n",
      " 26.94 mks in get_balanced_permutations({'analysis_name': 'DOI...,  C H H_lower H_upper \\..., Empty DataFrame Column...)\n",
      "427.12 s in Meta analysis for DOID_1909\n",
      "DONE DOID_1909 analysis\n",
      "769.34 s in perform_analysis({'analysis_name': 'DOI...)\n"
     ]
    },
    {
     "name": "stdout",
     "output_type": "stream",
     "text": [
      " data/geo_mirror/DATA/SeriesMatrix/GSE11907/GSE11907-GPL96_series_matrix.txt.gz\n",
      "30"
     ]
    },
    {
     "name": "stderr",
     "output_type": "stream",
     "text": [
      "Started DOID_1936 analysis\n",
      "  1.17 s in get_analysis_df(\"atherosclerosis == 'a..., \"atherosclerosis_contr..., '')\n",
      "  1.17 s in Loading dataframe for DOID_1936\n",
      "Matching sources: 6\n",
      "Excluded 1 source as single-class\n",
      "Excluded 1 source by min samples\n",
      "Stats: 4 sources, 4 series, 4 platforms, 346 samples\n",
      "Loading data and calculating fold change for DOID_1936\n",
      "Loading data for GSE20129, id = 2612\n",
      "950.82 ms in get_probes(3)\n",
      " 31.84 s in load_gse( series_id platform_id..., 2612, False)\n",
      "  4.33 s in get_gene_fold_change(<Gse GSE20129>, False, 0, None)\n",
      "Loading data for GSE23746, id = 3545\n",
      "956.21 ms in get_probes(74)\n",
      " 16.83 s in load_gse( series_id platform_id..., 3545, False)\n",
      "  3.04 s in get_gene_fold_change(<Gse GSE23746>, False, 0, None)\n",
      "Loading data for GSE37356, id = 6873\n",
      "  1.38 s in get_probes(674)\n",
      " 32.31 s in load_gse( series_id platform_id..., 6873, False)\n",
      "  4.60 s in get_gene_fold_change(<Gse GSE37356>, False, 0, None)\n",
      "Loading data for GSE9874, id = 11861\n",
      "940.16 ms in get_probes(2)\n",
      " 14.31 s in load_gse( series_id platform_id..., 11861, False)\n",
      "  2.84 s in get_gene_fold_change(<Gse GSE9874>, False, 0, None)\n",
      "111.53 s in Load/fold for DOID_1936\n",
      "Meta-Analyzing DOID_1936\n",
      "378.52 s in meta analysis of real data for DOID_1936\n",
      "270.01 ms in meta analysis of permutations for DOID_1936\n",
      "122.07 mks in get_balanced_permutations({'analysis_name': 'DOI...,  C H H_lower H_upper \\..., Empty DataFrame Column...)\n",
      "379.42 s in Meta analysis for DOID_1936\n",
      "DONE DOID_1936 analysis\n",
      "492.31 s in perform_analysis({'analysis_name': 'DOI...)\n"
     ]
    },
    {
     "name": "stdout",
     "output_type": "stream",
     "text": [
      " DOID:1936 atherosclerosis\n",
      "31"
     ]
    },
    {
     "name": "stderr",
     "output_type": "stream",
     "text": [
      "Started DOID_219 analysis\n",
      "836.28 ms in get_analysis_df(\"colon_cancer == 'colo..., \"colon_cancer_control ..., '')\n",
      "840.62 ms in Loading dataframe for DOID_219\n",
      "Matching sources: 5\n",
      "Excluded 1 source as single-class\n",
      "Stats: 4 sources, 3 series, 4 platforms, 275 samples\n",
      "Loading data and calculating fold change for DOID_219\n",
      "Loading data for GSE36400, id = 6646\n",
      "  1.33 s in get_probes(280)\n",
      "  6.53 s in load_gse( series_id platform_id..., 6646, False)\n",
      "  2.19 s in get_gene_fold_change(<Gse GSE36400>, False, 0, None)\n",
      "Loading data for GSE7466, id = 11249\n",
      " 71.40 ms in get_probes(821)\n",
      " 72.42 ms in get_probes(823)\n",
      " 13.81 s in load_gse( series_id platform_id..., 11249, False)\n",
      "591.42 ms in get_gene_fold_change(<Gse GSE7466>, False, 0, None)\n",
      "Loading data for GSE68468, id = 13736\n",
      "870.61 ms in get_probes(2)\n",
      " 82.18 s in load_gse( series_id platform_id..., 13736, False)\n",
      "  7.76 s in get_gene_fold_change(<Gse GSE68468>, False, 0, None)\n",
      "114.11 s in Load/fold for DOID_219\n",
      "Meta-Analyzing DOID_219\n",
      "225.97 s in meta analysis of real data for DOID_219\n",
      "166.57 ms in meta analysis of permutations for DOID_219\n",
      "118.02 mks in get_balanced_permutations({'analysis_name': 'DOI...,  C H H_lower H_upper I..., Empty DataFrame Column...)\n",
      "226.74 s in Meta analysis for DOID_219\n",
      "DONE DOID_219 analysis\n",
      "341.87 s in perform_analysis({'analysis_name': 'DOI...)\n"
     ]
    },
    {
     "name": "stdout",
     "output_type": "stream",
     "text": [
      " DOID:219 colon cancer\n",
      "32"
     ]
    },
    {
     "name": "stderr",
     "output_type": "stream",
     "text": [
      "Started DOID_2377 analysis\n",
      "  1.18 s in get_analysis_df(\"MS == 'MS'\", \"MS_control == 'MS_con..., '')\n",
      "  1.19 s in Loading dataframe for DOID_2377\n",
      "Matching sources: 27\n",
      "Excluded 3 sources as single-class\n",
      "Excluded 2 sources by min samples\n",
      "Stats: 22 sources, 21 series, 9 platforms, 1781 samples\n",
      "Loading data and calculating fold change for DOID_2377\n",
      "Loading data for GSE10064, id = 17\n",
      "875.67 ms in get_probes(12)\n",
      " 11.72 s in load_gse( series_id platform_id..., 17, False)\n",
      "  1.70 s in get_gene_fold_change(<Gse GSE10064>, False, 0, None)\n",
      "Loading data for GSE13732, id = 973\n",
      "  1.44 s in get_probes(4)\n",
      " 74.55 s in load_gse( series_id platform_id..., 973, False)\n",
      "  8.42 s in get_gene_fold_change(<Gse GSE13732>, False, 0, None)\n",
      "Loading data for GSE14895, id = 1280\n",
      "880.03 ms in get_probes(9)\n",
      "855.37 ms in get_probes(2)\n",
      " 17.77 s in load_gse( series_id platform_id..., 1280, False)\n",
      "  3.37 s in get_gene_fold_change(<Gse GSE14895>, False, 0, None)\n",
      "Loading data for GSE16461, id = 1688\n",
      "  1.27 s in get_probes(4)\n",
      " 13.70 s in load_gse( series_id platform_id..., 1688, False)\n",
      "  2.90 s in get_gene_fold_change(<Gse GSE16461>, False, 0, None)\n",
      "Loading data for GSE17048, id = 1837\n",
      "  1.54 s in get_probes(389)\n",
      " 57.92 s in load_gse( series_id platform_id..., 1837, False)\n",
      "  6.87 s in get_gene_fold_change(<Gse GSE17048>, False, 0, None)\n",
      "Loading data for GSE17393, id = 1917\n",
      "865.74 ms in get_probes(9)\n",
      "  6.07 s in load_gse( series_id platform_id..., 1917, False)\n",
      "  1.63 s in get_gene_fold_change(<Gse GSE17393>, False, 0, None)\n",
      "Loading data for GSE17449, id = 1929\n",
      "995.27 ms in get_probes(9)\n",
      "  9.36 s in load_gse( series_id platform_id..., 1929, False)\n",
      "  1.93 s in get_gene_fold_change(<Gse GSE17449>, False, 0, None)\n",
      "Loading data for GSE21942, id = 3050\n",
      "  1.10 s in get_probes(4)\n",
      " 16.82 s in load_gse( series_id platform_id..., 3050, False)\n",
      "  3.48 s in get_gene_fold_change(<Gse GSE21942>, False, 0, None)\n",
      "Loading data for GSE23832, id = 3564\n",
      "  1.03 s in get_probes(283)\n",
      "  5.52 s in load_gse( series_id platform_id..., 3564, False)\n",
      "  1.28 s in get_gene_fold_change(<Gse GSE23832>, False, 0, None)\n",
      "Loading data for GSE26484, id = 4227\n",
      "  1.23 s in get_probes(4)\n",
      " 11.07 s in load_gse( series_id platform_id..., 4227, False)\n",
      "  2.44 s in get_gene_fold_change(<Gse GSE26484>, False, 0, None)\n",
      "Loading data for GSE27688, id = 4537\n",
      "  1.29 s in get_probes(53)\n",
      " 13.60 s in load_gse( series_id platform_id..., 4537, False)\n",
      "  2.73 s in get_gene_fold_change(<Gse GSE27688>, False, 0, None)\n",
      "Loading data for GSE32645, id = 5766\n",
      "  1.26 s in get_probes(10)\n",
      " 10.77 s in load_gse( series_id platform_id..., 5766, False)\n",
      "  1.80 s in get_gene_fold_change(<Gse GSE32645>, False, 0, None)\n",
      "Loading data for GSE32915, id = 5810\n",
      "  1.20 s in get_probes(10)\n",
      " 12.14 s in load_gse( series_id platform_id..., 5810, False)\n",
      "  2.11 s in get_gene_fold_change(<Gse GSE32915>, False, 0, None)\n",
      "Loading data for GSE32988, id = 5831\n",
      "  1.16 s in get_probes(53)\n",
      " 25.62 s in load_gse( series_id platform_id..., 5831, False)\n",
      "  3.57 s in get_gene_fold_change(<Gse GSE32988>, False, 0, None)\n",
      "Loading data for GSE41848, id = 7884\n",
      " 37.05 ms in get_probes(1289)\n",
      " 45.78 s in load_gse( series_id platform_id..., 7884, False)\n",
      "303.11 ms in get_gene_fold_change(<Gse GSE41848>, False, 0, None)\n",
      "Loading data for GSE41849, id = 7885\n"
     ]
    },
    {
     "name": "stdout",
     "output_type": "stream",
     "text": [
      " DOID:2377 multiple sclerosis\n",
      "Loading URL ftp://ftp.ncbi.nih.gov/pub/geo/DATA/SeriesMatrix/GSE41849/GSE41849_series_matrix.txt.gz ...\n",
      "Cache to"
     ]
    },
    {
     "name": "stderr",
     "output_type": "stream",
     "text": [
      " 40.37 ms in get_probes(1289)\n",
      " 31.74 s in load_gse( series_id platform_id..., 7885, False)\n",
      "238.01 ms in get_gene_fold_change(<Gse GSE41849>, False, 0, None)\n",
      "Loading data for GSE41850, id = 7887\n"
     ]
    },
    {
     "name": "stdout",
     "output_type": "stream",
     "text": [
      " data/geo_mirror/DATA/SeriesMatrix/GSE41849/GSE41849_series_matrix.txt.gz\n",
      "Loading URL ftp://ftp.ncbi.nih.gov/pub/geo/DATA/SeriesMatrix/GSE41850/GSE41850_series_matrix.txt.gz ...\n",
      "Cache to"
     ]
    },
    {
     "name": "stderr",
     "output_type": "stream",
     "text": [
      " 37.36 ms in get_probes(1289)\n",
      "230.13 s in load_gse( series_id platform_id..., 7887, False)\n",
      "369.42 ms in get_gene_fold_change(<Gse GSE41850>, False, 0, None)\n",
      "Loading data for GSE41890, id = 7897\n"
     ]
    },
    {
     "name": "stdout",
     "output_type": "stream",
     "text": [
      " data/geo_mirror/DATA/SeriesMatrix/GSE41850/GSE41850_series_matrix.txt.gz\n",
      "Loading URL ftp://ftp.ncbi.nih.gov/pub/geo/DATA/SeriesMatrix/GSE41890/GSE41890_series_matrix.txt.gz ...\n",
      "Cache to"
     ]
    },
    {
     "name": "stderr",
     "output_type": "stream",
     "text": [
      "865.71 ms in get_probes(283)\n",
      " 30.21 s in load_gse( series_id platform_id..., 7897, False)\n",
      "  3.20 s in get_gene_fold_change(<Gse GSE41890>, False, 0, None)\n",
      "Loading data for GSE43591, id = 8314\n"
     ]
    },
    {
     "name": "stdout",
     "output_type": "stream",
     "text": [
      " data/geo_mirror/DATA/SeriesMatrix/GSE41890/GSE41890_series_matrix.txt.gz\n",
      "Loading URL ftp://ftp.ncbi.nih.gov/pub/geo/DATA/SeriesMatrix/GSE43591/GSE43591_series_matrix.txt.gz ...\n",
      "Cache to"
     ]
    },
    {
     "name": "stderr",
     "output_type": "stream",
     "text": [
      "  1.21 s in get_probes(4)\n",
      " 21.91 s in load_gse( series_id platform_id..., 8314, False)\n",
      "  3.00 s in get_gene_fold_change(<Gse GSE43591>, False, 0, None)\n",
      "Loading data for GSE37750, id = 12030\n"
     ]
    },
    {
     "name": "stdout",
     "output_type": "stream",
     "text": [
      " data/geo_mirror/DATA/SeriesMatrix/GSE43591/GSE43591_series_matrix.txt.gz\n",
      "Loading URL ftp://ftp.ncbi.nih.gov/pub/geo/DATA/SeriesMatrix/GSE37750/GSE37750_series_matrix.txt.gz ...\n",
      "Cache to"
     ]
    },
    {
     "name": "stderr",
     "output_type": "stream",
     "text": [
      "  1.28 s in get_probes(4)\n",
      " 23.73 s in load_gse( series_id platform_id..., 12030, False)\n",
      "  3.27 s in get_gene_fold_change(<Gse GSE37750>, False, 0, None)\n",
      "Loading data for GSE59085, id = 12788\n"
     ]
    },
    {
     "name": "stdout",
     "output_type": "stream",
     "text": [
      " data/geo_mirror/DATA/SeriesMatrix/GSE37750/GSE37750_series_matrix.txt.gz\n",
      "Loading URL ftp://ftp.ncbi.nih.gov/pub/geo/DATA/SeriesMatrix/GSE59085/GSE59085_series_matrix.txt.gz ...\n",
      "Cache to"
     ]
    },
    {
     "name": "stderr",
     "output_type": "stream",
     "text": [
      "  1.46 s in get_probes(4)\n",
      " 22.32 s in load_gse( series_id platform_id..., 12788, False)\n",
      "  3.18 s in get_gene_fold_change(<Gse GSE59085>, False, 0, None)\n",
      "758.03 s in Load/fold for DOID_2377\n",
      "Meta-Analyzing DOID_2377\n",
      "469.18 s in meta analysis of real data for DOID_2377\n",
      "  1.72 s in meta analysis of permutations for DOID_2377\n",
      "126.12 mks in get_balanced_permutations({'analysis_name': 'DOI...,  C H H_lower H_upper \\..., Empty DataFrame Column...)\n",
      "471.54 s in Meta analysis for DOID_2377\n",
      "DONE DOID_2377 analysis\n",
      "1231.06 s in perform_analysis({'analysis_name': 'DOI...)\n"
     ]
    },
    {
     "name": "stdout",
     "output_type": "stream",
     "text": [
      " data/geo_mirror/DATA/SeriesMatrix/GSE59085/GSE59085_series_matrix.txt.gz\n",
      "33"
     ]
    },
    {
     "name": "stderr",
     "output_type": "stream",
     "text": [
      "Started DOID_2394 analysis\n",
      "  1.04 s in get_analysis_df(\"ovarian_cancer == 'ov..., \"ovarian_cancer_contro..., '')\n",
      "  1.05 s in Loading dataframe for DOID_2394\n",
      "Matching sources: 4\n",
      "Excluded 1 source as single-class\n",
      "Stats: 3 sources, 3 series, 2 platforms, 123 samples\n",
      "Loading data and calculating fold change for DOID_2394\n",
      "Loading data for GSE29220, id = 4918\n",
      "  1.47 s in get_probes(4)\n",
      " 18.25 s in load_gse( series_id platform_id..., 4918, False)\n",
      "  3.18 s in get_gene_fold_change(<Gse GSE29220>, False, 0, None)\n",
      "Loading data for GSE31682, id = 5516\n",
      "859.80 ms in get_probes(60)\n",
      " 19.78 s in load_gse( series_id platform_id..., 5516, False)\n",
      "  2.56 s in get_gene_fold_change(<Gse GSE31682>, False, 0, None)\n",
      "Loading data for GSE38666, id = 7137\n",
      "  1.59 s in get_probes(4)\n",
      " 27.14 s in load_gse( series_id platform_id..., 7137, False)\n",
      "  3.79 s in get_gene_fold_change(<Gse GSE38666>, False, 0, None)\n",
      " 75.90 s in Load/fold for DOID_2394\n",
      "Meta-Analyzing DOID_2394\n",
      "409.21 s in meta analysis of real data for DOID_2394\n",
      "292.70 ms in meta analysis of permutations for DOID_2394\n",
      "118.02 mks in get_balanced_permutations({'analysis_name': 'DOI...,  C H H_lower H_upper \\..., Empty DataFrame Column...)\n",
      "410.13 s in Meta analysis for DOID_2394\n",
      "DONE DOID_2394 analysis\n",
      "487.26 s in perform_analysis({'analysis_name': 'DOI...)\n"
     ]
    },
    {
     "name": "stdout",
     "output_type": "stream",
     "text": [
      " DOID:2394 ovarian cancer\n",
      "34"
     ]
    },
    {
     "name": "stderr",
     "output_type": "stream",
     "text": [
      "Started DOID_2531 analysis\n",
      "  2.40 s in get_analysis_df(\"AML_Tissue == 'AML_Ti..., \"AML_Control == 'AML_C..., '')\n",
      "  2.41 s in Loading dataframe for DOID_2531\n",
      "Matching sources: 95\n",
      "Excluded 82 sources as single-class\n",
      "Stats: 13 sources, 13 series, 5 platforms, 755 samples\n",
      "Loading data and calculating fold change for DOID_2531\n",
      "Loading data for GSE10746, id = 198\n",
      "  1.82 s in get_probes(4)\n",
      " 11.00 s in load_gse( series_id platform_id..., 198, False)\n",
      "  2.58 s in get_gene_fold_change(<Gse GSE10746>, False, 0, None)\n",
      "Loading data for GSE13591, id = 938\n",
      "  1.12 s in get_probes(2)\n",
      " 41.20 s in load_gse( series_id platform_id..., 938, False)\n",
      "  4.97 s in get_gene_fold_change(<Gse GSE13591>, False, 0, None)\n",
      "Loading data for GSE17054, id = 1838\n",
      "  1.41 s in get_probes(4)\n",
      " 14.63 s in load_gse( series_id platform_id..., 1838, False)\n",
      "  2.61 s in get_gene_fold_change(<Gse GSE17054>, False, 0, None)\n",
      "Loading data for GSE24870, id = 3848\n",
      "  1.01 s in get_probes(9)\n",
      " 11.12 s in load_gse( series_id platform_id..., 3848, False)\n",
      "  2.37 s in get_gene_fold_change(<Gse GSE24870>, False, 0, None)\n",
      "Loading data for GSE27838, id = 4550\n",
      "  1.62 s in get_probes(4)\n",
      " 18.86 s in load_gse( series_id platform_id..., 4550, False)\n",
      "  3.79 s in get_gene_fold_change(<Gse GSE27838>, False, 0, None)\n",
      "Loading data for GSE36474, id = 6658\n",
      "  1.66 s in get_probes(4)\n",
      "  9.60 s in load_gse( series_id platform_id..., 6658, False)\n",
      "  2.31 s in get_gene_fold_change(<Gse GSE36474>, False, 0, None)\n",
      "Loading data for GSE39754, id = 7392\n",
      "  1.58 s in get_probes(280)\n",
      " 39.33 s in load_gse( series_id platform_id..., 7392, False)\n",
      "  8.61 s in get_gene_fold_change(<Gse GSE39754>, False, 0, None)\n",
      "Loading data for GSE43176, id = 8218\n",
      "  1.07 s in get_probes(2)\n",
      " 21.37 s in load_gse( series_id platform_id..., 8218, False)\n",
      "  2.94 s in get_gene_fold_change(<Gse GSE43176>, False, 0, None)\n",
      "Loading data for GSE5900, id = 10734\n",
      "  1.65 s in get_probes(4)\n",
      " 43.63 s in load_gse( series_id platform_id..., 10734, False)\n",
      "  3.97 s in get_gene_fold_change(<Gse GSE5900>, False, 0, None)\n",
      "Loading data for GSE6477, id = 10950\n",
      "  1.01 s in get_probes(2)\n",
      " 30.63 s in load_gse( series_id platform_id..., 10950, False)\n",
      "  5.08 s in get_gene_fold_change(<Gse GSE6477>, False, 0, None)\n",
      "Loading data for GSE6691, id = 11013\n",
      "944.21 ms in get_probes(2)\n",
      " 13.60 s in load_gse( series_id platform_id..., 11013, False)\n",
      "  1.59 s in get_gene_fold_change(<Gse GSE6691>, False, 0, None)\n",
      "Loading data for GSE7116, id = 11154\n",
      "  1.68 s in get_probes(4)\n",
      " 17.93 s in load_gse( series_id platform_id..., 11154, False)\n",
      "  3.50 s in get_gene_fold_change(<Gse GSE7116>, False, 0, None)\n",
      "Loading data for GSE983, id = 11844\n"
     ]
    },
    {
     "name": "stdout",
     "output_type": "stream",
     "text": [
      " DOID:2531 hematologic cancer\n",
      "Loading URL ftp://ftp.ncbi.nih.gov/pub/geo/DATA/SeriesMatrix/GSE983/GSE983_series_matrix.txt.gz ...\n",
      "Cache to"
     ]
    },
    {
     "name": "stderr",
     "output_type": "stream",
     "text": [
      "431.65 ms in get_probes(22)\n",
      "  4.02 s in load_gse( series_id platform_id..., 11844, False)\n",
      "641.83 ms in get_gene_fold_change(<Gse GSE983>, False, 0, None)\n",
      "327.46 s in Load/fold for DOID_2531\n",
      "Meta-Analyzing DOID_2531\n",
      "427.61 s in meta analysis of real data for DOID_2531\n",
      "  1.23 s in meta analysis of permutations for DOID_2531\n",
      "118.97 mks in get_balanced_permutations({'analysis_name': 'DOI...,  C H H_lower H_upper \\..., Empty DataFrame Column...)\n",
      "429.47 s in Meta analysis for DOID_2531\n",
      "DONE DOID_2531 analysis\n",
      "759.63 s in perform_analysis({'analysis_name': 'DOI...)\n"
     ]
    },
    {
     "name": "stdout",
     "output_type": "stream",
     "text": [
      " data/geo_mirror/DATA/SeriesMatrix/GSE983/GSE983_series_matrix.txt.gz\n",
      "35"
     ]
    },
    {
     "name": "stderr",
     "output_type": "stream",
     "text": [
      "Started DOID_263 analysis\n",
      "  1.44 s in get_analysis_df(\"RCC == 'RCC'\", \"RCC_Control == 'RCC_C..., '')\n",
      "  1.44 s in Loading dataframe for DOID_263\n",
      "Matching sources: 60\n",
      "Excluded 37 sources as single-class\n",
      "Excluded 2 sources by min samples\n",
      "Stats: 21 sources, 17 series, 13 platforms, 1536 samples\n",
      "Loading data and calculating fold change for DOID_263\n",
      "Loading data for GSE12606, id = 685\n",
      "  1.63 s in get_probes(4)\n",
      " 10.67 s in load_gse( series_id platform_id..., 685, False)\n",
      "  2.51 s in get_gene_fold_change(<Gse GSE12606>, False, 0, None)\n",
      "Loading data for GSE14762, id = 1230\n",
      " 47.67 ms in get_probes(471)\n",
      "  4.58 s in load_gse( series_id platform_id..., 1230, False)\n",
      "358.69 ms in get_gene_fold_change(<Gse GSE14762>, False, 0, None)\n",
      "Loading data for GSE15641, id = 1490\n",
      "  1.07 s in get_probes(2)\n",
      " 19.68 s in load_gse( series_id platform_id..., 1490, False)\n",
      "  3.07 s in get_gene_fold_change(<Gse GSE15641>, False, 0, None)\n",
      "Loading data for GSE17816, id = 2030\n",
      "912.50 ms in get_probes(588)\n",
      " 11.19 s in load_gse( series_id platform_id..., 2030, False)\n",
      "  1.90 s in get_gene_fold_change(<Gse GSE17816>, False, 0, None)\n",
      "Loading data for GSE17818, id = 2031\n",
      "974.34 ms in get_probes(588)\n",
      " 25.37 s in load_gse( series_id platform_id..., 2031, False)\n",
      "  3.24 s in get_gene_fold_change(<Gse GSE17818>, False, 0, None)\n",
      "Loading data for GSE17895, id = 2051\n",
      "  1.14 s in get_probes(588)\n",
      " 33.16 s in load_gse( series_id platform_id..., 2051, False)\n",
      "  4.28 s in get_gene_fold_change(<Gse GSE17895>, False, 0, None)\n",
      "Loading data for GSE26574, id = 4253\n",
      "  1.02 s in get_probes(875)\n",
      " 18.80 s in load_gse( series_id platform_id..., 4253, False)\n",
      "  1.43 s in get_gene_fold_change(<Gse GSE26574>, False, 0, None)\n",
      "Loading data for GSE3, id = 5117\n",
      "  1.16 s in get_probes(258)\n",
      "  1.13 s in get_probes(259)\n",
      "221.72 s in load_gse( series_id platform_id..., 5117, False)\n",
      " 11.92 s in get_gene_fold_change(<Gse GSE3>, False, 0, None)\n",
      "Loading data for GSE36895, id = 6744\n",
      "  1.42 s in get_probes(4)\n",
      " 52.07 s in load_gse( series_id platform_id..., 6744, False)\n",
      "  4.98 s in get_gene_fold_change(<Gse GSE36895>, False, 0, None)\n",
      "Loading data for GSE40435, id = 7557\n",
      "  1.30 s in get_probes(674)\n",
      "109.20 s in load_gse( series_id platform_id..., 7557, False)\n",
      " 10.17 s in get_gene_fold_change(<Gse GSE40435>, False, 0, None)\n",
      "Loading data for GSE46699, id = 8919\n",
      "  1.35 s in get_probes(4)\n",
      " 81.76 s in load_gse( series_id platform_id..., 8919, False)\n",
      "  9.86 s in get_gene_fold_change(<Gse GSE46699>, False, 0, None)\n",
      "Loading data for GSE47032, id = 8982\n",
      "  1.50 s in get_probes(280)\n",
      "  6.50 s in get_probes(54)\n",
      " 74.74 s in load_gse( series_id platform_id..., 8982, False)\n",
      " 23.93 s in get_gene_fold_change(<Gse GSE47032>, False, 0, None)\n",
      "Loading data for GSE53000, id = 9972\n",
      "  1.19 s in get_probes(283)\n",
      " 26.60 s in load_gse( series_id platform_id..., 9972, False)\n",
      "  3.17 s in get_gene_fold_change(<Gse GSE53000>, False, 0, None)\n",
      "Loading data for GSE53757, id = 10076\n",
      "  1.64 s in get_probes(4)\n",
      " 82.30 s in load_gse( series_id platform_id..., 10076, False)\n",
      " 10.74 s in get_gene_fold_change(<Gse GSE53757>, False, 0, None)\n",
      "Loading data for GSE6344, id = 10912\n",
      "  1.11 s in get_probes(2)\n",
      "980.43 ms in get_probes(50)\n",
      " 12.79 s in load_gse( series_id platform_id..., 10912, False)\n",
      "  2.90 s in get_gene_fold_change(<Gse GSE6344>, False, 0, None)\n",
      "Loading data for GSE7367, id = 11222\n",
      "247.34 ms in get_probes(963)\n",
      "  2.99 s in load_gse( series_id platform_id..., 11222, False)\n",
      "546.30 ms in get_gene_fold_change(<Gse GSE7367>, False, 0, None)\n",
      "Loading data for GSE781, id = 11344\n",
      "  1.10 s in get_probes(2)\n",
      "970.22 ms in get_probes(50)\n",
      " 11.77 s in load_gse( series_id platform_id..., 11344, False)\n",
      "  2.62 s in get_gene_fold_change(<Gse GSE781>, False, 0, None)\n",
      "904.57 s in Load/fold for DOID_263\n",
      "Meta-Analyzing DOID_263\n",
      "473.52 s in meta analysis of real data for DOID_263\n",
      "  2.77 s in meta analysis of permutations for DOID_263\n",
      "123.02 mks in get_balanced_permutations({'analysis_name': 'DOI...,  C H H_lower H_upper \\..., Empty DataFrame Column...)\n",
      "476.94 s in Meta analysis for DOID_263\n",
      "DONE DOID_263 analysis\n",
      "1383.27 s in perform_analysis({'analysis_name': 'DOI...)\n"
     ]
    },
    {
     "name": "stdout",
     "output_type": "stream",
     "text": [
      " DOID:263 kidney cancer\n",
      "36"
     ]
    },
    {
     "name": "stderr",
     "output_type": "stream",
     "text": [
      "Started DOID_2841 analysis\n",
      "  1.77 s in get_analysis_df(\"asthma == 'asthma'\", \"asthma_control == 'as..., '')\n",
      "  1.77 s in Loading dataframe for DOID_2841\n",
      "Matching sources: 14\n",
      "Stats: 14 sources, 13 series, 9 platforms, 1486 samples\n",
      "Loading data and calculating fold change for DOID_2841\n",
      "Loading data for GSE19187, id = 2377\n",
      "  1.12 s in get_probes(283)\n",
      " 15.53 s in load_gse( series_id platform_id..., 2377, False)\n",
      "  1.94 s in get_gene_fold_change(<Gse GSE19187>, False, 0, None)\n",
      "Loading data for GSE27011, id = 4384\n",
      "  1.18 s in get_probes(283)\n",
      " 24.28 s in load_gse( series_id platform_id..., 4384, False)\n",
      "  2.84 s in get_gene_fold_change(<Gse GSE27011>, False, 0, None)\n",
      "Loading data for GSE27876, id = 4561\n",
      "  1.55 s in get_probes(53)\n",
      " 11.59 s in load_gse( series_id platform_id..., 4561, False)\n",
      "  2.16 s in get_gene_fold_change(<Gse GSE27876>, False, 0, None)\n",
      "Loading data for GSE4302, id = 8180\n"
     ]
    },
    {
     "name": "stdout",
     "output_type": "stream",
     "text": [
      " DOID:2841 asthma\n",
      "Loading URL ftp://ftp.ncbi.nih.gov/pub/geo/DATA/SeriesMatrix/GSE4302/GSE4302_series_matrix.txt.gz ...\n",
      "Cache to"
     ]
    },
    {
     "name": "stderr",
     "output_type": "stream",
     "text": [
      "  1.66 s in get_probes(4)\n",
      " 85.99 s in load_gse( series_id platform_id..., 8180, False)\n",
      "  7.90 s in get_gene_fold_change(<Gse GSE4302>, False, 0, None)\n",
      "Loading data for GSE44037, id = 8399\n",
      "  2.04 s in get_probes(901)\n",
      " 22.94 s in load_gse( series_id platform_id..., 8399, False)\n",
      "  3.28 s in get_gene_fold_change(<Gse GSE44037>, False, 0, None)\n",
      "Loading data for GSE46171, id = 8818\n",
      "  1.71 s in get_probes(1363)\n",
      "  1.67 s in get_probes(53)\n",
      " 45.41 s in load_gse( series_id platform_id..., 8818, False)\n",
      "  5.87 s in get_gene_fold_change(<Gse GSE46171>, False, 0, None)\n",
      "Loading data for GSE5272, id = 9938\n",
      "  1.52 s in get_probes(26)\n",
      "127.47 s in load_gse( series_id platform_id..., 9938, False)\n",
      "  9.55 s in get_gene_fold_change(<Gse GSE5272>, False, 0, None)\n",
      "Loading data for GSE54605, id = 10215\n",
      " 43.42 ms in get_probes(1454)\n",
      "322.91 ms in load_gse( series_id platform_id..., 10215, False)\n",
      "367.01 ms in get_gene_fold_change(<Gse GSE54605>, False, 0, None)\n",
      "Loading data for GSE56396, id = 10453\n",
      "  1.26 s in get_probes(283)\n",
      " 30.51 s in load_gse( series_id platform_id..., 10453, False)\n",
      "  4.54 s in get_gene_fold_change(<Gse GSE56396>, False, 0, None)\n",
      "Loading data for GSE8052, id = 11413\n",
      "  1.64 s in get_probes(4)\n",
      "181.28 s in load_gse( series_id platform_id..., 11413, False)\n",
      " 27.56 s in get_gene_fold_change(<Gse GSE8052>, False, 0, None)\n",
      "Loading data for GSE8190, id = 11437\n",
      "  1.57 s in get_probes(26)\n",
      "136.07 s in load_gse( series_id platform_id..., 11437, False)\n",
      "  9.93 s in get_gene_fold_change(<Gse GSE8190>, False, 0, None)\n",
      "Loading data for GSE40732, id = 12071\n",
      "  1.85 s in get_probes(1269)\n",
      " 80.66 s in load_gse( series_id platform_id..., 12071, False)\n",
      " 12.36 s in get_gene_fold_change(<Gse GSE40732>, False, 0, None)\n",
      "Loading data for GSE67472, id = 13661\n",
      " 41.72 ms in get_probes(1369)\n",
      " 23.54 s in load_gse( series_id platform_id..., 13661, False)\n",
      "306.80 ms in get_gene_fold_change(<Gse GSE67472>, False, 0, None)\n",
      "879.11 s in Load/fold for DOID_2841\n",
      "Meta-Analyzing DOID_2841\n",
      "474.30 s in meta analysis of real data for DOID_2841\n",
      "  1.01 s in meta analysis of permutations for DOID_2841\n",
      "252.01 mks in get_balanced_permutations({'analysis_name': 'DOI...,  C H H_lower H_upper \\..., Empty DataFrame Column...)\n",
      "475.95 s in Meta analysis for DOID_2841\n",
      "DONE DOID_2841 analysis\n",
      "1357.08 s in perform_analysis({'analysis_name': 'DOI...)\n"
     ]
    },
    {
     "name": "stdout",
     "output_type": "stream",
     "text": [
      " data/geo_mirror/DATA/SeriesMatrix/GSE4302/GSE4302_series_matrix.txt.gz\n",
      "37"
     ]
    },
    {
     "name": "stderr",
     "output_type": "stream",
     "text": [
      "Started DOID_2986 analysis\n",
      "  1.10 s in get_analysis_df(\"IgA_nephropathy == 'I..., \"IgA_nephropathy_contr..., '')\n",
      "  1.10 s in Loading dataframe for DOID_2986\n",
      "Matching sources: 6\n",
      "Stats: 6 sources, 5 series, 3 platforms, 161 samples\n",
      "Loading data and calculating fold change for DOID_2986\n",
      "Loading data for GSE14795, id = 1241\n",
      "  1.02 s in get_probes(2)\n",
      "  6.71 s in load_gse( series_id platform_id..., 1241, False)\n",
      "  1.64 s in get_gene_fold_change(<Gse GSE14795>, False, 0, None)\n",
      "Loading data for GSE35487, id = 6431\n",
      "976.50 ms in get_probes(2)\n",
      "  9.68 s in load_gse( series_id platform_id..., 6431, False)\n",
      "  1.96 s in get_gene_fold_change(<Gse GSE35487>, False, 0, None)\n",
      "Loading data for GSE35488, id = 6432\n",
      "644.56 ms in get_probes(1019)\n",
      "  5.69 s in load_gse( series_id platform_id..., 6432, False)\n",
      "  1.19 s in get_gene_fold_change(<Gse GSE35488>, False, 0, None)\n",
      "Loading data for GSE35489, id = 6433\n",
      "651.07 ms in get_probes(1019)\n",
      "  1.12 s in get_probes(2)\n",
      " 15.75 s in load_gse( series_id platform_id..., 6433, False)\n",
      "  2.97 s in get_gene_fold_change(<Gse GSE35489>, False, 0, None)\n",
      "Loading data for GSE58539, id = 12726\n",
      "  1.35 s in get_probes(674)\n",
      " 13.21 s in load_gse( series_id platform_id..., 12726, False)\n",
      "  2.31 s in get_gene_fold_change(<Gse GSE58539>, False, 0, None)\n",
      " 62.90 s in Load/fold for DOID_2986\n",
      "Meta-Analyzing DOID_2986\n",
      "280.90 s in meta analysis of real data for DOID_2986\n",
      "320.89 ms in meta analysis of permutations for DOID_2986\n",
      "121.12 mks in get_balanced_permutations({'analysis_name': 'DOI...,  C H H_lower H_upper \\..., Empty DataFrame Column...)\n",
      "281.84 s in Meta analysis for DOID_2986\n",
      "DONE DOID_2986 analysis\n",
      "346.02 s in perform_analysis({'analysis_name': 'DOI...)\n"
     ]
    },
    {
     "name": "stdout",
     "output_type": "stream",
     "text": [
      " DOID:2986 IgA glomerulonephritis\n",
      "38"
     ]
    },
    {
     "name": "stderr",
     "output_type": "stream",
     "text": [
      "Started DOID_2998 analysis\n",
      "817.54 ms in get_analysis_df(\"testicular_cancer == ..., \"testicular_cancer_con..., '')\n",
      "821.78 ms in Loading dataframe for DOID_2998\n",
      "Matching sources: 0\n",
      "902.58 ms in perform_analysis({'analysis_name': 'DOI...)\n"
     ]
    },
    {
     "name": "stdout",
     "output_type": "stream",
     "text": [
      " DOID:2998 testicular cancer\n",
      "'Int64Index' object has no attribute 'labels'\n",
      "39"
     ]
    },
    {
     "name": "stderr",
     "output_type": "stream",
     "text": [
      "Started DOID_3083 analysis\n",
      "  1.17 s in get_analysis_df(\"COPD == 'COPD'\", \"COPD_control == 'COPD..., '')\n",
      "  1.18 s in Loading dataframe for DOID_3083\n",
      "Matching sources: 22\n",
      "Excluded 4 sources as single-class\n",
      "Stats: 18 sources, 17 series, 7 platforms, 1720 samples\n",
      "Loading data and calculating fold change for DOID_3083\n",
      "Loading data for GSE10006, id = 4\n",
      "  1.54 s in get_probes(4)\n",
      " 49.33 s in load_gse( series_id platform_id..., 4, False)\n",
      "  6.92 s in get_gene_fold_change(<Gse GSE10006>, False, 0, None)\n",
      "Loading data for GSE11784, id = 450\n",
      "  1.61 s in get_probes(4)\n",
      " 84.85 s in load_gse( series_id platform_id..., 450, False)\n",
      " 10.65 s in get_gene_fold_change(<Gse GSE11784>, False, 0, None)\n",
      "Loading data for GSE12472, id = 652\n",
      "  1.47 s in get_probes(26)\n",
      " 10.48 s in load_gse( series_id platform_id..., 652, False)\n",
      "  3.77 s in get_gene_fold_change(<Gse GSE12472>, False, 0, None)\n",
      "Loading data for GSE16972, id = 1810\n",
      "  1.04 s in get_probes(2)\n",
      "  5.15 s in load_gse( series_id platform_id..., 1810, False)\n",
      "  1.43 s in get_gene_fold_change(<Gse GSE16972>, False, 0, None)\n",
      "Loading data for GSE19407, id = 2430\n",
      "  1.74 s in get_probes(4)\n",
      " 69.13 s in load_gse( series_id platform_id..., 2430, False)\n",
      "  9.51 s in get_gene_fold_change(<Gse GSE19407>, False, 0, None)\n",
      "Loading data for GSE20257, id = 2650\n",
      "  1.61 s in get_probes(4)\n",
      " 73.38 s in load_gse( series_id platform_id..., 2650, False)\n",
      "  9.57 s in get_gene_fold_change(<Gse GSE20257>, False, 0, None)\n",
      "Loading data for GSE27536, id = 4511\n",
      "  1.81 s in get_probes(4)\n",
      " 38.27 s in load_gse( series_id platform_id..., 4511, False)\n",
      "  4.88 s in get_gene_fold_change(<Gse GSE27536>, False, 0, None)\n",
      "Loading data for GSE27597, id = 4518\n",
      "  1.56 s in get_probes(280)\n",
      " 16.77 s in load_gse( series_id platform_id..., 4518, False)\n",
      "  4.09 s in get_gene_fold_change(<Gse GSE27597>, False, 0, None)\n",
      "Loading data for GSE29133, id = 4897\n",
      "  1.75 s in get_probes(4)\n",
      "  8.81 s in load_gse( series_id platform_id..., 4897, False)\n",
      "  2.27 s in get_gene_fold_change(<Gse GSE29133>, False, 0, None)\n",
      "Loading data for GSE30063, id = 5140\n",
      "  1.60 s in get_probes(4)\n",
      " 51.37 s in load_gse( series_id platform_id..., 5140, False)\n",
      "skipping GPL570: sample ids mismatch\n",
      "172.28 ms in get_gene_fold_change(<Gse GSE30063>, False, 0, None)\n",
      "Loading data for GSE37768, id = 6962\n"
     ]
    },
    {
     "name": "stdout",
     "output_type": "stream",
     "text": [
      " DOID:3083 chronic obstructive pulmonary disease\n",
      "Loading URL ftp://ftp.ncbi.nih.gov/pub/geo/DATA/SeriesMatrix/GSE37768/GSE37768_series_matrix.txt.gz ...\n",
      "Loading URL"
     ]
    },
    {
     "name": "stderr",
     "output_type": "stream",
     "text": [
      "  1.35 s in load_gse( series_id platform_id..., 6962, False)\n",
      "465.29 s in Load/fold for DOID_3083\n",
      "466.72 s in perform_analysis({'analysis_name': 'DOI...)\n"
     ]
    },
    {
     "name": "stdout",
     "output_type": "stream",
     "text": [
      " ftp://ftp.ncbi.nih.gov/pub/geo/DATA/SeriesMatrix/GSE37768/GSE37768-GPL570_series_matrix.txt.gz ...\n",
      "Can't find matrix file for series 6962, platform 4"
     ]
    },
    {
     "name": "stderr",
     "output_type": "stream",
     "text": [
      "Started DOID_3310 analysis\n",
      "616.06 ms in get_analysis_df(\"eczema == 'eczema'\", \"eczema_control == 'ec..., '')\n",
      "620.46 ms in Loading dataframe for DOID_3310\n",
      "Matching sources: 8\n",
      "Excluded 2 sources as single-class\n",
      "Stats: 6 sources, 5 series, 5 platforms, 129 samples\n",
      "Loading data and calculating fold change for DOID_3310\n",
      "Loading data for GSE12511, id = 664\n",
      "  1.39 s in get_probes(367)\n",
      " 14.57 s in load_gse( series_id platform_id..., 664, False)\n",
      "  2.30 s in get_gene_fold_change(<Gse GSE12511>, False, 0, None)\n",
      "Loading data for GSE13709, id = 966\n",
      "530.53 ms in get_probes(414)\n",
      "496.86 ms in get_probes(415)\n",
      "  4.60 s in load_gse( series_id platform_id..., 966, False)\n",
      "  1.27 s in get_gene_fold_change(<Gse GSE13709>, False, 0, None)\n",
      "Loading data for GSE16161, id = 1619\n",
      "  1.60 s in get_probes(4)\n",
      " 13.01 s in load_gse( series_id platform_id..., 1619, False)\n",
      "  2.95 s in get_gene_fold_change(<Gse GSE16161>, False, 0, None)\n",
      "Loading data for GSE26952, id = 4370\n",
      "  1.10 s in get_probes(74)\n",
      "  6.17 s in load_gse( series_id platform_id..., 4370, False)\n",
      "  1.37 s in get_gene_fold_change(<Gse GSE26952>, False, 0, None)\n",
      "Loading data for GSE32924, id = 5815\n",
      "  1.70 s in get_probes(4)\n",
      " 22.91 s in load_gse( series_id platform_id..., 5815, False)\n",
      "  3.02 s in get_gene_fold_change(<Gse GSE32924>, False, 0, None)\n",
      " 74.01 s in Load/fold for DOID_3310\n",
      "Meta-Analyzing DOID_3310\n",
      "410.32 s in meta analysis of real data for DOID_3310\n",
      "394.07 ms in meta analysis of permutations for DOID_3310\n",
      "118.02 mks in get_balanced_permutations({'analysis_name': 'DOI...,  C H H_lower H_upper \\..., Empty DataFrame Column...)\n",
      "411.35 s in Meta analysis for DOID_3310\n",
      "DONE DOID_3310 analysis\n",
      "486.17 s in perform_analysis({'analysis_name': 'DOI...)\n"
     ]
    },
    {
     "name": "stdout",
     "output_type": "stream",
     "text": [
      "\n",
      "40 DOID:3310 atopic dermatitis\n",
      "41"
     ]
    },
    {
     "name": "stderr",
     "output_type": "stream",
     "text": [
      "Started DOID_3312 analysis\n",
      "953.26 ms in get_analysis_df(\"bipolar_disorder == '..., \"bipolar_disorder_cont..., '')\n",
      "957.58 ms in Loading dataframe for DOID_3312\n",
      "Matching sources: 15\n",
      "Excluded 6 sources as single-class\n",
      "Stats: 9 sources, 9 series, 6 platforms, 438 samples\n",
      "Loading data and calculating fold change for DOID_3312\n",
      "Loading data for GSE11767, id = 446\n",
      "878.67 ms in get_probes(9)\n",
      "  4.49 s in load_gse( series_id platform_id..., 446, False)\n",
      "  1.33 s in get_gene_fold_change(<Gse GSE11767>, False, 0, None)\n",
      "Loading data for GSE23848, id = 3566\n",
      "  1.34 s in get_probes(343)\n",
      " 20.29 s in load_gse( series_id platform_id..., 3566, False)\n",
      "  2.62 s in get_gene_fold_change(<Gse GSE23848>, False, 0, None)\n",
      "Loading data for GSE39653, id = 7363\n",
      "  1.41 s in get_probes(674)\n",
      " 29.03 s in load_gse( series_id platform_id..., 7363, False)\n",
      "  2.86 s in get_gene_fold_change(<Gse GSE39653>, False, 0, None)\n",
      "Loading data for GSE46449, id = 8868\n",
      "  1.53 s in get_probes(4)\n",
      " 59.32 s in load_gse( series_id platform_id..., 8868, False)\n",
      "  6.83 s in get_gene_fold_change(<Gse GSE46449>, False, 0, None)\n",
      "Loading data for GSE5389, id = 10094\n",
      "962.44 ms in get_probes(2)\n",
      "  7.66 s in load_gse( series_id platform_id..., 10094, False)\n",
      "  1.77 s in get_gene_fold_change(<Gse GSE5389>, False, 0, None)\n",
      "Loading data for GSE5392, id = 10102\n",
      "905.68 ms in get_probes(2)\n",
      " 22.96 s in load_gse( series_id platform_id..., 10102, False)\n",
      "  3.34 s in get_gene_fold_change(<Gse GSE5392>, False, 0, None)\n",
      "Loading data for GSE53987, id = 10110\n",
      "  1.53 s in get_probes(4)\n",
      " 95.59 s in load_gse( series_id platform_id..., 10110, False)\n",
      "  8.06 s in get_gene_fold_change(<Gse GSE53987>, False, 0, None)\n",
      "Loading data for GSE7036, id = 11138\n",
      "  1.67 s in get_probes(4)\n",
      "  8.72 s in load_gse( series_id platform_id..., 11138, False)\n",
      "  2.24 s in get_gene_fold_change(<Gse GSE7036>, False, 0, None)\n",
      "Loading data for GSE62191, id = 13125\n",
      "  1.47 s in get_probes(10)\n",
      " 33.33 s in load_gse( series_id platform_id..., 13125, False)\n",
      "  4.01 s in get_gene_fold_change(<Gse GSE62191>, False, 0, None)\n",
      "317.95 s in Load/fold for DOID_3312\n",
      "Meta-Analyzing DOID_3312\n",
      "446.87 s in meta analysis of real data for DOID_3312\n",
      "787.58 ms in meta analysis of permutations for DOID_3312\n",
      "118.97 mks in get_balanced_permutations({'analysis_name': 'DOI...,  C H H_lower H_upper \\..., Empty DataFrame Column...)\n",
      "448.29 s in Meta analysis for DOID_3312\n",
      "DONE DOID_3312 analysis\n",
      "767.41 s in perform_analysis({'analysis_name': 'DOI...)\n"
     ]
    },
    {
     "name": "stdout",
     "output_type": "stream",
     "text": [
      " DOID:3312 bipolar disorder\n",
      "42"
     ]
    },
    {
     "name": "stderr",
     "output_type": "stream",
     "text": [
      "Started DOID_332 analysis\n",
      "930.33 ms in get_analysis_df(\"ALS == 'ALS'\", \"ALS_control == 'ALS_c..., '')\n",
      "935.14 ms in Loading dataframe for DOID_332\n",
      "Matching sources: 11\n",
      "Excluded 1 source as single-class\n",
      "Stats: 10 sources, 10 series, 7 platforms, 171 samples\n",
      "Loading data and calculating fold change for DOID_332\n",
      "Loading data for GSE18920, id = 2315\n",
      "  5.76 s in get_probes(54)\n",
      "113.80 s in load_gse( series_id platform_id..., 2315, False)\n",
      " 33.66 s in get_gene_fold_change(<Gse GSE18920>, False, 0, None)\n",
      "Loading data for GSE19332, id = 2413\n",
      "  1.49 s in get_probes(4)\n",
      "  9.84 s in load_gse( series_id platform_id..., 2413, False)\n",
      "  2.49 s in get_gene_fold_change(<Gse GSE19332>, False, 0, None)\n",
      "Loading data for GSE26276, id = 4160\n",
      "  1.06 s in get_probes(283)\n",
      "  6.81 s in load_gse( series_id platform_id..., 4160, False)\n",
      "  1.47 s in get_gene_fold_change(<Gse GSE26276>, False, 0, None)\n",
      "Loading data for GSE28253, id = 4659\n",
      "  1.46 s in get_probes(10)\n",
      " 16.84 s in load_gse( series_id platform_id..., 4659, False)\n",
      "  2.47 s in get_gene_fold_change(<Gse GSE28253>, False, 0, None)\n",
      "Loading data for GSE33855, id = 6038\n",
      "  6.12 s in get_probes(54)\n",
      " 65.82 s in load_gse( series_id platform_id..., 6038, False)\n",
      " 21.09 s in get_gene_fold_change(<Gse GSE33855>, False, 0, None)\n",
      "Loading data for GSE40328, id = 7530\n",
      " 40.18 ms in get_probes(643)\n",
      "908.63 ms in load_gse( series_id platform_id..., 7530, False)\n",
      "446.38 ms in get_gene_fold_change(<Gse GSE40328>, False, 0, None)\n",
      "Loading data for GSE4595, id = 8780\n",
      "  1.34 s in get_probes(26)\n",
      " 11.46 s in load_gse( series_id platform_id..., 8780, False)\n",
      "  2.20 s in get_gene_fold_change(<Gse GSE4595>, False, 0, None)\n",
      "Loading data for GSE56500, id = 10463\n",
      "  5.88 s in get_probes(54)\n",
      " 51.23 s in load_gse( series_id platform_id..., 10463, False)\n",
      " 16.87 s in get_gene_fold_change(<Gse GSE56500>, False, 0, None)\n",
      "Loading data for GSE56808, id = 10498\n",
      "  1.54 s in get_probes(4)\n",
      " 13.11 s in load_gse( series_id platform_id..., 10498, False)\n",
      "  2.58 s in get_gene_fold_change(<Gse GSE56808>, False, 0, None)\n",
      "Loading data for GSE833, id = 11454\n",
      "441.64 ms in get_probes(22)\n",
      "  2.31 s in load_gse( series_id platform_id..., 11454, False)\n",
      "665.54 ms in get_gene_fold_change(<Gse GSE833>, False, 0, None)\n",
      "383.35 s in Load/fold for DOID_332\n",
      "Meta-Analyzing DOID_332\n",
      "458.90 s in meta analysis of real data for DOID_332\n",
      "  3.63 s in meta analysis of permutations for DOID_332\n",
      " 24.08 mks in get_balanced_permutations({'analysis_name': 'DOI...,  C H H_lower H_upper \\..., Empty DataFrame Column...)\n",
      "462.62 s in Meta analysis for DOID_332\n",
      "DONE DOID_332 analysis\n",
      "847.11 s in perform_analysis({'analysis_name': 'DOI...)\n"
     ]
    },
    {
     "name": "stdout",
     "output_type": "stream",
     "text": [
      " DOID:332 amyotrophic lateral sclerosis\n",
      "43"
     ]
    },
    {
     "name": "stderr",
     "output_type": "stream",
     "text": [
      "Started DOID_3393 analysis\n",
      "  1.87 s in get_analysis_df(\"CAD == 'CAD'\", \"CAD_control == 'CAD_c..., '')\n",
      "  1.88 s in Loading dataframe for DOID_3393\n",
      "Matching sources: 8\n",
      "Excluded 1 source as single-class\n",
      "Stats: 7 sources, 7 series, 6 platforms, 524 samples\n",
      "Loading data and calculating fold change for DOID_3393\n",
      "Loading data for GSE10195, id = 57\n",
      "  1.39 s in get_probes(26)\n",
      " 25.51 s in load_gse( series_id platform_id..., 57, False)\n",
      "  3.10 s in get_gene_fold_change(<Gse GSE10195>, False, 0, None)\n",
      "Loading data for GSE12288, id = 598\n",
      "939.14 ms in get_probes(2)\n",
      " 42.32 s in load_gse( series_id platform_id..., 598, False)\n",
      "  7.21 s in get_gene_fold_change(<Gse GSE12288>, False, 0, None)\n",
      "Loading data for GSE18608, id = 2234\n",
      "  1.79 s in get_probes(4)\n",
      "  9.86 s in load_gse( series_id platform_id..., 2234, False)\n",
      "  3.02 s in get_gene_fold_change(<Gse GSE18608>, False, 0, None)\n",
      "Loading data for GSE23561, id = 3492\n",
      "  1.38 s in get_probes(780)\n",
      " 18.52 s in load_gse( series_id platform_id..., 3492, False)\n",
      "  2.16 s in get_gene_fold_change(<Gse GSE23561>, False, 0, None)\n",
      "Loading data for GSE42148, id = 7959\n",
      "  1.56 s in get_probes(866)\n",
      " 18.89 s in load_gse( series_id platform_id..., 7959, False)\n",
      "  3.34 s in get_gene_fold_change(<Gse GSE42148>, False, 0, None)\n",
      "Loading data for GSE7638, id = 11305\n",
      "964.54 ms in get_probes(9)\n",
      " 41.71 s in load_gse( series_id platform_id..., 11305, False)\n",
      "  5.70 s in get_gene_fold_change(<Gse GSE7638>, False, 0, None)\n",
      "Loading data for GSE974, id = 11812\n",
      "996.97 ms in get_probes(2)\n",
      "  8.73 s in load_gse( series_id platform_id..., 11812, False)\n",
      "  2.07 s in get_gene_fold_change(<Gse GSE974>, False, 0, None)\n",
      "194.72 s in Load/fold for DOID_3393\n",
      "Meta-Analyzing DOID_3393\n",
      "424.42 s in meta analysis of real data for DOID_3393\n",
      "605.19 ms in meta analysis of permutations for DOID_3393\n",
      "283.00 mks in get_balanced_permutations({'analysis_name': 'DOI...,  C H H_lower H_upper \\..., Empty DataFrame Column...)\n",
      "425.67 s in Meta analysis for DOID_3393\n",
      "DONE DOID_3393 analysis\n",
      "622.46 s in perform_analysis({'analysis_name': 'DOI...)\n"
     ]
    },
    {
     "name": "stdout",
     "output_type": "stream",
     "text": [
      " DOID:3393 coronary artery disease\n",
      "44"
     ]
    },
    {
     "name": "stderr",
     "output_type": "stream",
     "text": [
      "Started DOID_418 analysis\n",
      "  1.20 s in get_analysis_df(\"systemic_scleroderma ..., \"systemic_scleroderma_..., '')\n",
      "  1.21 s in Loading dataframe for DOID_418\n",
      "Matching sources: 10\n",
      "Excluded 4 sources as single-class\n",
      "Excluded 2 sources by min samples\n",
      "Stats: 4 sources, 4 series, 3 platforms, 157 samples\n",
      "Loading data and calculating fold change for DOID_418\n",
      "Loading data for GSE3886, id = 7181\n",
      "128.72 ms in get_probes(1119)\n",
      "  6.57 s in load_gse( series_id platform_id..., 7181, False)\n",
      "472.01 ms in get_gene_fold_change(<Gse GSE3886>, False, 0, None)\n",
      "Loading data for GSE4385, id = 8361\n",
      "128.40 ms in get_probes(1119)\n",
      "  6.43 s in load_gse( series_id platform_id..., 8361, False)\n",
      "403.04 ms in get_gene_fold_change(<Gse GSE4385>, False, 0, None)\n",
      "Loading data for GSE45536, id = 8688\n",
      "  1.56 s in get_probes(4)\n",
      " 58.18 s in load_gse( series_id platform_id..., 8688, False)\n",
      "  8.82 s in get_gene_fold_change(<Gse GSE45536>, False, 0, None)\n",
      "Loading data for GSE63903, id = 13309\n",
      "  1.38 s in get_probes(674)\n",
      " 11.35 s in load_gse( series_id platform_id..., 13309, False)\n",
      "  2.07 s in get_gene_fold_change(<Gse GSE63903>, False, 0, None)\n",
      " 95.69 s in Load/fold for DOID_418\n",
      "Meta-Analyzing DOID_418\n",
      "330.38 s in meta analysis of real data for DOID_418\n",
      "230.43 ms in meta analysis of permutations for DOID_418\n",
      "119.92 mks in get_balanced_permutations({'analysis_name': 'DOI...,  C H H_lower H_upper I..., Empty DataFrame Column...)\n",
      "331.22 s in Meta analysis for DOID_418\n",
      "DONE DOID_418 analysis\n",
      "428.30 s in perform_analysis({'analysis_name': 'DOI...)\n"
     ]
    },
    {
     "name": "stdout",
     "output_type": "stream",
     "text": [
      " DOID:418 systemic scleroderma\n",
      "45"
     ]
    },
    {
     "name": "stderr",
     "output_type": "stream",
     "text": [
      "Started DOID_4481 analysis\n",
      "833.78 ms in get_analysis_df(\"allergic_rhinitis == ..., \"allergic_rhinitis_con..., '')\n",
      "838.07 ms in Loading dataframe for DOID_4481\n",
      "Matching sources: 12\n",
      "Stats: 12 sources, 11 series, 10 platforms, 352 samples\n",
      "Loading data and calculating fold change for DOID_4481\n",
      "Loading data for GSE19187, id = 2377\n",
      "  1.06 s in get_probes(283)\n",
      " 15.04 s in load_gse( series_id platform_id..., 2377, False)\n",
      "  2.16 s in get_gene_fold_change(<Gse GSE19187>, False, 0, None)\n",
      "Loading data for GSE1964, id = 2481\n",
      "161.03 ms in get_probes(654)\n",
      "  2.28 s in load_gse( series_id platform_id..., 2481, False)\n",
      "393.11 ms in get_gene_fold_change(<Gse GSE1964>, False, 0, None)\n",
      "Loading data for GSE37146, id = 6813\n",
      "  1.15 s in get_probes(17)\n",
      " 14.30 s in load_gse( series_id platform_id..., 6813, False)\n",
      "  2.01 s in get_gene_fold_change(<Gse GSE37146>, False, 0, None)\n",
      "Loading data for GSE37155, id = 6815\n",
      "  1.38 s in get_probes(674)\n",
      "  8.51 s in load_gse( series_id platform_id..., 6815, False)\n",
      "  1.89 s in get_gene_fold_change(<Gse GSE37155>, False, 0, None)\n",
      "Loading data for GSE44037, id = 8399\n",
      "  1.86 s in get_probes(901)\n",
      " 22.53 s in load_gse( series_id platform_id..., 8399, False)\n",
      "  3.06 s in get_gene_fold_change(<Gse GSE44037>, False, 0, None)\n",
      "Loading data for GSE46171, id = 8818\n",
      "  1.52 s in get_probes(1363)\n",
      "  1.52 s in get_probes(53)\n",
      " 43.69 s in load_gse( series_id platform_id..., 8818, False)\n",
      "  3.90 s in get_gene_fold_change(<Gse GSE46171>, False, 0, None)\n",
      "Loading data for GSE50101, id = 9523\n",
      "  1.33 s in get_probes(674)\n",
      " 23.21 s in load_gse( series_id platform_id..., 9523, False)\n",
      "  3.11 s in get_gene_fold_change(<Gse GSE50101>, False, 0, None)\n",
      "Loading data for GSE50223, id = 9538\n",
      "  1.30 s in get_probes(416)\n",
      " 43.46 s in load_gse( series_id platform_id..., 9538, False)\n",
      "  4.56 s in get_gene_fold_change(<Gse GSE50223>, False, 0, None)\n",
      "Loading data for GSE51392, id = 9724\n",
      "  1.79 s in get_probes(901)\n",
      " 39.24 s in load_gse( series_id platform_id..., 9724, False)\n",
      "  4.24 s in get_gene_fold_change(<Gse GSE51392>, False, 0, None)\n",
      "Loading data for GSE43523, id = 12101\n",
      "  1.18 s in get_probes(331)\n",
      "  5.88 s in load_gse( series_id platform_id..., 12101, False)\n",
      "  1.61 s in get_gene_fold_change(<Gse GSE43523>, False, 0, None)\n",
      "Loading data for GSE54522, id = 12433\n",
      "  1.56 s in get_probes(4)\n",
      " 33.30 s in load_gse( series_id platform_id..., 12433, False)\n",
      "  4.42 s in get_gene_fold_change(<Gse GSE54522>, False, 0, None)\n",
      "287.04 s in Load/fold for DOID_4481\n",
      "Meta-Analyzing DOID_4481\n",
      "483.47 s in meta analysis of real data for DOID_4481\n",
      "922.41 ms in meta analysis of permutations for DOID_4481\n",
      "116.83 mks in get_balanced_permutations({'analysis_name': 'DOI...,  C H H_lower H_upper \\..., Empty DataFrame Column...)\n",
      "485.05 s in Meta analysis for DOID_4481\n",
      "DONE DOID_4481 analysis\n",
      "773.14 s in perform_analysis({'analysis_name': 'DOI...)\n"
     ]
    },
    {
     "name": "stdout",
     "output_type": "stream",
     "text": [
      " DOID:4481 allergic rhinitis\n",
      "46"
     ]
    },
    {
     "name": "stderr",
     "output_type": "stream",
     "text": [
      "Started DOID_4606 analysis\n",
      "889.34 ms in get_analysis_df(\"bile_duct_cancer == '..., \"bile_duct_cancer_cont..., '')\n",
      "893.67 ms in Loading dataframe for DOID_4606\n",
      "Matching sources: 0\n",
      "957.83 ms in perform_analysis({'analysis_name': 'DOI...)\n"
     ]
    },
    {
     "name": "stdout",
     "output_type": "stream",
     "text": [
      " DOID:4606 bile duct cancer\n",
      "'Int64Index' object has no attribute 'labels'\n",
      "47"
     ]
    },
    {
     "name": "stderr",
     "output_type": "stream",
     "text": [
      "Started DOID_5419 analysis\n",
      "  1.20 s in get_analysis_df(\"schizophrenia == 'sch..., \"Psychiatric_Control =..., '')\n",
      "  1.20 s in Loading dataframe for DOID_5419\n",
      "Matching sources: 27\n",
      "Excluded 4 sources as single-class\n",
      "Stats: 23 sources, 22 series, 12 platforms, 1420 samples\n",
      "Loading data and calculating fold change for DOID_5419\n",
      "Loading data for GSE12649, id = 702\n",
      "  1.03 s in get_probes(2)\n",
      " 24.80 s in load_gse( series_id platform_id..., 702, False)\n",
      "  2.43 s in get_gene_fold_change(<Gse GSE12649>, False, 0, None)\n",
      "Loading data for GSE12654, id = 704\n",
      "707.98 ms in get_probes(7)\n",
      "  8.31 s in load_gse( series_id platform_id..., 704, False)\n",
      "  1.17 s in get_gene_fold_change(<Gse GSE12654>, False, 0, None)\n",
      "Loading data for GSE17612, id = 1980\n",
      "  1.60 s in get_probes(4)\n",
      " 26.51 s in load_gse( series_id platform_id..., 1980, False)\n",
      "  4.76 s in get_gene_fold_change(<Gse GSE17612>, False, 0, None)\n",
      "Loading data for GSE18312, id = 2160\n",
      "  1.35 s in get_probes(280)\n",
      "  8.66 s in load_gse( series_id platform_id..., 2160, False)\n",
      "  2.36 s in get_gene_fold_change(<Gse GSE18312>, False, 0, None)\n",
      "Loading data for GSE19112, id = 2359\n",
      " 38.34 ms in get_probes(643)\n",
      "  2.25 s in load_gse( series_id platform_id..., 2359, False)\n",
      "311.59 ms in get_gene_fold_change(<Gse GSE19112>, False, 0, None)\n",
      "Loading data for GSE21138, id = 2862\n",
      "  1.80 s in get_probes(4)\n",
      " 17.35 s in load_gse( series_id platform_id..., 2862, False)\n",
      "  4.83 s in get_gene_fold_change(<Gse GSE21138>, False, 0, None)\n",
      "Loading data for GSE21935, id = 3048\n",
      "  1.58 s in get_probes(4)\n",
      " 30.79 s in load_gse( series_id platform_id..., 3048, False)\n",
      "  4.27 s in get_gene_fold_change(<Gse GSE21935>, False, 0, None)\n",
      "Loading data for GSE25673, id = 4035\n",
      "  1.04 s in get_probes(283)\n",
      " 10.34 s in load_gse( series_id platform_id..., 4035, False)\n",
      "  1.94 s in get_gene_fold_change(<Gse GSE25673>, False, 0, None)\n",
      "Loading data for GSE27383, id = 4471\n",
      "  1.54 s in get_probes(4)\n",
      " 47.52 s in load_gse( series_id platform_id..., 4471, False)\n",
      "  5.90 s in get_gene_fold_change(<Gse GSE27383>, False, 0, None)\n",
      "Loading data for GSE35974, id = 6545\n",
      "  1.09 s in get_probes(283)\n",
      " 47.04 s in load_gse( series_id platform_id..., 6545, False)\n",
      "  3.97 s in get_gene_fold_change(<Gse GSE35974>, False, 0, None)\n",
      "Loading data for GSE35977, id = 6547\n",
      "  1.09 s in get_probes(283)\n",
      " 55.44 s in load_gse( series_id platform_id..., 6547, False)\n",
      "  4.05 s in get_gene_fold_change(<Gse GSE35977>, False, 0, None)\n",
      "Loading data for GSE37981, id = 7007\n",
      "  1.77 s in get_probes(67)\n",
      " 16.06 s in load_gse( series_id platform_id..., 7007, False)\n",
      "  3.12 s in get_gene_fold_change(<Gse GSE37981>, False, 0, None)\n",
      "Loading data for GSE38481, id = 7104\n",
      "  1.12 s in get_probes(331)\n",
      " 12.12 s in load_gse( series_id platform_id..., 7104, False)\n",
      "  2.24 s in get_gene_fold_change(<Gse GSE38481>, False, 0, None)\n",
      "Loading data for GSE38484, id = 7105\n",
      "  1.28 s in get_probes(389)\n",
      "111.06 s in load_gse( series_id platform_id..., 7105, False)\n",
      "  8.23 s in get_gene_fold_change(<Gse GSE38484>, False, 0, None)\n",
      "Loading data for GSE38485, id = 7106\n",
      "  1.15 s in get_probes(331)\n",
      "  1.46 s in get_probes(389)\n",
      "121.67 s in load_gse( series_id platform_id..., 7106, False)\n",
      " 10.42 s in get_gene_fold_change(<Gse GSE38485>, False, 0, None)\n",
      "Loading data for GSE46509, id = 8882\n",
      "  1.70 s in get_probes(67)\n",
      " 14.70 s in load_gse( series_id platform_id..., 8882, False)\n",
      "  2.93 s in get_gene_fold_change(<Gse GSE46509>, False, 0, None)\n",
      "Loading data for GSE53987, id = 10110\n",
      "  1.56 s in get_probes(4)\n",
      " 95.64 s in load_gse( series_id platform_id..., 10110, False)\n",
      "  7.80 s in get_gene_fold_change(<Gse GSE53987>, False, 0, None)\n",
      "Loading data for GSE27356, id = 11959\n",
      " 35.90 ms in get_probes(1703)\n",
      "  1.54 s in load_gse( series_id platform_id..., 11959, False)\n",
      "250.84 ms in get_gene_fold_change(<Gse GSE27356>, False, 0, None)\n",
      "Loading data for GSE27601, id = 11963\n"
     ]
    },
    {
     "name": "stdout",
     "output_type": "stream",
     "text": [
      " DOID:5419 schizophrenia\n",
      "Loading URL ftp://ftp.ncbi.nih.gov/pub/geo/DATA/SeriesMatrix/GSE27601/GSE27601_series_matrix.txt.gz ...\n",
      "Cache to"
     ]
    },
    {
     "name": "stderr",
     "output_type": "stream",
     "text": [
      " 35.97 ms in get_probes(1703)\n",
      "  3.19 s in load_gse( series_id platform_id..., 11963, False)\n",
      "175.85 ms in get_gene_fold_change(<Gse GSE27601>, False, 0, None)\n",
      "Loading data for GSE62105, id = 13113\n"
     ]
    },
    {
     "name": "stdout",
     "output_type": "stream",
     "text": [
      " data/geo_mirror/DATA/SeriesMatrix/GSE27601/GSE27601_series_matrix.txt.gz\n",
      "Loading URL ftp://ftp.ncbi.nih.gov/pub/geo/DATA/SeriesMatrix/GSE62105/GSE62105_series_matrix.txt.gz ...\n",
      "Cache to"
     ]
    },
    {
     "name": "stderr",
     "output_type": "stream",
     "text": [
      "  1.46 s in get_probes(10)\n",
      " 14.15 s in load_gse( series_id platform_id..., 13113, False)\n",
      "  1.98 s in get_gene_fold_change(<Gse GSE62105>, False, 0, None)\n",
      "Loading data for GSE62191, id = 13125\n",
      "  1.49 s in get_probes(10)\n",
      " 33.17 s in load_gse( series_id platform_id..., 13125, False)\n",
      "  3.96 s in get_gene_fold_change(<Gse GSE62191>, False, 0, None)\n",
      "Loading data for GSE62333, id = 13140\n"
     ]
    },
    {
     "name": "stdout",
     "output_type": "stream",
     "text": [
      " data/geo_mirror/DATA/SeriesMatrix/GSE62105/GSE62105_series_matrix.txt.gz\n",
      "Loading URL ftp://ftp.ncbi.nih.gov/pub/geo/DATA/SeriesMatrix/GSE62333/GSE62333_series_matrix.txt.gz ...\n",
      "Cache to"
     ]
    },
    {
     "name": "stderr",
     "output_type": "stream",
     "text": [
      "  1.03 s in get_probes(953)\n",
      " 23.39 s in load_gse( series_id platform_id..., 13140, False)\n",
      "  2.34 s in get_gene_fold_change(<Gse GSE62333>, False, 0, None)\n",
      "814.50 s in Load/fold for DOID_5419\n",
      "Meta-Analyzing DOID_5419\n",
      "488.67 s in meta analysis of real data for DOID_5419\n",
      "  1.70 s in meta analysis of permutations for DOID_5419\n",
      "122.07 mks in get_balanced_permutations({'analysis_name': 'DOI...,  C H H_lower H_upper \\..., Empty DataFrame Column...)\n",
      "491.01 s in Meta analysis for DOID_5419\n",
      "DONE DOID_5419 analysis\n",
      "1307.00 s in perform_analysis({'analysis_name': 'DOI...)\n"
     ]
    },
    {
     "name": "stdout",
     "output_type": "stream",
     "text": [
      " data/geo_mirror/DATA/SeriesMatrix/GSE62333/GSE62333_series_matrix.txt.gz\n",
      "48"
     ]
    },
    {
     "name": "stderr",
     "output_type": "stream",
     "text": [
      "Started DOID_635 analysis\n",
      "  1.18 s in get_analysis_df(\"HIV_Stage1 == 'HIV_St..., \"HIV_healthycontrol ==..., '')\n",
      "  1.18 s in Loading dataframe for DOID_635\n",
      "Matching sources: 8\n",
      "Excluded 8 sources as single-class\n",
      "  1.26 s in perform_analysis({'analysis_name': 'DOI...)\n"
     ]
    },
    {
     "name": "stdout",
     "output_type": "stream",
     "text": [
      " DOID:635 acquired immunodeficiency syndrome\n",
      "'Int64Index' object has no attribute 'labels'\n",
      "49"
     ]
    },
    {
     "name": "stderr",
     "output_type": "stream",
     "text": [
      "Started DOID_7147 analysis\n",
      "576.06 ms in get_analysis_df(\"ankylosing_spondyliti..., \"ankylosing_spondyliti..., '')\n",
      "580.26 ms in Loading dataframe for DOID_7147\n",
      "Matching sources: 3\n",
      "Excluded 1 source by min samples\n",
      "Stats: 2 sources, 2 series, 2 platforms, 65 samples\n",
      "Loading data and calculating fold change for DOID_7147\n",
      "Loading data for GSE11886, id = 479\n",
      "  1.56 s in get_probes(4)\n",
      " 23.28 s in load_gse( series_id platform_id..., 479, False)\n",
      "  3.68 s in get_gene_fold_change(<Gse GSE11886>, False, 0, None)\n",
      "Loading data for GSE25101, id = 3902\n",
      "  1.33 s in get_probes(389)\n",
      "  8.48 s in load_gse( series_id platform_id..., 3902, False)\n",
      "  2.43 s in get_gene_fold_change(<Gse GSE25101>, False, 0, None)\n",
      " 38.67 s in Load/fold for DOID_7147\n",
      "Meta-Analyzing DOID_7147\n",
      "213.27 s in meta analysis of real data for DOID_7147\n",
      "200.69 ms in meta analysis of permutations for DOID_7147\n",
      "118.97 mks in get_balanced_permutations({'analysis_name': 'DOI...,  C H H_lower H_upper I..., Empty DataFrame Column...)\n",
      "214.11 s in Meta analysis for DOID_7147\n",
      "DONE DOID_7147 analysis\n",
      "253.53 s in perform_analysis({'analysis_name': 'DOI...)\n"
     ]
    },
    {
     "name": "stdout",
     "output_type": "stream",
     "text": [
      " DOID:7147 ankylosing spondylitis\n",
      "50"
     ]
    },
    {
     "name": "stderr",
     "output_type": "stream",
     "text": [
      "Started DOID_7148 analysis\n",
      "836.12 ms in get_analysis_df(\"RA == 'RA'\", \"RA_control == 'RA_con..., '')\n",
      "840.33 ms in Loading dataframe for DOID_7148\n",
      "Matching sources: 21\n",
      "Excluded 1 source as single-class\n",
      "Excluded 2 sources by min samples\n",
      "Stats: 18 sources, 17 series, 13 platforms, 607 samples\n",
      "Loading data and calculating fold change for DOID_7148\n",
      "Loading data for GSE10500, id = 137\n"
     ]
    },
    {
     "name": "stdout",
     "output_type": "stream",
     "text": [
      " DOID:7148 rheumatoid arthritis\n",
      "Loading URL ftp://ftp.ncbi.nih.gov/pub/geo/DATA/SeriesMatrix/GSE10500/GSE10500_series_matrix.txt.gz ...\n",
      "Cache to"
     ]
    },
    {
     "name": "stderr",
     "output_type": "stream",
     "text": [
      "676.85 ms in get_probes(7)\n",
      "  4.84 s in load_gse( series_id platform_id..., 137, False)\n",
      "862.93 ms in get_gene_fold_change(<Gse GSE10500>, False, 0, None)\n",
      "Loading data for GSE11827, id = 457\n"
     ]
    },
    {
     "name": "stdout",
     "output_type": "stream",
     "text": [
      " data/geo_mirror/DATA/SeriesMatrix/GSE10500/GSE10500_series_matrix.txt.gz\n",
      "Loading URL ftp://ftp.ncbi.nih.gov/pub/geo/DATA/SeriesMatrix/GSE11827/GSE11827_series_matrix.txt.gz ...\n",
      "Cache to"
     ]
    },
    {
     "name": "stderr",
     "output_type": "stream",
     "text": [
      " 38.59 ms in get_probes(36)\n",
      " 13.28 s in load_gse( series_id platform_id..., 457, False)\n",
      "219.69 ms in get_gene_fold_change(<Gse GSE11827>, False, 0, None)\n",
      "Loading data for GSE12021, id = 517\n"
     ]
    },
    {
     "name": "stdout",
     "output_type": "stream",
     "text": [
      " data/geo_mirror/DATA/SeriesMatrix/GSE11827/GSE11827_series_matrix.txt.gz\n",
      "Loading URL ftp://ftp.ncbi.nih.gov/pub/geo/DATA/SeriesMatrix/GSE12021/GSE12021_series_matrix.txt.gz ...\n",
      "Loading URL ftp://ftp.ncbi.nih.gov/pub/geo/DATA/SeriesMatrix/GSE12021/GSE12021-GPL96_series_matrix.txt.gz ...\n",
      "Cache to"
     ]
    },
    {
     "name": "stderr",
     "output_type": "stream",
     "text": [
      "  1.01 s in get_probes(2)\n"
     ]
    },
    {
     "name": "stdout",
     "output_type": "stream",
     "text": [
      " data/geo_mirror/DATA/SeriesMatrix/GSE12021/GSE12021-GPL96_series_matrix.txt.gz\n",
      "Loading URL ftp://ftp.ncbi.nih.gov/pub/geo/DATA/SeriesMatrix/GSE12021/GSE12021_series_matrix.txt.gz ...\n",
      "Loading URL ftp://ftp.ncbi.nih.gov/pub/geo/DATA/SeriesMatrix/GSE12021/GSE12021-GPL97_series_matrix.txt.gz ...\n",
      "Cache to"
     ]
    },
    {
     "name": "stderr",
     "output_type": "stream",
     "text": [
      "976.56 ms in get_probes(50)\n",
      " 27.70 s in load_gse( series_id platform_id..., 517, False)\n",
      "  2.74 s in get_gene_fold_change(<Gse GSE12021>, False, 0, None)\n",
      "Loading data for GSE13026, id = 799\n"
     ]
    },
    {
     "name": "stdout",
     "output_type": "stream",
     "text": [
      " data/geo_mirror/DATA/SeriesMatrix/GSE12021/GSE12021-GPL97_series_matrix.txt.gz\n",
      "Loading URL ftp://ftp.ncbi.nih.gov/pub/geo/DATA/SeriesMatrix/GSE13026/GSE13026_series_matrix.txt.gz ...\n",
      "Cache to"
     ]
    },
    {
     "name": "stderr",
     "output_type": "stream",
     "text": [
      " 36.09 ms in get_probes(36)\n",
      " 12.34 s in load_gse( series_id platform_id..., 799, False)\n",
      "198.96 ms in get_gene_fold_change(<Gse GSE13026>, False, 0, None)\n",
      "Loading data for GSE15573, id = 1473\n"
     ]
    },
    {
     "name": "stdout",
     "output_type": "stream",
     "text": [
      " data/geo_mirror/DATA/SeriesMatrix/GSE13026/GSE13026_series_matrix.txt.gz\n",
      "Loading URL ftp://ftp.ncbi.nih.gov/pub/geo/DATA/SeriesMatrix/GSE15573/GSE15573_series_matrix.txt.gz ...\n",
      "Cache to"
     ]
    },
    {
     "name": "stderr",
     "output_type": "stream",
     "text": [
      "  1.15 s in get_probes(17)\n",
      " 24.28 s in load_gse( series_id platform_id..., 1473, False)\n",
      "  2.32 s in get_gene_fold_change(<Gse GSE15573>, False, 0, None)\n",
      "Loading data for GSE17755, id = 2014\n"
     ]
    },
    {
     "name": "stdout",
     "output_type": "stream",
     "text": [
      " data/geo_mirror/DATA/SeriesMatrix/GSE15573/GSE15573_series_matrix.txt.gz\n",
      "Loading URL ftp://ftp.ncbi.nih.gov/pub/geo/DATA/SeriesMatrix/GSE17755/GSE17755_series_matrix.txt.gz ...\n",
      "Cache to"
     ]
    },
    {
     "name": "stderr",
     "output_type": "stream",
     "text": [
      "840.14 ms in get_probes(51)\n",
      " 59.47 s in load_gse( series_id platform_id..., 2014, False)\n",
      "  3.93 s in get_gene_fold_change(<Gse GSE17755>, False, 0, None)\n",
      "Loading data for GSE1919, id = 2379\n"
     ]
    },
    {
     "name": "stdout",
     "output_type": "stream",
     "text": [
      " data/geo_mirror/DATA/SeriesMatrix/GSE17755/GSE17755_series_matrix.txt.gz\n",
      "Loading URL ftp://ftp.ncbi.nih.gov/pub/geo/DATA/SeriesMatrix/GSE1919/GSE1919_series_matrix.txt.gz ...\n",
      "Cache to"
     ]
    },
    {
     "name": "stderr",
     "output_type": "stream",
     "text": [
      "676.45 ms in get_probes(8)\n",
      "  5.44 s in load_gse( series_id platform_id..., 2379, False)\n",
      "937.33 ms in get_gene_fold_change(<Gse GSE1919>, False, 0, None)\n",
      "Loading data for GSE2053, id = 2720\n"
     ]
    },
    {
     "name": "stdout",
     "output_type": "stream",
     "text": [
      " data/geo_mirror/DATA/SeriesMatrix/GSE1919/GSE1919_series_matrix.txt.gz\n",
      "Loading URL ftp://ftp.ncbi.nih.gov/pub/geo/DATA/SeriesMatrix/GSE2053/GSE2053_series_matrix.txt.gz ...\n",
      "Cache to"
     ]
    },
    {
     "name": "stderr",
     "output_type": "stream",
     "text": [
      "480.76 ms in get_probes(688)\n",
      "  4.93 s in load_gse( series_id platform_id..., 2720, False)\n",
      "640.52 ms in get_gene_fold_change(<Gse GSE2053>, False, 0, None)\n",
      "Loading data for GSE21959, id = 3055\n"
     ]
    },
    {
     "name": "stdout",
     "output_type": "stream",
     "text": [
      " data/geo_mirror/DATA/SeriesMatrix/GSE2053/GSE2053_series_matrix.txt.gz\n",
      "Loading URL ftp://ftp.ncbi.nih.gov/pub/geo/DATA/SeriesMatrix/GSE21959/GSE21959_series_matrix.txt.gz ...\n",
      "Cache to"
     ]
    },
    {
     "name": "stderr",
     "output_type": "stream",
     "text": [
      "  1.44 s in get_probes(10)\n",
      " 22.63 s in load_gse( series_id platform_id..., 3055, False)\n",
      "  3.06 s in get_gene_fold_change(<Gse GSE21959>, False, 0, None)\n",
      "Loading data for GSE23561, id = 3492\n",
      "  1.44 s in get_probes(780)\n",
      " 17.16 s in load_gse( series_id platform_id..., 3492, False)\n",
      "  2.09 s in get_gene_fold_change(<Gse GSE23561>, False, 0, None)\n",
      "Loading data for GSE29746, id = 5051\n"
     ]
    },
    {
     "name": "stdout",
     "output_type": "stream",
     "text": [
      " data/geo_mirror/DATA/SeriesMatrix/GSE21959/GSE21959_series_matrix.txt.gz\n",
      "Loading URL ftp://ftp.ncbi.nih.gov/pub/geo/DATA/SeriesMatrix/GSE29746/GSE29746_series_matrix.txt.gz ...\n",
      "Cache to"
     ]
    },
    {
     "name": "stderr",
     "output_type": "stream",
     "text": [
      "  1.51 s in get_probes(10)\n",
      " 20.47 s in load_gse( series_id platform_id..., 5051, False)\n",
      "  2.39 s in get_gene_fold_change(<Gse GSE29746>, False, 0, None)\n",
      "Loading data for GSE4588, id = 8761\n"
     ]
    },
    {
     "name": "stdout",
     "output_type": "stream",
     "text": [
      " data/geo_mirror/DATA/SeriesMatrix/GSE29746/GSE29746_series_matrix.txt.gz\n",
      "Loading URL ftp://ftp.ncbi.nih.gov/pub/geo/DATA/SeriesMatrix/GSE4588/GSE4588_series_matrix.txt.gz ...\n",
      "Cache to"
     ]
    },
    {
     "name": "stderr",
     "output_type": "stream",
     "text": [
      "  1.61 s in get_probes(4)\n",
      " 32.58 s in load_gse( series_id platform_id..., 8761, False)\n",
      "  3.67 s in get_gene_fold_change(<Gse GSE4588>, False, 0, None)\n",
      "Loading data for GSE49604, id = 9430\n"
     ]
    },
    {
     "name": "stdout",
     "output_type": "stream",
     "text": [
      " data/geo_mirror/DATA/SeriesMatrix/GSE4588/GSE4588_series_matrix.txt.gz\n",
      "Loading URL ftp://ftp.ncbi.nih.gov/pub/geo/DATA/SeriesMatrix/GSE49604/GSE49604_series_matrix.txt.gz ...\n",
      "Loading URL ftp://ftp.ncbi.nih.gov/pub/geo/DATA/SeriesMatrix/GSE49604/GSE49604-GPL10558_series_matrix.txt.gz ...\n",
      "Cache to"
     ]
    },
    {
     "name": "stderr",
     "output_type": "stream",
     "text": [
      "  1.33 s in get_probes(674)\n",
      " 16.42 s in load_gse( series_id platform_id..., 9430, False)\n",
      "  2.00 s in get_gene_fold_change(<Gse GSE49604>, False, 0, None)\n",
      "Loading data for GSE55235, id = 10308\n"
     ]
    },
    {
     "name": "stdout",
     "output_type": "stream",
     "text": [
      " data/geo_mirror/DATA/SeriesMatrix/GSE49604/GSE49604-GPL10558_series_matrix.txt.gz\n",
      "Loading URL ftp://ftp.ncbi.nih.gov/pub/geo/DATA/SeriesMatrix/GSE55235/GSE55235_series_matrix.txt.gz ...\n",
      "Cache to"
     ]
    },
    {
     "name": "stderr",
     "output_type": "stream",
     "text": [
      "  1.04 s in get_probes(2)\n",
      " 10.64 s in load_gse( series_id platform_id..., 10308, False)\n",
      "  1.65 s in get_gene_fold_change(<Gse GSE55235>, False, 0, None)\n",
      "Loading data for GSE55457, id = 10327\n"
     ]
    },
    {
     "name": "stdout",
     "output_type": "stream",
     "text": [
      " data/geo_mirror/DATA/SeriesMatrix/GSE55235/GSE55235_series_matrix.txt.gz\n",
      "Loading URL ftp://ftp.ncbi.nih.gov/pub/geo/DATA/SeriesMatrix/GSE55457/GSE55457_series_matrix.txt.gz ...\n",
      "Cache to"
     ]
    },
    {
     "name": "stderr",
     "output_type": "stream",
     "text": [
      "996.78 ms in get_probes(2)\n",
      " 11.29 s in load_gse( series_id platform_id..., 10327, False)\n",
      "  1.75 s in get_gene_fold_change(<Gse GSE55457>, False, 0, None)\n",
      "Loading data for GSE57383, id = 12627\n",
      "  1.66 s in get_probes(901)\n",
      " 56.18 s in load_gse( series_id platform_id..., 12627, False)\n",
      "  4.37 s in get_gene_fold_change(<Gse GSE57383>, False, 0, None)\n",
      "Loading data for GSE57405, id = 12629\n",
      "  1.67 s in get_probes(901)\n",
      " 55.31 s in load_gse( series_id platform_id..., 12629, False)\n",
      "  4.38 s in get_gene_fold_change(<Gse GSE57405>, False, 0, None)\n",
      "437.92 s in Load/fold for DOID_7148\n",
      "Meta-Analyzing DOID_7148\n",
      "473.95 s in meta analysis of real data for DOID_7148\n",
      "  1.07 s in meta analysis of permutations for DOID_7148\n",
      "118.97 mks in get_balanced_permutations({'analysis_name': 'DOI...,  C H H_lower H_upper \\..., Empty DataFrame Column...)\n",
      "475.65 s in Meta analysis for DOID_7148\n",
      "DONE DOID_7148 analysis\n",
      "914.67 s in perform_analysis({'analysis_name': 'DOI...)\n"
     ]
    },
    {
     "name": "stdout",
     "output_type": "stream",
     "text": [
      " data/geo_mirror/DATA/SeriesMatrix/GSE55457/GSE55457_series_matrix.txt.gz\n",
      "51"
     ]
    },
    {
     "name": "stderr",
     "output_type": "stream",
     "text": [
      "Started DOID_7693 analysis\n",
      "941.04 ms in get_analysis_df(\"AAA == 'AAA'\", \"AAA_control == 'AAA_c..., '')\n",
      "945.36 ms in Loading dataframe for DOID_7693\n",
      "Matching sources: 5\n",
      "Excluded 1 source by min samples\n",
      "Stats: 4 sources, 4 series, 3 platforms, 104 samples\n",
      "Loading data and calculating fold change for DOID_7693\n",
      "Loading data for GSE21803, id = 3020\n",
      " 70.88 ms in get_probes(724)\n",
      "397.36 ms in load_gse( series_id platform_id..., 3020, False)\n",
      "318.35 ms in get_gene_fold_change(<Gse GSE21803>, False, 0, None)\n",
      "Loading data for GSE47472, id = 9057\n",
      "  1.46 s in get_probes(674)\n",
      " 12.92 s in load_gse( series_id platform_id..., 9057, False)\n",
      "  2.45 s in get_gene_fold_change(<Gse GSE47472>, False, 0, None)\n",
      "Loading data for GSE7084, id = 11146\n",
      "979.33 ms in get_probes(39)\n",
      " 10.45 s in load_gse( series_id platform_id..., 11146, False)\n",
      "  1.44 s in get_gene_fold_change(<Gse GSE7084>, False, 0, None)\n",
      "Loading data for GSE57691, id = 12645\n",
      "  1.51 s in get_probes(674)\n",
      " 32.21 s in load_gse( series_id platform_id..., 12645, False)\n",
      "  3.94 s in get_gene_fold_change(<Gse GSE57691>, False, 0, None)\n",
      " 65.44 s in Load/fold for DOID_7693\n",
      "Meta-Analyzing DOID_7693\n",
      "380.52 s in meta analysis of real data for DOID_7693\n",
      "229.06 ms in meta analysis of permutations for DOID_7693\n",
      "116.11 mks in get_balanced_permutations({'analysis_name': 'DOI...,  C H H_lower H_upper \\..., Empty DataFrame Column...)\n",
      "381.36 s in Meta analysis for DOID_7693\n",
      "DONE DOID_7693 analysis\n",
      "447.92 s in perform_analysis({'analysis_name': 'DOI...)\n"
     ]
    },
    {
     "name": "stdout",
     "output_type": "stream",
     "text": [
      " DOID:7693 abdominal aortic aneurysm\n",
      "52"
     ]
    },
    {
     "name": "stderr",
     "output_type": "stream",
     "text": [
      "Started DOID_784 analysis\n",
      "673.18 ms in get_analysis_df(\"CKD == 'CKD'\", \"CKD_Control == 'CKD_C..., '')\n",
      "677.48 ms in Loading dataframe for DOID_784\n",
      "Matching sources: 2\n",
      "Excluded 1 source as single-class\n",
      "FAIL Can't perform meta-analysis on single source\n",
      "816.51 ms in perform_analysis({'analysis_name': 'DOI...)\n"
     ]
    },
    {
     "name": "stdout",
     "output_type": "stream",
     "text": [
      " DOID:784 chronic kidney failure\n",
      "53"
     ]
    },
    {
     "name": "stderr",
     "output_type": "stream",
     "text": [
      "Started DOID_824 analysis\n",
      "518.31 ms in get_analysis_df(\"periodontitis == 'per..., \"periodontitis_control..., '')\n",
      "522.62 ms in Loading dataframe for DOID_824\n",
      "Matching sources: 3\n",
      "Excluded 1 source by min samples\n",
      "Stats: 2 sources, 2 series, 2 platforms, 33 samples\n",
      "Loading data and calculating fold change for DOID_824\n",
      "Loading data for GSE27993, id = 4587\n",
      "  1.06 s in get_probes(283)\n",
      "  6.81 s in load_gse( series_id platform_id..., 4587, False)\n",
      "  1.49 s in get_gene_fold_change(<Gse GSE27993>, False, 0, None)\n",
      "Loading data for GSE43525, id = 8303\n",
      "  1.41 s in get_probes(674)\n",
      " 15.91 s in load_gse( series_id platform_id..., 8303, False)\n",
      "  2.46 s in get_gene_fold_change(<Gse GSE43525>, False, 0, None)\n",
      " 27.18 s in Load/fold for DOID_824\n",
      "Meta-Analyzing DOID_824\n",
      "335.37 s in meta analysis of real data for DOID_824\n",
      "152.86 ms in meta analysis of permutations for DOID_824\n",
      "150.20 mks in get_balanced_permutations({'analysis_name': 'DOI...,  C H H_lower H_upper I..., Empty DataFrame Column...)\n",
      "336.22 s in Meta analysis for DOID_824\n",
      "DONE DOID_824 analysis\n",
      "364.09 s in perform_analysis({'analysis_name': 'DOI...)\n"
     ]
    },
    {
     "name": "stdout",
     "output_type": "stream",
     "text": [
      " DOID:824 periodontitis\n",
      "54"
     ]
    },
    {
     "name": "stderr",
     "output_type": "stream",
     "text": [
      "Started DOID_8577 analysis\n",
      "858.76 ms in get_analysis_df(\"UC == 'UC'\", \"UC_control == 'UC_con..., '')\n",
      "863.09 ms in Loading dataframe for DOID_8577\n",
      "Matching sources: 18\n",
      "Excluded 1 source as single-class\n",
      "Stats: 17 sources, 17 series, 12 platforms, 838 samples\n",
      "Loading data and calculating fold change for DOID_8577\n",
      "Loading data for GSE10191, id = 56\n",
      "  1.10 s in get_probes(25)\n",
      "  8.57 s in load_gse( series_id platform_id..., 56, False)\n",
      "  1.70 s in get_gene_fold_change(<Gse GSE10191>, False, 0, None)\n",
      "Loading data for GSE10616, id = 169\n",
      "  1.08 s in get_probes(25)\n",
      " 17.92 s in load_gse( series_id platform_id..., 169, False)\n",
      "  1.77 s in get_gene_fold_change(<Gse GSE10616>, False, 0, None)\n",
      "Loading data for GSE11223, id = 317\n",
      "  1.42 s in get_probes(26)\n",
      " 77.90 s in load_gse( series_id platform_id..., 317, False)\n",
      " 10.08 s in get_gene_fold_change(<Gse GSE11223>, False, 0, None)\n",
      "Loading data for GSE1710, id = 1852\n",
      "884.65 ms in get_probes(18)\n",
      " 15.75 s in load_gse( series_id platform_id..., 1852, False)\n",
      "  1.40 s in get_gene_fold_change(<Gse GSE1710>, False, 0, None)\n",
      "Loading data for GSE22619, id = 3258\n",
      "  1.52 s in get_probes(4)\n",
      " 12.54 s in load_gse( series_id platform_id..., 3258, False)\n",
      "  2.87 s in get_gene_fold_change(<Gse GSE22619>, False, 0, None)\n",
      "Loading data for GSE24287, id = 3687\n",
      "  1.26 s in get_probes(53)\n",
      " 32.71 s in load_gse( series_id platform_id..., 3687, False)\n",
      "  3.50 s in get_gene_fold_change(<Gse GSE24287>, False, 0, None)\n",
      "Loading data for GSE2461, id = 3778\n",
      "986.35 ms in get_probes(2)\n",
      "  3.91 s in load_gse( series_id platform_id..., 3778, False)\n",
      "  1.29 s in get_gene_fold_change(<Gse GSE2461>, False, 0, None)\n",
      "Loading data for GSE3365, id = 5991\n",
      "990.10 ms in get_probes(2)\n",
      " 30.97 s in load_gse( series_id platform_id..., 5991, False)\n",
      "  2.94 s in get_gene_fold_change(<Gse GSE3365>, False, 0, None)\n",
      "Loading data for GSE36807, id = 6726\n",
      "  1.45 s in get_probes(4)\n",
      " 25.01 s in load_gse( series_id platform_id..., 6726, False)\n",
      "  3.14 s in get_gene_fold_change(<Gse GSE36807>, False, 0, None)\n",
      "Loading data for GSE38713, id = 7147\n",
      "  1.53 s in get_probes(4)\n",
      " 31.10 s in load_gse( series_id platform_id..., 7147, False)\n",
      "  4.37 s in get_gene_fold_change(<Gse GSE38713>, False, 0, None)\n",
      "Loading data for GSE6731, id = 11023\n",
      "705.25 ms in get_probes(7)\n",
      "  5.44 s in load_gse( series_id platform_id..., 11023, False)\n",
      "990.22 ms in get_gene_fold_change(<Gse GSE6731>, False, 0, None)\n",
      "Loading data for GSE9452, id = 11743\n",
      "  1.48 s in get_probes(4)\n",
      " 14.97 s in load_gse( series_id platform_id..., 11743, False)\n",
      "  3.20 s in get_gene_fold_change(<Gse GSE9452>, False, 0, None)\n",
      "Loading data for GSE42911, id = 12095\n",
      "  1.62 s in get_probes(1132)\n",
      " 11.69 s in load_gse( series_id platform_id..., 12095, False)\n",
      "  2.28 s in get_gene_fold_change(<Gse GSE42911>, False, 0, None)\n",
      "Loading data for GSE48634, id = 12194\n",
      "  1.38 s in get_probes(674)\n",
      " 50.82 s in load_gse( series_id platform_id..., 12194, False)\n",
      "  6.69 s in get_gene_fold_change(<Gse GSE48634>, False, 0, None)\n",
      "Loading data for GSE53306, id = 12370\n",
      "  1.33 s in get_probes(912)\n",
      " 13.87 s in load_gse( series_id platform_id..., 12370, False)\n",
      "  2.93 s in get_gene_fold_change(<Gse GSE53306>, False, 0, None)\n",
      "Loading data for GSE59071, id = 12790\n",
      "  1.09 s in get_probes(283)\n",
      " 45.60 s in load_gse( series_id platform_id..., 12790, False)\n",
      "  4.25 s in get_gene_fold_change(<Gse GSE59071>, False, 0, None)\n",
      "Loading data for GSE65114, id = 13436\n",
      "913.38 ms in get_probes(1338)\n",
      " 18.65 s in load_gse( series_id platform_id..., 13436, False)\n",
      "  1.68 s in get_gene_fold_change(<Gse GSE65114>, False, 0, None)\n",
      "478.53 s in Load/fold for DOID_8577\n",
      "Meta-Analyzing DOID_8577\n",
      "481.28 s in meta analysis of real data for DOID_8577\n",
      "  1.28 s in meta analysis of permutations for DOID_8577\n",
      "139.00 mks in get_balanced_permutations({'analysis_name': 'DOI...,  C H H_lower H_upper \\..., Empty DataFrame Column...)\n",
      "483.19 s in Meta analysis for DOID_8577\n",
      "DONE DOID_8577 analysis\n",
      "962.83 s in perform_analysis({'analysis_name': 'DOI...)\n"
     ]
    },
    {
     "name": "stdout",
     "output_type": "stream",
     "text": [
      " DOID:8577 ulcerative colitis\n",
      "55"
     ]
    },
    {
     "name": "stderr",
     "output_type": "stream",
     "text": [
      "Started DOID_8778 analysis\n",
      "  1.14 s in get_analysis_df(\"CD == 'CD'\", \"CD_control == 'CD_con..., '')\n",
      "  1.14 s in Loading dataframe for DOID_8778\n",
      "Matching sources: 20\n",
      "Excluded 1 source as single-class\n",
      "Excluded 7 sources by min samples\n",
      "Stats: 12 sources, 12 series, 11 platforms, 743 samples\n",
      "Loading data and calculating fold change for DOID_8778\n",
      "Loading data for GSE10616, id = 169\n",
      "  1.09 s in get_probes(25)\n",
      " 17.82 s in load_gse( series_id platform_id..., 169, False)\n",
      "  2.48 s in get_gene_fold_change(<Gse GSE10616>, False, 0, None)\n",
      "Loading data for GSE1710, id = 1852\n",
      "885.48 ms in get_probes(18)\n",
      " 15.56 s in load_gse( series_id platform_id..., 1852, False)\n",
      "  1.40 s in get_gene_fold_change(<Gse GSE1710>, False, 0, None)\n",
      "Loading data for GSE17594, id = 1976\n",
      "  1.43 s in get_probes(10)\n",
      " 10.19 s in load_gse( series_id platform_id..., 1976, False)\n",
      "  2.14 s in get_gene_fold_change(<Gse GSE17594>, False, 0, None)\n",
      "Loading data for GSE20881, id = 2803\n",
      "  1.38 s in get_probes(26)\n",
      " 62.38 s in load_gse( series_id platform_id..., 2803, False)\n",
      "  8.75 s in get_gene_fold_change(<Gse GSE20881>, False, 0, None)\n",
      "Loading data for GSE24287, id = 3687\n",
      "  1.34 s in get_probes(53)\n",
      " 32.14 s in load_gse( series_id platform_id..., 3687, False)\n",
      "  4.25 s in get_gene_fold_change(<Gse GSE24287>, False, 0, None)\n",
      "Loading data for GSE3365, id = 5991\n",
      "  1.02 s in get_probes(2)\n",
      " 30.70 s in load_gse( series_id platform_id..., 5991, False)\n",
      "  3.97 s in get_gene_fold_change(<Gse GSE3365>, False, 0, None)\n",
      "Loading data for GSE36807, id = 6726\n",
      "  1.56 s in get_probes(4)\n",
      " 25.20 s in load_gse( series_id platform_id..., 6726, False)\n",
      "  2.97 s in get_gene_fold_change(<Gse GSE36807>, False, 0, None)\n",
      "Loading data for GSE52746, id = 9944\n",
      "975.76 ms in get_probes(1438)\n",
      "  7.51 s in load_gse( series_id platform_id..., 9944, False)\n",
      "  2.01 s in get_gene_fold_change(<Gse GSE52746>, False, 0, None)\n",
      "Loading data for GSE60083, id = 10812\n",
      "  1.24 s in get_probes(416)\n",
      " 13.32 s in load_gse( series_id platform_id..., 10812, False)\n",
      "  4.18 s in get_gene_fold_change(<Gse GSE60083>, False, 0, None)\n",
      "Loading data for GSE6731, id = 11023\n",
      "709.40 ms in get_probes(7)\n",
      "  5.44 s in load_gse( series_id platform_id..., 11023, False)\n",
      "  1.12 s in get_gene_fold_change(<Gse GSE6731>, False, 0, None)\n",
      "Loading data for GSE9686, id = 11793\n",
      "  1.05 s in get_probes(25)\n",
      " 11.01 s in load_gse( series_id platform_id..., 11793, False)\n",
      "  1.93 s in get_gene_fold_change(<Gse GSE9686>, False, 0, None)\n",
      "Loading data for GSE48634, id = 12194\n",
      "  1.38 s in get_probes(674)\n",
      " 50.18 s in load_gse( series_id platform_id..., 12194, False)\n",
      "  5.39 s in get_gene_fold_change(<Gse GSE48634>, False, 0, None)\n",
      "326.20 s in Load/fold for DOID_8778\n",
      "Meta-Analyzing DOID_8778\n",
      "424.14 s in meta analysis of real data for DOID_8778\n",
      "841.02 ms in meta analysis of permutations for DOID_8778\n",
      "118.02 mks in get_balanced_permutations({'analysis_name': 'DOI...,  C H H_lower H_upper \\..., Empty DataFrame Column...)\n",
      "425.60 s in Meta analysis for DOID_8778\n",
      "DONE DOID_8778 analysis\n",
      "753.20 s in perform_analysis({'analysis_name': 'DOI...)\n"
     ]
    },
    {
     "name": "stdout",
     "output_type": "stream",
     "text": [
      " DOID:8778 Crohn's disease\n",
      "56"
     ]
    },
    {
     "name": "stderr",
     "output_type": "stream",
     "text": [
      "Started DOID_8893 analysis\n",
      "  1.04 s in get_analysis_df(\"psoriasis == 'psorias..., \"psoriasis_control == ..., '')\n",
      "  1.05 s in Loading dataframe for DOID_8893\n",
      "Matching sources: 11\n",
      "Excluded 2 sources as single-class\n",
      "Excluded 1 source by min samples\n",
      "Stats: 8 sources, 8 series, 7 platforms, 429 samples\n",
      "Loading data and calculating fold change for DOID_8893\n",
      "Loading data for GSE13355, id = 878\n"
     ]
    },
    {
     "name": "stdout",
     "output_type": "stream",
     "text": [
      " DOID:8893 psoriasis\n",
      "Loading URL ftp://ftp.ncbi.nih.gov/pub/geo/DATA/SeriesMatrix/GSE13355/GSE13355_series_matrix.txt.gz ...\n",
      "Cache to"
     ]
    },
    {
     "name": "stderr",
     "output_type": "stream",
     "text": [
      "  1.51 s in get_probes(4)\n",
      "104.86 s in load_gse( series_id platform_id..., 878, False)\n",
      "  7.73 s in get_gene_fold_change(<Gse GSE13355>, False, 0, None)\n",
      "Loading data for GSE32407, id = 5703\n",
      "  1.02 s in get_probes(9)\n",
      " 16.05 s in load_gse( series_id platform_id..., 5703, False)\n",
      "  2.62 s in get_gene_fold_change(<Gse GSE32407>, False, 0, None)\n",
      "Loading data for GSE47598, id = 9087\n",
      "  1.41 s in get_probes(674)\n",
      " 16.85 s in load_gse( series_id platform_id..., 9087, False)\n",
      "  2.39 s in get_gene_fold_change(<Gse GSE47598>, False, 0, None)\n",
      "Loading data for GSE57225, id = 10556\n",
      "  1.51 s in get_probes(1010)\n",
      " 33.26 s in load_gse( series_id platform_id..., 10556, False)\n",
      "  3.06 s in get_gene_fold_change(<Gse GSE57225>, False, 0, None)\n",
      "Loading data for GSE57383, id = 12627\n",
      "  1.88 s in get_probes(901)\n",
      " 55.89 s in load_gse( series_id platform_id..., 12627, False)\n",
      "  4.56 s in get_gene_fold_change(<Gse GSE57383>, False, 0, None)\n",
      "Loading data for GSE57405, id = 12629\n",
      "  1.85 s in get_probes(901)\n",
      " 54.49 s in load_gse( series_id platform_id..., 12629, False)\n",
      "  4.52 s in get_gene_fold_change(<Gse GSE57405>, False, 0, None)\n",
      "Loading data for GSE61281, id = 12998\n",
      "  1.68 s in get_probes(53)\n",
      " 28.58 s in load_gse( series_id platform_id..., 12998, False)\n",
      "  2.80 s in get_gene_fold_change(<Gse GSE61281>, False, 0, None)\n",
      "Loading data for GSE63741, id = 13298\n",
      " 41.92 ms in get_probes(1794)\n",
      "  2.62 s in load_gse( series_id platform_id..., 13298, False)\n",
      "217.96 ms in get_gene_fold_change(<Gse GSE63741>, False, 0, None)\n",
      "343.46 s in Load/fold for DOID_8893\n",
      "Meta-Analyzing DOID_8893\n",
      "459.04 s in meta analysis of real data for DOID_8893\n",
      "632.61 ms in meta analysis of permutations for DOID_8893\n",
      "121.12 mks in get_balanced_permutations({'analysis_name': 'DOI...,  C H H_lower H_upper \\..., Empty DataFrame Column...)\n",
      "460.33 s in Meta analysis for DOID_8893\n",
      "DONE DOID_8893 analysis\n",
      "805.04 s in perform_analysis({'analysis_name': 'DOI...)\n"
     ]
    },
    {
     "name": "stdout",
     "output_type": "stream",
     "text": [
      " data/geo_mirror/DATA/SeriesMatrix/GSE13355/GSE13355_series_matrix.txt.gz\n",
      "57"
     ]
    },
    {
     "name": "stderr",
     "output_type": "stream",
     "text": [
      "Started DOID_8986 analysis\n",
      "734.13 ms in get_analysis_df(\"narcolepsy == 'narcol..., \"narcolepsy_control ==..., '')\n",
      "738.40 ms in Loading dataframe for DOID_8986\n",
      "Matching sources: 1\n",
      "FAIL Can't perform meta-analysis on single source\n",
      "874.13 ms in perform_analysis({'analysis_name': 'DOI...)\n"
     ]
    },
    {
     "name": "stdout",
     "output_type": "stream",
     "text": [
      " DOID:8986 narcolepsy\n",
      "58"
     ]
    },
    {
     "name": "stderr",
     "output_type": "stream",
     "text": [
      "Started DOID_9008 analysis\n",
      "639.79 ms in get_analysis_df(\"PsA == 'PsA'\", \"PsA_control == 'PsA_c..., '')\n",
      "644.11 ms in Loading dataframe for DOID_9008\n",
      "Matching sources: 3\n",
      "Stats: 3 sources, 3 series, 2 platforms, 141 samples\n",
      "Loading data and calculating fold change for DOID_9008\n",
      "Loading data for GSE57383, id = 12627\n",
      "  1.81 s in get_probes(901)\n",
      " 55.97 s in load_gse( series_id platform_id..., 12627, False)\n",
      "  4.86 s in get_gene_fold_change(<Gse GSE57383>, False, 0, None)\n",
      "Loading data for GSE57405, id = 12629\n",
      "  1.74 s in get_probes(901)\n",
      " 54.26 s in load_gse( series_id platform_id..., 12629, False)\n",
      "  4.79 s in get_gene_fold_change(<Gse GSE57405>, False, 0, None)\n",
      "Loading data for GSE61281, id = 12998\n",
      "  1.67 s in get_probes(53)\n",
      " 28.12 s in load_gse( series_id platform_id..., 12998, False)\n",
      "  2.77 s in get_gene_fold_change(<Gse GSE61281>, False, 0, None)\n",
      "151.94 s in Load/fold for DOID_9008\n",
      "Meta-Analyzing DOID_9008\n",
      "413.81 s in meta analysis of real data for DOID_9008\n",
      "318.07 ms in meta analysis of permutations for DOID_9008\n",
      "117.06 mks in get_balanced_permutations({'analysis_name': 'DOI...,  C H H_lower H_upper \\..., Empty DataFrame Column...)\n",
      "414.75 s in Meta analysis for DOID_9008\n",
      "DONE DOID_9008 analysis\n",
      "567.51 s in perform_analysis({'analysis_name': 'DOI...)\n"
     ]
    },
    {
     "name": "stdout",
     "output_type": "stream",
     "text": [
      " DOID:9008 psoriatic arthritis\n",
      "59"
     ]
    },
    {
     "name": "stderr",
     "output_type": "stream",
     "text": [
      "Started DOID_9074 analysis\n",
      "  1.34 s in get_analysis_df(\"SLE == 'SLE'\", \"SLE_control == 'SLE_c..., '')\n",
      "  1.35 s in Loading dataframe for DOID_9074\n",
      "Matching sources: 23\n",
      "Excluded 3 sources as single-class\n",
      "Excluded 1 source by min samples\n",
      "Stats: 19 sources, 18 series, 12 platforms, 1375 samples\n",
      "Loading data and calculating fold change for DOID_9074\n",
      "Loading data for GSE10325, id = 92\n"
     ]
    },
    {
     "name": "stdout",
     "output_type": "stream",
     "text": [
      " DOID:9074 systemic lupus erythematosus\n",
      "Loading URL ftp://ftp.ncbi.nih.gov/pub/geo/DATA/SeriesMatrix/GSE10325/GSE10325_series_matrix.txt.gz ...\n",
      "Cache to"
     ]
    },
    {
     "name": "stderr",
     "output_type": "stream",
     "text": [
      "  1.13 s in get_probes(2)\n",
      " 17.36 s in load_gse( series_id platform_id..., 92, False)\n",
      "  2.85 s in get_gene_fold_change(<Gse GSE10325>, False, 0, None)\n",
      "Loading data for GSE11907, id = 488\n",
      "  1.07 s in get_probes(2)\n",
      "967.07 ms in get_probes(50)\n",
      " 95.52 s in load_gse( series_id platform_id..., 488, False)\n",
      "  6.31 s in get_gene_fold_change(<Gse GSE11907>, False, 0, None)\n",
      "Loading data for GSE12374, id = 618\n"
     ]
    },
    {
     "name": "stdout",
     "output_type": "stream",
     "text": [
      " data/geo_mirror/DATA/SeriesMatrix/GSE10325/GSE10325_series_matrix.txt.gz\n",
      "Loading URL ftp://ftp.ncbi.nih.gov/pub/geo/DATA/SeriesMatrix/GSE12374/GSE12374_series_matrix.txt.gz ...\n",
      "Cache to"
     ]
    },
    {
     "name": "stderr",
     "output_type": "stream",
     "text": [
      "935.89 ms in get_probes(51)\n",
      "  9.44 s in load_gse( series_id platform_id..., 618, False)\n",
      "  1.25 s in get_gene_fold_change(<Gse GSE12374>, False, 0, None)\n",
      "Loading data for GSE17755, id = 2014\n",
      "936.96 ms in get_probes(51)\n",
      " 52.38 s in load_gse( series_id platform_id..., 2014, False)\n",
      "  2.28 s in get_gene_fold_change(<Gse GSE17755>, False, 0, None)\n",
      "Loading data for GSE20864, id = 2798\n"
     ]
    },
    {
     "name": "stdout",
     "output_type": "stream",
     "text": [
      " data/geo_mirror/DATA/SeriesMatrix/GSE12374/GSE12374_series_matrix.txt.gz\n",
      "Loading URL ftp://ftp.ncbi.nih.gov/pub/geo/DATA/SeriesMatrix/GSE20864/GSE20864_series_matrix.txt.gz ...\n",
      "Cache to"
     ]
    },
    {
     "name": "stderr",
     "output_type": "stream",
     "text": [
      "  1.07 s in get_probes(51)\n",
      " 20.01 s in load_gse( series_id platform_id..., 2798, False)\n",
      "  2.15 s in get_gene_fold_change(<Gse GSE20864>, False, 0, None)\n",
      "Loading data for GSE21649, id = 2983\n"
     ]
    },
    {
     "name": "stdout",
     "output_type": "stream",
     "text": [
      " data/geo_mirror/DATA/SeriesMatrix/GSE20864/GSE20864_series_matrix.txt.gz\n",
      "Loading URL ftp://ftp.ncbi.nih.gov/pub/geo/DATA/SeriesMatrix/GSE21649/GSE21649_series_matrix.txt.gz ...\n",
      "Cache to"
     ]
    },
    {
     "name": "stderr",
     "output_type": "stream",
     "text": [
      "919.85 ms in get_probes(720)\n",
      "  7.57 s in load_gse( series_id platform_id..., 2983, False)\n",
      "  1.18 s in get_gene_fold_change(<Gse GSE21649>, False, 0, None)\n",
      "Loading data for GSE22098, id = 3098\n"
     ]
    },
    {
     "name": "stdout",
     "output_type": "stream",
     "text": [
      " data/geo_mirror/DATA/SeriesMatrix/GSE21649/GSE21649_series_matrix.txt.gz\n",
      "Loading URL ftp://ftp.ncbi.nih.gov/pub/geo/DATA/SeriesMatrix/GSE22098/GSE22098_series_matrix.txt.gz ...\n",
      "Cache to"
     ]
    },
    {
     "name": "stderr",
     "output_type": "stream",
     "text": [
      "  1.45 s in get_probes(389)\n",
      "147.19 s in load_gse( series_id platform_id..., 3098, False)\n",
      "  8.72 s in get_gene_fold_change(<Gse GSE22098>, False, 0, None)\n",
      "Loading data for GSE23203, id = 3404\n"
     ]
    },
    {
     "name": "stdout",
     "output_type": "stream",
     "text": [
      " data/geo_mirror/DATA/SeriesMatrix/GSE22098/GSE22098_series_matrix.txt.gz\n",
      "Loading URL ftp://ftp.ncbi.nih.gov/pub/geo/DATA/SeriesMatrix/GSE23203/GSE23203_series_matrix.txt.gz ...\n",
      "Cache to"
     ]
    },
    {
     "name": "stderr",
     "output_type": "stream",
     "text": [
      "  1.02 s in get_probes(774)\n",
      " 12.98 s in load_gse( series_id platform_id..., 3404, False)\n",
      "  1.67 s in get_gene_fold_change(<Gse GSE23203>, False, 0, None)\n",
      "Loading data for GSE27427, id = 4483\n"
     ]
    },
    {
     "name": "stdout",
     "output_type": "stream",
     "text": [
      " data/geo_mirror/DATA/SeriesMatrix/GSE23203/GSE23203_series_matrix.txt.gz\n",
      "Loading URL ftp://ftp.ncbi.nih.gov/pub/geo/DATA/SeriesMatrix/GSE27427/GSE27427_series_matrix.txt.gz ...\n",
      "Cache to"
     ]
    },
    {
     "name": "stderr",
     "output_type": "stream",
     "text": [
      "  1.24 s in get_probes(343)\n",
      " 27.14 s in load_gse( series_id platform_id..., 4483, False)\n",
      "  2.60 s in get_gene_fold_change(<Gse GSE27427>, False, 0, None)\n",
      "Loading data for GSE29536, id = 4997\n"
     ]
    },
    {
     "name": "stdout",
     "output_type": "stream",
     "text": [
      " data/geo_mirror/DATA/SeriesMatrix/GSE27427/GSE27427_series_matrix.txt.gz\n",
      "Loading URL ftp://ftp.ncbi.nih.gov/pub/geo/DATA/SeriesMatrix/GSE29536/GSE29536_series_matrix.txt.gz ...\n",
      "Cache to"
     ]
    },
    {
     "name": "stderr",
     "output_type": "stream",
     "text": [
      "  1.28 s in get_probes(17)\n",
      "191.05 s in load_gse( series_id platform_id..., 4997, False)\n",
      "  7.95 s in get_gene_fold_change(<Gse GSE29536>, False, 0, None)\n",
      "Loading data for GSE30153, id = 5158\n"
     ]
    },
    {
     "name": "stdout",
     "output_type": "stream",
     "text": [
      " data/geo_mirror/DATA/SeriesMatrix/GSE29536/GSE29536_series_matrix.txt.gz\n",
      "Loading URL ftp://ftp.ncbi.nih.gov/pub/geo/DATA/SeriesMatrix/GSE30153/GSE30153_series_matrix.txt.gz ...\n",
      "Cache to"
     ]
    },
    {
     "name": "stderr",
     "output_type": "stream",
     "text": [
      "  1.96 s in get_probes(4)\n",
      " 18.70 s in load_gse( series_id platform_id..., 5158, False)\n",
      "  3.16 s in get_gene_fold_change(<Gse GSE30153>, False, 0, None)\n",
      "Loading data for GSE37356, id = 6873\n",
      "  1.53 s in get_probes(674)\n",
      " 31.50 s in load_gse( series_id platform_id..., 6873, False)\n",
      "  4.44 s in get_gene_fold_change(<Gse GSE37356>, False, 0, None)\n",
      "Loading data for GSE4588, id = 8761\n",
      "  1.70 s in get_probes(4)\n",
      " 24.14 s in load_gse( series_id platform_id..., 8761, False)\n",
      "  3.65 s in get_gene_fold_change(<Gse GSE4588>, False, 0, None)\n",
      "Loading data for GSE50395, id = 9551\n"
     ]
    },
    {
     "name": "stdout",
     "output_type": "stream",
     "text": [
      " data/geo_mirror/DATA/SeriesMatrix/GSE30153/GSE30153_series_matrix.txt.gz\n",
      "Loading URL ftp://ftp.ncbi.nih.gov/pub/geo/DATA/SeriesMatrix/GSE50395/GSE50395_series_matrix.txt.gz ...\n",
      "Cache to"
     ]
    },
    {
     "name": "stderr",
     "output_type": "stream",
     "text": [
      "  1.76 s in get_probes(10)\n",
      " 14.59 s in load_gse( series_id platform_id..., 9551, False)\n",
      "  1.78 s in get_gene_fold_change(<Gse GSE50395>, False, 0, None)\n",
      "Loading data for GSE50635, id = 9591\n"
     ]
    },
    {
     "name": "stdout",
     "output_type": "stream",
     "text": [
      " data/geo_mirror/DATA/SeriesMatrix/GSE50395/GSE50395_series_matrix.txt.gz\n",
      "Loading URL ftp://ftp.ncbi.nih.gov/pub/geo/DATA/SeriesMatrix/GSE50635/GSE50635_series_matrix.txt.gz ...\n",
      "Cache to"
     ]
    },
    {
     "name": "stderr",
     "output_type": "stream",
     "text": [
      "  1.18 s in get_probes(283)\n",
      " 34.00 s in load_gse( series_id platform_id..., 9591, False)\n",
      "  2.58 s in get_gene_fold_change(<Gse GSE50635>, False, 0, None)\n",
      "Loading data for GSE51997, id = 9826\n"
     ]
    },
    {
     "name": "stdout",
     "output_type": "stream",
     "text": [
      " data/geo_mirror/DATA/SeriesMatrix/GSE50635/GSE50635_series_matrix.txt.gz\n",
      "Loading URL ftp://ftp.ncbi.nih.gov/pub/geo/DATA/SeriesMatrix/GSE51997/GSE51997_series_matrix.txt.gz ...\n",
      "Cache to"
     ]
    },
    {
     "name": "stderr",
     "output_type": "stream",
     "text": [
      "  1.76 s in get_probes(4)\n",
      " 30.01 s in load_gse( series_id platform_id..., 9826, False)\n",
      "  4.00 s in get_gene_fold_change(<Gse GSE51997>, False, 0, None)\n",
      "Loading data for GSE8650, id = 11535\n"
     ]
    },
    {
     "name": "stdout",
     "output_type": "stream",
     "text": [
      " data/geo_mirror/DATA/SeriesMatrix/GSE51997/GSE51997_series_matrix.txt.gz\n",
      "Loading URL ftp://ftp.ncbi.nih.gov/pub/geo/DATA/SeriesMatrix/GSE8650/GSE8650_series_matrix.txt.gz ...\n",
      "Loading URL ftp://ftp.ncbi.nih.gov/pub/geo/DATA/SeriesMatrix/GSE8650/GSE8650-GPL97_series_matrix.txt.gz ...\n",
      "Cache to"
     ]
    },
    {
     "name": "stderr",
     "output_type": "stream",
     "text": [
      "904.48 ms in get_probes(50)\n",
      " 30.34 s in load_gse( series_id platform_id..., 11535, False)\n",
      "  1.89 s in get_gene_fold_change(<Gse GSE8650>, False, 0, None)\n",
      "Loading data for GSE55447, id = 12480\n"
     ]
    },
    {
     "name": "stdout",
     "output_type": "stream",
     "text": [
      " data/geo_mirror/DATA/SeriesMatrix/GSE8650/GSE8650-GPL97_series_matrix.txt.gz\n",
      "Loading URL ftp://ftp.ncbi.nih.gov/pub/geo/DATA/SeriesMatrix/GSE55447/GSE55447_series_matrix.txt.gz ...\n",
      "Cache to"
     ]
    },
    {
     "name": "stderr",
     "output_type": "stream",
     "text": [
      "  1.63 s in get_probes(674)\n",
      " 74.70 s in load_gse( series_id platform_id..., 12480, False)\n",
      "  8.07 s in get_gene_fold_change(<Gse GSE55447>, False, 0, None)\n",
      "911.50 s in Load/fold for DOID_9074\n",
      "Meta-Analyzing DOID_9074\n",
      "489.02 s in meta analysis of real data for DOID_9074\n",
      "  1.24 s in meta analysis of permutations for DOID_9074\n",
      "120.16 mks in get_balanced_permutations({'analysis_name': 'DOI...,  C H H_lower H_upper \\..., Empty DataFrame Column...)\n",
      "490.90 s in Meta analysis for DOID_9074\n",
      "DONE DOID_9074 analysis\n",
      "1404.02 s in perform_analysis({'analysis_name': 'DOI...)\n"
     ]
    },
    {
     "name": "stdout",
     "output_type": "stream",
     "text": [
      " data/geo_mirror/DATA/SeriesMatrix/GSE55447/GSE55447_series_matrix.txt.gz\n",
      "60"
     ]
    },
    {
     "name": "stderr",
     "output_type": "stream",
     "text": [
      "Started DOID_9206 analysis\n",
      "  1.08 s in get_analysis_df(\"BE_Tissue == 'BE_Tiss..., \"EAC_Non_Tumor == 'EAC..., '')\n",
      "  1.08 s in Loading dataframe for DOID_9206\n",
      "Matching sources: 16\n",
      "Excluded 10 sources as single-class\n",
      "Excluded 2 sources by min samples\n",
      "Stats: 4 sources, 4 series, 3 platforms, 155 samples\n",
      "Loading data and calculating fold change for DOID_9206\n",
      "Loading data for GSE34619, id = 6215\n",
      "  1.25 s in get_probes(283)\n",
      " 10.48 s in load_gse( series_id platform_id..., 6215, False)\n",
      "  1.75 s in get_gene_fold_change(<Gse GSE34619>, False, 0, None)\n",
      "Loading data for GSE36223, id = 6608\n",
      "  1.14 s in get_probes(9)\n",
      "  7.05 s in load_gse( series_id platform_id..., 6608, False)\n",
      "  2.09 s in get_gene_fold_change(<Gse GSE36223>, False, 0, None)\n",
      "Loading data for GSE39491, id = 7332\n",
      "  1.17 s in get_probes(9)\n",
      " 27.37 s in load_gse( series_id platform_id..., 7332, False)\n",
      "  3.21 s in get_gene_fold_change(<Gse GSE39491>, False, 0, None)\n",
      "Loading data for GSE6059, id = 10854\n",
      " 80.99 ms in get_probes(1512)\n",
      "  8.67 s in load_gse( series_id platform_id..., 10854, False)\n",
      "374.09 ms in get_gene_fold_change(<Gse GSE6059>, False, 0, None)\n",
      " 62.27 s in Load/fold for DOID_9206\n",
      "Meta-Analyzing DOID_9206\n",
      "256.62 s in meta analysis of real data for DOID_9206\n",
      "183.99 ms in meta analysis of permutations for DOID_9206\n",
      "120.16 mks in get_balanced_permutations({'analysis_name': 'DOI...,  C H H_lower H_upper \\..., Empty DataFrame Column...)\n",
      "257.42 s in Meta analysis for DOID_9206\n",
      "DONE DOID_9206 analysis\n",
      "320.96 s in perform_analysis({'analysis_name': 'DOI...)\n"
     ]
    },
    {
     "name": "stdout",
     "output_type": "stream",
     "text": [
      " DOID:9206 Barrett's esophagus\n",
      "61"
     ]
    },
    {
     "name": "stderr",
     "output_type": "stream",
     "text": [
      "Started DOID_9296 analysis\n",
      "637.71 ms in get_analysis_df(\"cleft_lip == 'cleft_l..., \"cleft_lip_control == ..., '')\n",
      "641.95 ms in Loading dataframe for DOID_9296\n",
      "Matching sources: 1\n",
      "FAIL Can't perform meta-analysis on single source\n",
      "777.37 ms in perform_analysis({'analysis_name': 'DOI...)\n"
     ]
    },
    {
     "name": "stdout",
     "output_type": "stream",
     "text": [
      " DOID:9296 cleft lip\n",
      "62"
     ]
    },
    {
     "name": "stderr",
     "output_type": "stream",
     "text": [
      "Started DOID_9352 analysis\n",
      "919.81 ms in get_analysis_df(\"T2D == 'T2D'\", \"T2D_control == 'T2D_c..., '')\n",
      "923.99 ms in Loading dataframe for DOID_9352\n",
      "Matching sources: 36\n",
      "Excluded 4 sources as single-class\n",
      "Excluded 1 source by min samples\n",
      "Stats: 31 sources, 25 series, 19 platforms, 854 samples\n",
      "Loading data and calculating fold change for DOID_9352\n",
      "Loading data for GSE121, id = 539\n",
      "543.02 ms in get_probes(338)\n",
      "541.84 ms in get_probes(339)\n",
      "542.00 ms in get_probes(22)\n",
      "654.37 ms in get_probes(340)\n",
      "504.42 ms in get_probes(341)\n",
      " 13.07 s in load_gse( series_id platform_id..., 539, False)\n",
      "  2.45 s in get_gene_fold_change(<Gse GSE121>, False, 0, None)\n",
      "Loading data for GSE12643, id = 697\n",
      "781.42 ms in get_probes(7)\n",
      "  4.43 s in load_gse( series_id platform_id..., 697, False)\n",
      "  1.06 s in get_gene_fold_change(<Gse GSE12643>, False, 0, None)\n",
      "Loading data for GSE13015, id = 796\n",
      "  1.31 s in get_probes(343)\n",
      "  1.50 s in get_probes(389)\n",
      " 59.69 s in load_gse( series_id platform_id..., 796, False)\n",
      "  3.42 s in get_gene_fold_change(<Gse GSE13015>, False, 0, None)\n",
      "Loading data for GSE13760, id = 979\n",
      "  1.14 s in get_probes(9)\n",
      "  7.75 s in load_gse( series_id platform_id..., 979, False)\n",
      "  1.73 s in get_gene_fold_change(<Gse GSE13760>, False, 0, None)\n",
      "Loading data for GSE15653, id = 1495\n",
      "  1.10 s in get_probes(2)\n",
      "  5.95 s in load_gse( series_id platform_id..., 1495, False)\n",
      "  1.50 s in get_gene_fold_change(<Gse GSE15653>, False, 0, None)\n",
      "Loading data for GSE15790, id = 1522\n",
      "860.24 ms in get_probes(511)\n",
      "  9.33 s in load_gse( series_id platform_id..., 1522, False)\n",
      "  1.84 s in get_gene_fold_change(<Gse GSE15790>, False, 0, None)\n",
      "Loading data for GSE16415, id = 1671\n",
      "  1.05 s in get_probes(60)\n",
      "  7.34 s in load_gse( series_id platform_id..., 1671, False)\n",
      "  1.29 s in get_gene_fold_change(<Gse GSE16415>, False, 0, None)\n",
      "Loading data for GSE18732, id = 2269\n",
      " 41.90 ms in get_probes(628)\n",
      " 34.48 s in load_gse( series_id platform_id..., 2269, False)\n",
      "261.82 ms in get_gene_fold_change(<Gse GSE18732>, False, 0, None)\n",
      "Loading data for GSE19420, id = 2433\n"
     ]
    },
    {
     "name": "stdout",
     "output_type": "stream",
     "text": [
      " DOID:9352 type 2 diabetes mellitus\n",
      "Loading URL ftp://ftp.ncbi.nih.gov/pub/geo/DATA/SeriesMatrix/GSE19420/GSE19420_series_matrix.txt.gz ...\n",
      "Cache to"
     ]
    },
    {
     "name": "stderr",
     "output_type": "stream",
     "text": [
      "  1.79 s in get_probes(4)\n",
      " 34.42 s in load_gse( series_id platform_id..., 2433, False)\n",
      "  3.94 s in get_gene_fold_change(<Gse GSE19420>, False, 0, None)\n",
      "Loading data for GSE20966, id = 2827\n"
     ]
    },
    {
     "name": "stdout",
     "output_type": "stream",
     "text": [
      " data/geo_mirror/DATA/SeriesMatrix/GSE19420/GSE19420_series_matrix.txt.gz\n",
      "Loading URL ftp://ftp.ncbi.nih.gov/pub/geo/DATA/SeriesMatrix/GSE20966/GSE20966_series_matrix.txt.gz ...\n",
      "Cache to"
     ]
    },
    {
     "name": "stderr",
     "output_type": "stream",
     "text": [
      "  1.88 s in get_probes(67)\n",
      " 19.73 s in load_gse( series_id platform_id..., 2827, False)\n",
      "  3.19 s in get_gene_fold_change(<Gse GSE20966>, False, 0, None)\n",
      "Loading data for GSE21340, id = 2908\n"
     ]
    },
    {
     "name": "stdout",
     "output_type": "stream",
     "text": [
      " data/geo_mirror/DATA/SeriesMatrix/GSE20966/GSE20966_series_matrix.txt.gz\n",
      "Loading URL ftp://ftp.ncbi.nih.gov/pub/geo/DATA/SeriesMatrix/GSE21340/GSE21340_series_matrix.txt.gz ...\n",
      "Cache to"
     ]
    },
    {
     "name": "stderr",
     "output_type": "stream",
     "text": [
      "524.69 ms in get_probes(22)\n",
      "  4.85 s in load_gse( series_id platform_id..., 2908, False)\n",
      "661.66 ms in get_gene_fold_change(<Gse GSE21340>, False, 0, None)\n",
      "Loading data for GSE23561, id = 3492\n",
      "  1.58 s in get_probes(780)\n",
      " 17.01 s in load_gse( series_id platform_id..., 3492, False)\n",
      "  2.17 s in get_gene_fold_change(<Gse GSE23561>, False, 0, None)\n",
      "Loading data for GSE25462, id = 3991\n"
     ]
    },
    {
     "name": "stdout",
     "output_type": "stream",
     "text": [
      " data/geo_mirror/DATA/SeriesMatrix/GSE21340/GSE21340_series_matrix.txt.gz\n",
      "Loading URL ftp://ftp.ncbi.nih.gov/pub/geo/DATA/SeriesMatrix/GSE25462/GSE25462_series_matrix.txt.gz ...\n",
      "Cache to"
     ]
    },
    {
     "name": "stderr",
     "output_type": "stream",
     "text": [
      "  1.73 s in get_probes(4)\n",
      " 31.29 s in load_gse( series_id platform_id..., 3991, False)\n",
      "  4.71 s in get_gene_fold_change(<Gse GSE25462>, False, 0, None)\n",
      "Loading data for GSE25724, id = 4042\n"
     ]
    },
    {
     "name": "stdout",
     "output_type": "stream",
     "text": [
      " data/geo_mirror/DATA/SeriesMatrix/GSE25462/GSE25462_series_matrix.txt.gz\n",
      "Loading URL ftp://ftp.ncbi.nih.gov/pub/geo/DATA/SeriesMatrix/GSE25724/GSE25724_series_matrix.txt.gz ...\n",
      "Cache to"
     ]
    },
    {
     "name": "stderr",
     "output_type": "stream",
     "text": [
      "  1.10 s in get_probes(2)\n",
      "  8.51 s in load_gse( series_id platform_id..., 4042, False)\n",
      "  1.45 s in get_gene_fold_change(<Gse GSE25724>, False, 0, None)\n",
      "Loading data for GSE26887, id = 4348\n"
     ]
    },
    {
     "name": "stdout",
     "output_type": "stream",
     "text": [
      " data/geo_mirror/DATA/SeriesMatrix/GSE25724/GSE25724_series_matrix.txt.gz\n",
      "Loading URL ftp://ftp.ncbi.nih.gov/pub/geo/DATA/SeriesMatrix/GSE26887/GSE26887_series_matrix.txt.gz ...\n",
      "Cache to"
     ]
    },
    {
     "name": "stderr",
     "output_type": "stream",
     "text": [
      "  1.15 s in get_probes(283)\n",
      " 12.25 s in load_gse( series_id platform_id..., 4348, False)\n",
      "  1.57 s in get_gene_fold_change(<Gse GSE26887>, False, 0, None)\n",
      "Loading data for GSE27949, id = 4577\n"
     ]
    },
    {
     "name": "stdout",
     "output_type": "stream",
     "text": [
      " data/geo_mirror/DATA/SeriesMatrix/GSE26887/GSE26887_series_matrix.txt.gz\n",
      "Loading URL ftp://ftp.ncbi.nih.gov/pub/geo/DATA/SeriesMatrix/GSE27949/GSE27949_series_matrix.txt.gz ...\n",
      "Cache to"
     ]
    },
    {
     "name": "stderr",
     "output_type": "stream",
     "text": [
      "  1.79 s in get_probes(4)\n",
      " 29.91 s in load_gse( series_id platform_id..., 4577, False)\n",
      "  3.19 s in get_gene_fold_change(<Gse GSE27949>, False, 0, None)\n",
      "Loading data for GSE29221, id = 4919\n"
     ]
    },
    {
     "name": "stdout",
     "output_type": "stream",
     "text": [
      " data/geo_mirror/DATA/SeriesMatrix/GSE27949/GSE27949_series_matrix.txt.gz\n",
      "Loading URL ftp://ftp.ncbi.nih.gov/pub/geo/DATA/SeriesMatrix/GSE29221/GSE29221_series_matrix.txt.gz ...\n",
      "Cache to"
     ]
    },
    {
     "name": "stderr",
     "output_type": "stream",
     "text": [
      "  1.48 s in get_probes(389)\n",
      " 20.72 s in load_gse( series_id platform_id..., 4919, False)\n",
      "  2.39 s in get_gene_fold_change(<Gse GSE29221>, False, 0, None)\n",
      "Loading data for GSE29226, id = 4921\n"
     ]
    },
    {
     "name": "stdout",
     "output_type": "stream",
     "text": [
      " data/geo_mirror/DATA/SeriesMatrix/GSE29221/GSE29221_series_matrix.txt.gz\n",
      "Loading URL ftp://ftp.ncbi.nih.gov/pub/geo/DATA/SeriesMatrix/GSE29226/GSE29226_series_matrix.txt.gz ...\n",
      "Cache to"
     ]
    },
    {
     "name": "stderr",
     "output_type": "stream",
     "text": [
      "  1.44 s in get_probes(389)\n",
      " 20.91 s in load_gse( series_id platform_id..., 4921, False)\n",
      "  2.40 s in get_gene_fold_change(<Gse GSE29226>, False, 0, None)\n",
      "Loading data for GSE29231, id = 4922\n"
     ]
    },
    {
     "name": "stdout",
     "output_type": "stream",
     "text": [
      " data/geo_mirror/DATA/SeriesMatrix/GSE29226/GSE29226_series_matrix.txt.gz\n",
      "Loading URL ftp://ftp.ncbi.nih.gov/pub/geo/DATA/SeriesMatrix/GSE29231/GSE29231_series_matrix.txt.gz ...\n",
      "Cache to"
     ]
    },
    {
     "name": "stderr",
     "output_type": "stream",
     "text": [
      "  1.48 s in get_probes(389)\n",
      " 20.79 s in load_gse( series_id platform_id..., 4922, False)\n",
      "  2.37 s in get_gene_fold_change(<Gse GSE29231>, False, 0, None)\n",
      "Loading data for GSE38396, id = 7091\n"
     ]
    },
    {
     "name": "stdout",
     "output_type": "stream",
     "text": [
      " data/geo_mirror/DATA/SeriesMatrix/GSE29231/GSE29231_series_matrix.txt.gz\n",
      "Loading URL ftp://ftp.ncbi.nih.gov/pub/geo/DATA/SeriesMatrix/GSE38396/GSE38396_series_matrix.txt.gz ...\n",
      "Cache to"
     ]
    },
    {
     "name": "stderr",
     "output_type": "stream",
     "text": [
      "  1.76 s in get_probes(4)\n",
      " 13.93 s in load_gse( series_id platform_id..., 7091, False)\n",
      "  2.29 s in get_gene_fold_change(<Gse GSE38396>, False, 0, None)\n",
      "Loading data for GSE38642, id = 7132\n"
     ]
    },
    {
     "name": "stdout",
     "output_type": "stream",
     "text": [
      " data/geo_mirror/DATA/SeriesMatrix/GSE38396/GSE38396_series_matrix.txt.gz\n",
      "Loading URL ftp://ftp.ncbi.nih.gov/pub/geo/DATA/SeriesMatrix/GSE38642/GSE38642_series_matrix.txt.gz ...\n",
      "Cache to"
     ]
    },
    {
     "name": "stderr",
     "output_type": "stream",
     "text": [
      "  1.13 s in get_probes(283)\n",
      " 14.79 s in load_gse( series_id platform_id..., 7132, False)\n",
      "  2.88 s in get_gene_fold_change(<Gse GSE38642>, False, 0, None)\n",
      "Loading data for GSE40234, id = 7508\n"
     ]
    },
    {
     "name": "stdout",
     "output_type": "stream",
     "text": [
      " data/geo_mirror/DATA/SeriesMatrix/GSE38642/GSE38642_series_matrix.txt.gz\n",
      "Loading URL ftp://ftp.ncbi.nih.gov/pub/geo/DATA/SeriesMatrix/GSE40234/GSE40234_series_matrix.txt.gz ...\n",
      "Cache to"
     ]
    },
    {
     "name": "stderr",
     "output_type": "stream",
     "text": [
      "  1.61 s in get_probes(53)\n",
      " 36.11 s in load_gse( series_id platform_id..., 7508, False)\n",
      "  3.98 s in get_gene_fold_change(<Gse GSE40234>, False, 0, None)\n",
      "Loading data for GSE50397, id = 9552\n"
     ]
    },
    {
     "name": "stdout",
     "output_type": "stream",
     "text": [
      " data/geo_mirror/DATA/SeriesMatrix/GSE40234/GSE40234_series_matrix.txt.gz\n",
      "Loading URL ftp://ftp.ncbi.nih.gov/pub/geo/DATA/SeriesMatrix/GSE50397/GSE50397_series_matrix.txt.gz ...\n",
      "Cache to"
     ]
    },
    {
     "name": "stderr",
     "output_type": "stream",
     "text": [
      "  1.18 s in get_probes(283)\n",
      " 31.54 s in load_gse( series_id platform_id..., 9552, False)\n",
      "  3.70 s in get_gene_fold_change(<Gse GSE50397>, False, 0, None)\n",
      "Loading data for GSE6798, id = 11053\n",
      "  1.54 s in get_probes(4)\n",
      " 22.21 s in load_gse( series_id platform_id..., 11053, False)\n",
      "  3.57 s in get_gene_fold_change(<Gse GSE6798>, False, 0, None)\n",
      "Loading data for GSE9006, id = 11628\n",
      "935.42 ms in get_probes(2)\n",
      "867.69 ms in get_probes(50)\n",
      " 44.84 s in load_gse( series_id platform_id..., 11628, False)\n",
      "  3.52 s in get_gene_fold_change(<Gse GSE9006>, False, 0, None)\n",
      "596.21 s in Load/fold for DOID_9352\n",
      "Meta-Analyzing DOID_9352\n",
      "492.28 s in meta analysis of real data for DOID_9352\n",
      "  2.12 s in meta analysis of permutations for DOID_9352\n",
      "141.14 mks in get_balanced_permutations({'analysis_name': 'DOI...,  C H H_lower H_upper \\..., Empty DataFrame Column...)\n",
      "495.04 s in Meta analysis for DOID_9352\n",
      "DONE DOID_9352 analysis\n",
      "1092.49 s in perform_analysis({'analysis_name': 'DOI...)\n"
     ]
    },
    {
     "name": "stdout",
     "output_type": "stream",
     "text": [
      " data/geo_mirror/DATA/SeriesMatrix/GSE50397/GSE50397_series_matrix.txt.gz\n",
      "63"
     ]
    },
    {
     "name": "stderr",
     "output_type": "stream",
     "text": [
      "Started DOID_9744 analysis\n",
      "  1.43 s in get_analysis_df(\"T1D == 'T1D'\", \"T1D_control == 'T1D_c..., '')\n",
      "  1.43 s in Loading dataframe for DOID_9744\n",
      "Matching sources: 13\n",
      "Excluded 3 sources as single-class\n",
      "Stats: 10 sources, 8 series, 6 platforms, 416 samples\n",
      "Loading data and calculating fold change for DOID_9744\n",
      "Loading data for GSE10586, id = 157\n",
      "  1.77 s in get_probes(4)\n",
      " 19.18 s in load_gse( series_id platform_id..., 157, False)\n",
      "  3.36 s in get_gene_fold_change(<Gse GSE10586>, False, 0, None)\n",
      "Loading data for GSE11907, id = 488\n",
      "  1.16 s in get_probes(2)\n",
      "963.47 ms in get_probes(50)\n",
      " 97.19 s in load_gse( series_id platform_id..., 488, False)\n",
      "  3.27 s in get_gene_fold_change(<Gse GSE11907>, False, 0, None)\n",
      "Loading data for GSE14368, id = 1122\n",
      "  1.28 s in get_probes(331)\n",
      "  6.13 s in load_gse( series_id platform_id..., 1122, False)\n",
      "  1.54 s in get_gene_fold_change(<Gse GSE14368>, False, 0, None)\n",
      "Loading data for GSE24147, id = 3647\n",
      "  1.77 s in get_probes(4)\n",
      " 30.11 s in load_gse( series_id platform_id..., 3647, False)\n",
      "  4.17 s in get_gene_fold_change(<Gse GSE24147>, False, 0, None)\n",
      "Loading data for GSE29142, id = 4902\n",
      "  1.34 s in get_probes(937)\n",
      " 12.06 s in load_gse( series_id platform_id..., 4902, False)\n",
      "  2.02 s in get_gene_fold_change(<Gse GSE29142>, False, 0, None)\n",
      "Loading data for GSE3447, id = 6176\n",
      "185.00 ms in get_probes(654)\n",
      "  2.60 s in load_gse( series_id platform_id..., 6176, False)\n",
      "392.56 ms in get_gene_fold_change(<Gse GSE3447>, False, 0, None)\n",
      "Loading data for GSE55098, id = 10293\n",
      "  1.74 s in get_probes(4)\n",
      " 15.81 s in load_gse( series_id platform_id..., 10293, False)\n",
      "  3.11 s in get_gene_fold_change(<Gse GSE55098>, False, 0, None)\n",
      "Loading data for GSE9006, id = 11628\n",
      "  1.16 s in get_probes(2)\n",
      "958.56 ms in get_probes(50)\n",
      " 44.32 s in load_gse( series_id platform_id..., 11628, False)\n",
      "  7.09 s in get_gene_fold_change(<Gse GSE9006>, False, 0, None)\n",
      "255.28 s in Load/fold for DOID_9744\n",
      "Meta-Analyzing DOID_9744\n",
      "431.18 s in meta analysis of real data for DOID_9744\n",
      "666.25 ms in meta analysis of permutations for DOID_9744\n",
      "122.07 mks in get_balanced_permutations({'analysis_name': 'DOI...,  C H H_lower H_upper \\..., Empty DataFrame Column...)\n",
      "432.46 s in Meta analysis for DOID_9744\n",
      "DONE DOID_9744 analysis\n",
      "689.38 s in perform_analysis({'analysis_name': 'DOI...)\n"
     ]
    },
    {
     "name": "stdout",
     "output_type": "stream",
     "text": [
      " DOID:9744 type 1 diabetes mellitus\n",
      "64"
     ]
    },
    {
     "name": "stderr",
     "output_type": "stream",
     "text": [
      "Started DOID_986 analysis\n",
      "777.64 ms in get_analysis_df(\"alopecia_areata == 'a..., \"alopecia_areata_contr..., '')\n",
      "781.95 ms in Loading dataframe for DOID_986\n",
      "Matching sources: 2\n",
      "Stats: 2 sources, 2 series, 1 platforms, 17 samples\n",
      "Loading data and calculating fold change for DOID_986\n",
      "Loading data for GSE45512, id = 8684\n",
      "  1.54 s in get_probes(4)\n",
      " 11.32 s in load_gse( series_id platform_id..., 8684, False)\n",
      "  2.41 s in get_gene_fold_change(<Gse GSE45512>, False, 0, None)\n",
      "Loading data for GSE58573, id = 10697\n",
      "  1.62 s in get_probes(4)\n",
      "  9.51 s in load_gse( series_id platform_id..., 10697, False)\n",
      "  2.25 s in get_gene_fold_change(<Gse GSE58573>, False, 0, None)\n",
      " 26.00 s in Load/fold for DOID_986\n",
      "Meta-Analyzing DOID_986\n",
      "366.19 s in meta analysis of real data for DOID_986\n",
      "239.84 ms in meta analysis of permutations for DOID_986\n",
      "119.92 mks in get_balanced_permutations({'analysis_name': 'DOI...,  C H H_lower H_upper I..., Empty DataFrame Column...)\n",
      "367.13 s in Meta analysis for DOID_986\n",
      "DONE DOID_986 analysis\n",
      "394.07 s in perform_analysis({'analysis_name': 'DOI...)\n"
     ]
    },
    {
     "name": "stdout",
     "output_type": "stream",
     "text": [
      " DOID:986 alopecia areata\n",
      "65"
     ]
    },
    {
     "name": "stderr",
     "output_type": "stream",
     "text": [
      "Started DOID_9970 analysis\n",
      "  1.25 s in get_analysis_df(\"obesity == 'obesity'\", \"obesity_control == 'o..., '')\n",
      "  1.25 s in Loading dataframe for DOID_9970\n",
      "Matching sources: 43\n",
      "Excluded 23 sources as single-class\n",
      "Stats: 20 sources, 14 series, 16 platforms, 561 samples\n",
      "Loading data and calculating fold change for DOID_9970\n",
      "Loading data for GSE12050, id = 521\n",
      "  1.50 s in get_probes(332)\n",
      " 13.50 s in load_gse( series_id platform_id..., 521, False)\n",
      "  2.58 s in get_gene_fold_change(<Gse GSE12050>, False, 0, None)\n",
      "Loading data for GSE15524, id = 1461\n",
      "913.87 ms in get_probes(500)\n",
      "  8.55 s in load_gse( series_id platform_id..., 1461, False)\n",
      "  1.60 s in get_gene_fold_change(<Gse GSE15524>, False, 0, None)\n",
      "Loading data for GSE2508, id = 3892\n",
      "737.22 ms in get_probes(7)\n",
      "700.16 ms in get_probes(8)\n",
      "619.39 ms in get_probes(13)\n",
      "495.10 ms in get_probes(14)\n",
      "419.47 ms in get_probes(15)\n",
      "526.28 ms in get_probes(16)\n",
      " 28.36 s in load_gse( series_id platform_id..., 3892, False)\n",
      "  5.13 s in get_gene_fold_change(<Gse GSE2508>, False, 0, None)\n",
      "Loading data for GSE2510, id = 3901\n",
      "  1.05 s in get_probes(2)\n",
      "872.22 ms in get_probes(50)\n",
      " 15.18 s in load_gse( series_id platform_id..., 3901, False)\n",
      "  3.18 s in get_gene_fold_change(<Gse GSE2510>, False, 0, None)\n",
      "Loading data for GSE25401, id = 3977\n",
      "  1.13 s in get_probes(283)\n",
      " 17.71 s in load_gse( series_id platform_id..., 3977, False)\n",
      "  2.87 s in get_gene_fold_change(<Gse GSE25401>, False, 0, None)\n",
      "Loading data for GSE32575, id = 5751\n",
      "  1.16 s in get_probes(17)\n",
      " 25.57 s in load_gse( series_id platform_id..., 5751, False)\n",
      "  2.78 s in get_gene_fold_change(<Gse GSE32575>, False, 0, None)\n",
      "Loading data for GSE44000, id = 8392\n",
      "  1.36 s in get_probes(53)\n",
      "  6.39 s in load_gse( series_id platform_id..., 8392, False)\n",
      "  2.05 s in get_gene_fold_change(<Gse GSE44000>, False, 0, None)\n",
      "Loading data for GSE474, id = 9041\n",
      "  1.06 s in get_probes(2)\n",
      "  7.93 s in load_gse( series_id platform_id..., 9041, False)\n",
      "  1.72 s in get_gene_fold_change(<Gse GSE474>, False, 0, None)\n",
      "Loading data for GSE48452, id = 9252\n",
      "  1.07 s in get_probes(953)\n",
      " 29.78 s in load_gse( series_id platform_id..., 9252, False)\n",
      "  2.38 s in get_gene_fold_change(<Gse GSE48452>, False, 0, None)\n",
      "Loading data for GSE48521, id = 9261\n",
      "  1.59 s in get_probes(4)\n",
      " 14.72 s in load_gse( series_id platform_id..., 9261, False)\n",
      "  2.73 s in get_gene_fold_change(<Gse GSE48521>, False, 0, None)\n",
      "Loading data for GSE48964, id = 9327\n",
      "  1.06 s in get_probes(283)\n",
      "  5.70 s in load_gse( series_id platform_id..., 9327, False)\n",
      "  1.40 s in get_gene_fold_change(<Gse GSE48964>, False, 0, None)\n",
      "Loading data for GSE55205, id = 10304\n",
      "  1.35 s in get_probes(674)\n",
      "  7.37 s in load_gse( series_id platform_id..., 10304, False)\n",
      "  2.33 s in get_gene_fold_change(<Gse GSE55205>, False, 0, None)\n",
      "Loading data for GSE60403, id = 10836\n",
      "  1.43 s in get_probes(4)\n",
      " 14.91 s in load_gse( series_id platform_id..., 10836, False)\n",
      "  2.80 s in get_gene_fold_change(<Gse GSE60403>, False, 0, None)\n",
      "Loading data for GSE9624, id = 11780\n",
      "  1.59 s in get_probes(4)\n",
      " 11.28 s in load_gse( series_id platform_id..., 11780, False)\n",
      "  2.44 s in get_gene_fold_change(<Gse GSE9624>, False, 0, None)\n",
      "248.20 s in Load/fold for DOID_9970\n",
      "Meta-Analyzing DOID_9970\n",
      "477.32 s in meta analysis of real data for DOID_9970\n",
      "  1.16 s in meta analysis of permutations for DOID_9970\n",
      "120.88 mks in get_balanced_permutations({'analysis_name': 'DOI...,  C H H_lower H_upper \\..., Empty DataFrame Column...)\n",
      "479.10 s in Meta analysis for DOID_9970\n",
      "DONE DOID_9970 analysis\n",
      "728.83 s in perform_analysis({'analysis_name': 'DOI...)\n"
     ]
    },
    {
     "name": "stdout",
     "output_type": "stream",
     "text": [
      " DOID:9970 obesity\n"
     ]
    }
   ],
   "source": [
    "errors = list()\n",
    "\n",
    "for i, row in query_df.iterrows():\n",
    "    print i, row.slim_id, row.slim_name\n",
    "\n",
    "    name = row.slim_id.replace(':', '_')\n",
    "    params = easydict.EasyDict(\n",
    "        analysis_name = name,\n",
    "        case_query = row.case_query,\n",
    "        control_query = row.control_query,\n",
    "        modifier_query = '',\n",
    "        min_samples = 3,\n",
    "    )\n",
    "    \n",
    "    directory = os.path.join('data', 'doslim', params.analysis_name)\n",
    "    if not os.path.isdir(directory):\n",
    "        os.mkdir(directory)\n",
    "\n",
    "    logfile = logging.FileHandler(os.path.join(directory, 'log.txt'))\n",
    "    logfile.setLevel(logging.DEBUG)\n",
    "    starapi.analysis.logger.addHandler(logfile)\n",
    "    try:\n",
    "        sample_df, fold_df, balanced_perm_df, perm_df = starapi.analysis.perform_analysis(params)\n",
    "        for df in fold_df, balanced_perm_df:\n",
    "            if df is not None:\n",
    "                df.reset_index(inplace=True)\n",
    "        \n",
    "    except Exception as e:\n",
    "        sample_df, fold_df, balanced_perm_df, perm_df = None, None, None, None\n",
    "        errors.append({'slim_id': row.slim_id, 'name': name, 'error': e})\n",
    "        print(e)\n",
    "    starapi.analysis.logger.removeHandler(logfile)\n",
    "    \n",
    "    # write files\n",
    "    files = [\n",
    "        (sample_df, 'samples.tsv', open),\n",
    "        (fold_df, 'fold_change.tsv.gz', gzip.open),\n",
    "        (balanced_perm_df, 'balanced_permutation.tsv.gz', gzip.open),\n",
    "    ]\n",
    "    for df, filename, opener in files:\n",
    "        if df is None:\n",
    "            continue\n",
    "        path = os.path.join(directory, filename)\n",
    "        with opener(path, 'wt') as write_file:\n",
    "            df.to_csv(write_file, index=False, sep='\\t', float_format='%.5g')\n"
   ]
  },
  {
   "cell_type": "code",
   "execution_count": 5,
   "metadata": {
    "collapsed": false
   },
   "outputs": [
    {
     "data": {
      "text/html": [
       "<div>\n",
       "<table border=\"1\" class=\"dataframe\">\n",
       "  <thead>\n",
       "    <tr style=\"text-align: right;\">\n",
       "      <th></th>\n",
       "      <th>slim_id</th>\n",
       "      <th>slim_name</th>\n",
       "      <th>case_query</th>\n",
       "      <th>control_query</th>\n",
       "      <th>error</th>\n",
       "      <th>name</th>\n",
       "    </tr>\n",
       "  </thead>\n",
       "  <tbody>\n",
       "    <tr>\n",
       "      <th>0</th>\n",
       "      <td>DOID:0050742</td>\n",
       "      <td>nicotine dependence</td>\n",
       "      <td>Smoker == 'Smoker'</td>\n",
       "      <td>Nonsmoker == 'Nonsmoker'</td>\n",
       "      <td>'Int64Index' object has no attribute 'labels'</td>\n",
       "      <td>DOID_0050742</td>\n",
       "    </tr>\n",
       "    <tr>\n",
       "      <th>1</th>\n",
       "      <td>DOID:11054</td>\n",
       "      <td>urinary bladder cancer</td>\n",
       "      <td>bladder_cancer == 'bladder_cancer'</td>\n",
       "      <td>bladder_cancer_control == 'bladder_cancer_cont...</td>\n",
       "      <td>'Int64Index' object has no attribute 'labels'</td>\n",
       "      <td>DOID_11054</td>\n",
       "    </tr>\n",
       "    <tr>\n",
       "      <th>2</th>\n",
       "      <td>DOID:11714</td>\n",
       "      <td>gestational diabetes</td>\n",
       "      <td>GDM == 'GDM'</td>\n",
       "      <td>GDM_control == 'GDM_control'</td>\n",
       "      <td>'mygene_sym'</td>\n",
       "      <td>DOID_11714</td>\n",
       "    </tr>\n",
       "    <tr>\n",
       "      <th>3</th>\n",
       "      <td>DOID:12849</td>\n",
       "      <td>autistic disorder</td>\n",
       "      <td>autism == 'autism'</td>\n",
       "      <td>autism_control == 'autism_control'</td>\n",
       "      <td>zero-size array to reduction operation maximum...</td>\n",
       "      <td>DOID_12849</td>\n",
       "    </tr>\n",
       "    <tr>\n",
       "      <th>4</th>\n",
       "      <td>DOID:14221</td>\n",
       "      <td>metabolic syndrome X</td>\n",
       "      <td>MetS == 'MetS'</td>\n",
       "      <td>MetS_Control == 'MetS_Control'</td>\n",
       "      <td>'Int64Index' object has no attribute 'labels'</td>\n",
       "      <td>DOID_14221</td>\n",
       "    </tr>\n",
       "    <tr>\n",
       "      <th>5</th>\n",
       "      <td>DOID:2998</td>\n",
       "      <td>testicular cancer</td>\n",
       "      <td>testicular_cancer == 'testicular_cancer'</td>\n",
       "      <td>testicular_cancer_control == 'testicular_cance...</td>\n",
       "      <td>'Int64Index' object has no attribute 'labels'</td>\n",
       "      <td>DOID_2998</td>\n",
       "    </tr>\n",
       "    <tr>\n",
       "      <th>6</th>\n",
       "      <td>DOID:3083</td>\n",
       "      <td>chronic obstructive pulmonary disease</td>\n",
       "      <td>COPD == 'COPD'</td>\n",
       "      <td>COPD_control == 'COPD_control'</td>\n",
       "      <td>Can't find matrix file for series 6962, platfo...</td>\n",
       "      <td>DOID_3083</td>\n",
       "    </tr>\n",
       "    <tr>\n",
       "      <th>7</th>\n",
       "      <td>DOID:4606</td>\n",
       "      <td>bile duct cancer</td>\n",
       "      <td>bile_duct_cancer == 'bile_duct_cancer'</td>\n",
       "      <td>bile_duct_cancer_control == 'bile_duct_cancer_...</td>\n",
       "      <td>'Int64Index' object has no attribute 'labels'</td>\n",
       "      <td>DOID_4606</td>\n",
       "    </tr>\n",
       "    <tr>\n",
       "      <th>8</th>\n",
       "      <td>DOID:635</td>\n",
       "      <td>acquired immunodeficiency syndrome</td>\n",
       "      <td>HIV_Stage1 == 'HIV_Stage1' or HIV_stage2 == 'H...</td>\n",
       "      <td>HIV_healthycontrol == 'HIV_healthycontrol'</td>\n",
       "      <td>'Int64Index' object has no attribute 'labels'</td>\n",
       "      <td>DOID_635</td>\n",
       "    </tr>\n",
       "  </tbody>\n",
       "</table>\n",
       "</div>"
      ],
      "text/plain": [
       "        slim_id                              slim_name  \\\n",
       "0  DOID:0050742                    nicotine dependence   \n",
       "1    DOID:11054                 urinary bladder cancer   \n",
       "2    DOID:11714                   gestational diabetes   \n",
       "3    DOID:12849                      autistic disorder   \n",
       "4    DOID:14221                   metabolic syndrome X   \n",
       "5     DOID:2998                      testicular cancer   \n",
       "6     DOID:3083  chronic obstructive pulmonary disease   \n",
       "7     DOID:4606                       bile duct cancer   \n",
       "8      DOID:635     acquired immunodeficiency syndrome   \n",
       "\n",
       "                                          case_query  \\\n",
       "0                                 Smoker == 'Smoker'   \n",
       "1                 bladder_cancer == 'bladder_cancer'   \n",
       "2                                       GDM == 'GDM'   \n",
       "3                                 autism == 'autism'   \n",
       "4                                     MetS == 'MetS'   \n",
       "5           testicular_cancer == 'testicular_cancer'   \n",
       "6                                     COPD == 'COPD'   \n",
       "7             bile_duct_cancer == 'bile_duct_cancer'   \n",
       "8  HIV_Stage1 == 'HIV_Stage1' or HIV_stage2 == 'H...   \n",
       "\n",
       "                                       control_query  \\\n",
       "0                           Nonsmoker == 'Nonsmoker'   \n",
       "1  bladder_cancer_control == 'bladder_cancer_cont...   \n",
       "2                       GDM_control == 'GDM_control'   \n",
       "3                 autism_control == 'autism_control'   \n",
       "4                     MetS_Control == 'MetS_Control'   \n",
       "5  testicular_cancer_control == 'testicular_cance...   \n",
       "6                     COPD_control == 'COPD_control'   \n",
       "7  bile_duct_cancer_control == 'bile_duct_cancer_...   \n",
       "8         HIV_healthycontrol == 'HIV_healthycontrol'   \n",
       "\n",
       "                                               error          name  \n",
       "0      'Int64Index' object has no attribute 'labels'  DOID_0050742  \n",
       "1      'Int64Index' object has no attribute 'labels'    DOID_11054  \n",
       "2                                       'mygene_sym'    DOID_11714  \n",
       "3  zero-size array to reduction operation maximum...    DOID_12849  \n",
       "4      'Int64Index' object has no attribute 'labels'    DOID_14221  \n",
       "5      'Int64Index' object has no attribute 'labels'     DOID_2998  \n",
       "6  Can't find matrix file for series 6962, platfo...     DOID_3083  \n",
       "7      'Int64Index' object has no attribute 'labels'     DOID_4606  \n",
       "8      'Int64Index' object has no attribute 'labels'      DOID_635  "
      ]
     },
     "execution_count": 5,
     "metadata": {},
     "output_type": "execute_result"
    }
   ],
   "source": [
    "error_df = pandas.DataFrame(errors)\n",
    "error_df = query_df.merge(error_df)\n",
    "error_df"
   ]
  },
  {
   "cell_type": "code",
   "execution_count": 6,
   "metadata": {
    "collapsed": true
   },
   "outputs": [],
   "source": [
    "error_df.to_csv('data/errors.csv', index=False)"
   ]
  }
 ],
 "metadata": {
  "kernelspec": {
   "display_name": "Python 2 - stargeo",
   "language": "python",
   "name": "stargeo"
  },
  "language_info": {
   "codemirror_mode": {
    "name": "ipython",
    "version": 2
   },
   "file_extension": ".py",
   "mimetype": "text/x-python",
   "name": "python",
   "nbconvert_exporter": "python",
   "pygments_lexer": "ipython2",
   "version": "2.7.10"
  }
 },
 "nbformat": 4,
 "nbformat_minor": 0
}
