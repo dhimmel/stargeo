{
 "cells": [
  {
   "cell_type": "code",
   "execution_count": 1,
   "metadata": {
    "collapsed": false
   },
   "outputs": [],
   "source": [
    "import logging\n",
    "import os\n",
    "import gzip\n",
    "\n",
    "import pandas\n",
    "import easydict\n",
    "\n",
    "import starapi.analysis\n",
    "import starapi.conf"
   ]
  },
  {
   "cell_type": "code",
   "execution_count": 2,
   "metadata": {
    "collapsed": false
   },
   "outputs": [],
   "source": [
    "starapi.analysis.logger.propagate = False\n",
    "starapi.conf.configure('data')"
   ]
  },
  {
   "cell_type": "code",
   "execution_count": null,
   "metadata": {
    "collapsed": false
   },
   "outputs": [
    {
     "data": {
      "text/html": [
       "<div>\n",
       "<table border=\"1\" class=\"dataframe\">\n",
       "  <thead>\n",
       "    <tr style=\"text-align: right;\">\n",
       "      <th></th>\n",
       "      <th>slim_id</th>\n",
       "      <th>slim_name</th>\n",
       "      <th>case_query</th>\n",
       "      <th>control_query</th>\n",
       "    </tr>\n",
       "  </thead>\n",
       "  <tbody>\n",
       "    <tr>\n",
       "      <th>0</th>\n",
       "      <td>DOID:0050156</td>\n",
       "      <td>idiopathic pulmonary fibrosis</td>\n",
       "      <td>IPF == 'IPF'</td>\n",
       "      <td>IPF_control == 'IPF_control'</td>\n",
       "    </tr>\n",
       "    <tr>\n",
       "      <th>1</th>\n",
       "      <td>DOID:0050741</td>\n",
       "      <td>alcohol dependence</td>\n",
       "      <td>alcoholism == 'alcoholism'</td>\n",
       "      <td>alcoholism_control == 'alcoholism_control'</td>\n",
       "    </tr>\n",
       "    <tr>\n",
       "      <th>2</th>\n",
       "      <td>DOID:0050742</td>\n",
       "      <td>nicotine dependence</td>\n",
       "      <td>Smoker == 'Smoker'</td>\n",
       "      <td>Nonsmoker == 'Nonsmoker'</td>\n",
       "    </tr>\n",
       "    <tr>\n",
       "      <th>3</th>\n",
       "      <td>DOID:1024</td>\n",
       "      <td>leprosy</td>\n",
       "      <td>borderline_leprosy == 'borderline_leprosy' or ...</td>\n",
       "      <td>leprosy_control == 'leprosy_control'</td>\n",
       "    </tr>\n",
       "    <tr>\n",
       "      <th>4</th>\n",
       "      <td>DOID:10283</td>\n",
       "      <td>prostate cancer</td>\n",
       "      <td>PC == 'PC' or PC_tissue_case == 'PC_tissue_case'</td>\n",
       "      <td>PC_control == 'PC_control' or PC_tissue_contro...</td>\n",
       "    </tr>\n",
       "  </tbody>\n",
       "</table>\n",
       "</div>"
      ],
      "text/plain": [
       "        slim_id                      slim_name  \\\n",
       "0  DOID:0050156  idiopathic pulmonary fibrosis   \n",
       "1  DOID:0050741             alcohol dependence   \n",
       "2  DOID:0050742            nicotine dependence   \n",
       "3     DOID:1024                        leprosy   \n",
       "4    DOID:10283                prostate cancer   \n",
       "\n",
       "                                          case_query  \\\n",
       "0                                       IPF == 'IPF'   \n",
       "1                         alcoholism == 'alcoholism'   \n",
       "2                                 Smoker == 'Smoker'   \n",
       "3  borderline_leprosy == 'borderline_leprosy' or ...   \n",
       "4   PC == 'PC' or PC_tissue_case == 'PC_tissue_case'   \n",
       "\n",
       "                                       control_query  \n",
       "0                       IPF_control == 'IPF_control'  \n",
       "1         alcoholism_control == 'alcoholism_control'  \n",
       "2                           Nonsmoker == 'Nonsmoker'  \n",
       "3               leprosy_control == 'leprosy_control'  \n",
       "4  PC_control == 'PC_control' or PC_tissue_contro...  "
      ]
     },
     "execution_count": 3,
     "metadata": {},
     "output_type": "execute_result"
    }
   ],
   "source": [
    "query_df = pandas.read_table('data/queries.tsv')\n",
    "query_df.head()"
   ]
  },
  {
   "cell_type": "code",
   "execution_count": null,
   "metadata": {
    "collapsed": false
   },
   "outputs": [
    {
     "name": "stderr",
     "output_type": "stream",
     "text": [
      "/home/dhimmels/anaconda3/envs/stargeo/lib/python2.7/site-packages/pandas/core/indexing.py:115: SettingWithCopyWarning: \n",
      "A value is trying to be set on a copy of a slice from a DataFrame\n",
      "\n",
      "See the the caveats in the documentation: http://pandas.pydata.org/pandas-docs/stable/indexing.html#indexing-view-versus-copy\n",
      "  self._setitem_with_indexer(indexer, value)\n",
      "/home/dhimmels/Documents/serg/rephetio/construct/starapi/starapi/analysis.py:157: SettingWithCopyWarning: \n",
      "A value is trying to be set on a copy of a slice from a DataFrame.\n",
      "Try using .loc[row_indexer,col_indexer] = value instead\n",
      "\n",
      "See the the caveats in the documentation: http://pandas.pydata.org/pandas-docs/stable/indexing.html#indexing-view-versus-copy\n",
      "  samples['subset'] = \"NA\"\n"
     ]
    },
    {
     "name": "stdout",
     "output_type": "stream",
     "text": [
      "0 DOID:0050156 idiopathic pulmonary fibrosis\n",
      "1 DOID:0050741 alcohol dependence\n",
      "zero-size array to reduction operation maximum which has no identity\n",
      "2 DOID:0050742 nicotine dependence\n",
      "Loading URL ftp://ftp.ncbi.nih.gov/pub/geo/DATA/SeriesMatrix/GSE10006/GSE10006_series_matrix.txt.gz ...\n",
      "Cache to data/geo_mirror/DATA/SeriesMatrix/GSE10006/GSE10006_series_matrix.txt.gz\n",
      "Loading URL ftp://ftp.ncbi.nih.gov/pub/geo/DATA/SeriesMatrix/GSE11784/GSE11784_series_matrix.txt.gz ...\n",
      "Cache to data/geo_mirror/DATA/SeriesMatrix/GSE11784/GSE11784_series_matrix.txt.gz\n",
      "Loading URL ftp://ftp.ncbi.nih.gov/pub/geo/DATA/SeriesMatrix/GSE11906/GSE11906_series_matrix.txt.gz ...\n",
      "Cache to data/geo_mirror/DATA/SeriesMatrix/GSE11906/GSE11906_series_matrix.txt.gz\n",
      "Loading URL ftp://ftp.ncbi.nih.gov/pub/geo/DATA/SeriesMatrix/GSE19407/GSE19407_series_matrix.txt.gz ...\n",
      "Cache to data/geo_mirror/DATA/SeriesMatrix/GSE19407/GSE19407_series_matrix.txt.gz\n",
      "Loading URL ftp://ftp.ncbi.nih.gov/pub/geo/DATA/SeriesMatrix/GSE20257/GSE20257_series_matrix.txt.gz ...\n",
      "Cache to data/geo_mirror/DATA/SeriesMatrix/GSE20257/GSE20257_series_matrix.txt.gz\n",
      "Loading URL ftp://ftp.ncbi.nih.gov/pub/geo/DATA/SeriesMatrix/GSE20568/GSE20568_series_matrix.txt.gz ...\n",
      "Cache to data/geo_mirror/DATA/SeriesMatrix/GSE20568/GSE20568_series_matrix.txt.gz\n",
      "Loading URL ftp://ftp.ncbi.nih.gov/pub/geo/DATA/SeriesMatrix/GSE27272/GSE27272_series_matrix.txt.gz ...\n",
      "Cache to data/geo_mirror/DATA/SeriesMatrix/GSE27272/GSE27272_series_matrix.txt.gz\n",
      "Loading URL ftp://ftp.ncbi.nih.gov/pub/geo/DATA/SeriesMatrix/GSE30063/GSE30063_series_matrix.txt.gz ...\n",
      "Cache to data/geo_mirror/DATA/SeriesMatrix/GSE30063/GSE30063_series_matrix.txt.gz\n",
      "All objects passed were None\n",
      "3 DOID:1024 leprosy\n",
      "'NoneType' object has no attribute 'reset_index'\n",
      "4 DOID:10283 prostate cancer\n",
      "Loading URL ftp://ftp.ncbi.nih.gov/pub/geo/DATA/SeriesMatrix/GSE11682/GSE11682_series_matrix.txt.gz ...\n",
      "Cache to data/geo_mirror/DATA/SeriesMatrix/GSE11682/GSE11682_series_matrix.txt.gz\n",
      "Loading URL ftp://ftp.ncbi.nih.gov/pub/geo/DATA/SeriesMatrix/GSE14857/GSE14857_series_matrix.txt.gz ...\n",
      "Cache to data/geo_mirror/DATA/SeriesMatrix/GSE14857/GSE14857_series_matrix.txt.gz\n",
      "zero-size array to reduction operation maximum which has no identity\n",
      "5 DOID:10534 stomach cancer\n",
      "'NoneType' object has no attribute 'reset_index'\n",
      "6 DOID:10608 celiac disease\n",
      "'NoneType' object has no attribute 'reset_index'\n",
      "7 DOID:10652 Alzheimer's disease\n",
      "Loading URL ftp://ftp.ncbi.nih.gov/pub/geo/DATA/SeriesMatrix/GSE33000/GSE33000_series_matrix.txt.gz ...\n",
      "Cache to"
     ]
    }
   ],
   "source": [
    "for i, row in query_df.iterrows():\n",
    "    print i, row.slim_id, row.slim_name\n",
    "\n",
    "    name = row.slim_id.replace(':', '_')\n",
    "    params = easydict.EasyDict(\n",
    "        analysis_name = name,\n",
    "        case_query = row.case_query,\n",
    "        control_query = row.control_query,\n",
    "        modifier_query = '',\n",
    "        min_samples = 3,\n",
    "    )\n",
    "    \n",
    "    directory = os.path.join('data', 'doslim', params.analysis_name)\n",
    "    if not os.path.isdir(directory):\n",
    "        os.mkdir(directory)\n",
    "\n",
    "    logfile = logging.FileHandler(os.path.join(directory, 'log.txt'))\n",
    "    logfile.setLevel(logging.DEBUG)\n",
    "    starapi.analysis.logger.addHandler(logfile)\n",
    "    try:\n",
    "        sample_df, fold_df, balanced_perm_df, perm_df = starapi.analysis.perform_analysis(params)\n",
    "        for df in fold_df, balanced_perm_df:\n",
    "            if df is not None:\n",
    "                df.reset_index(inplace=True)\n",
    "        \n",
    "    except Exception as e:\n",
    "        sample_df, fold_df, balanced_perm_df, perm_df = None, None, None, None\n",
    "        print(e)\n",
    "    starapi.analysis.logger.removeHandler(logfile)\n",
    "    \n",
    "    # write files\n",
    "    files = [\n",
    "        (sample_df, 'samples.tsv', open),\n",
    "        (fold_df, 'fold_change.tsv.gz', gzip.open),\n",
    "        (balanced_perm_df, 'balanced_permutation.tsv.gz', gzip.open),\n",
    "    ]\n",
    "    for df, filename, opener in files:\n",
    "        if df is None:\n",
    "            continue\n",
    "        path = os.path.join(directory, filename)\n",
    "        with opener(path, 'wt') as write_file:\n",
    "            df.to_csv(write_file, index=False, sep='\\t', float_format='%.5g')\n"
   ]
  },
  {
   "cell_type": "code",
   "execution_count": null,
   "metadata": {
    "collapsed": true
   },
   "outputs": [],
   "source": []
  }
 ],
 "metadata": {
  "kernelspec": {
   "display_name": "Python 2 - stargeo",
   "language": "python",
   "name": "stargeo"
  },
  "language_info": {
   "codemirror_mode": {
    "name": "ipython",
    "version": 2
   },
   "file_extension": ".py",
   "mimetype": "text/x-python",
   "name": "python",
   "nbconvert_exporter": "python",
   "pygments_lexer": "ipython2",
   "version": "2.7.10"
  }
 },
 "nbformat": 4,
 "nbformat_minor": 0
}
