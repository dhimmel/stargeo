{
 "cells": [
  {
   "cell_type": "code",
   "execution_count": 1,
   "metadata": {
    "collapsed": false
   },
   "outputs": [],
   "source": [
    "import pandas\n",
    "import psycopg2"
   ]
  },
  {
   "cell_type": "code",
   "execution_count": 2,
   "metadata": {
    "collapsed": false
   },
   "outputs": [],
   "source": [
    "# Read database connection info\n",
    "with open('dsn.txt') as read_file:\n",
    "    dsn = read_file.read()\n",
    "\n",
    "# Connect to database\n",
    "con = psycopg2.connect(dsn)"
   ]
  },
  {
   "cell_type": "code",
   "execution_count": 3,
   "metadata": {
    "collapsed": true
   },
   "outputs": [],
   "source": [
    "#sql = \"\"\"select * from analysis INNER JOIN balanced_meta on analysis.id = balanced_meta.analysis_id;\"\"\"\n",
    "#analyses = pd.read_sql_query(sql, conn).fillna(\"\")"
   ]
  },
  {
   "cell_type": "code",
   "execution_count": 4,
   "metadata": {
    "collapsed": false
   },
   "outputs": [],
   "source": [
    "# Retreive and save all tags\n",
    "tag_df = pandas.read_sql('SELECT * FROM tag', con)\n",
    "tag_df.to_csv('download/tag.tsv', sep='\\t', index=False)"
   ]
  },
  {
   "cell_type": "code",
   "execution_count": null,
   "metadata": {
    "collapsed": false
   },
   "outputs": [],
   "source": []
  },
  {
   "cell_type": "code",
   "execution_count": 5,
   "metadata": {
    "collapsed": false
   },
   "outputs": [],
   "source": [
    "# # Retreive DO slim diseases and subsumed diseases\n",
    "# url = 'https://raw.githubusercontent.com/dhimmel/disease-ontology/72614ade9f1cc5a5317b8f6836e1e464b31d5587/data/slim-terms-prop.tsv'\n",
    "# do_df = pandas.read_table(url).rename(columns={'subsumed_id': 'doid_id', 'subsumed_name': 'doid_name'})\n",
    "# do_df = do_df[['doid_id', 'doid_name', 'min_distance']].sort(['min_distance', 'doid_name'])\n",
    "# do_df = do_df.drop_duplicates(['doid_id', 'doid_name'])\n",
    "# do_df.to_csv('download/disease-ontology-terms.tsv', sep='\\t', index=False)\n",
    "# do_df.head()"
   ]
  }
 ],
 "metadata": {
  "kernelspec": {
   "display_name": "Python 3",
   "language": "python",
   "name": "python3"
  },
  "language_info": {
   "codemirror_mode": {
    "name": "ipython",
    "version": 3
   },
   "file_extension": ".py",
   "mimetype": "text/x-python",
   "name": "python",
   "nbconvert_exporter": "python",
   "pygments_lexer": "ipython3",
   "version": "3.4.3"
  }
 },
 "nbformat": 4,
 "nbformat_minor": 0
}
