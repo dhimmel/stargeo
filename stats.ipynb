{
 "cells": [
  {
   "cell_type": "markdown",
   "metadata": {},
   "source": [
    "# Compute stats for how many samples, series, and platforms were meta-analyzed"
   ]
  },
  {
   "cell_type": "code",
   "execution_count": 1,
   "metadata": {
    "collapsed": true
   },
   "outputs": [],
   "source": [
    "import pandas\n",
    "import os"
   ]
  },
  {
   "cell_type": "code",
   "execution_count": 2,
   "metadata": {
    "collapsed": false
   },
   "outputs": [
    {
     "data": {
      "text/plain": [
       "49"
      ]
     },
     "execution_count": 2,
     "metadata": {},
     "output_type": "execute_result"
    }
   ],
   "source": [
    "file_df = pandas.read_table('data/files.tsv')\n",
    "# Diseases with a meta-analysis\n",
    "file_df = file_df[file_df['balanced_permutation.tsv.gz']]\n",
    "len(file_df)"
   ]
  },
  {
   "cell_type": "code",
   "execution_count": 3,
   "metadata": {
    "collapsed": false
   },
   "outputs": [],
   "source": [
    "keep = ['doid', 'gpl_name', 'gse_name', 'gsm_name', 'sample_class']\n",
    "\n",
    "dfs = list()\n",
    "for doid in file_df.doid:\n",
    "    path = os.path.join('data', 'doslim', doid, 'samples.tsv')\n",
    "    sample_df = pandas.read_table(path)\n",
    "    sample_df['doid'] = doid\n",
    "    sample_df = sample_df[keep]\n",
    "    dfs.append(sample_df)\n",
    "sample_df = pandas.concat(dfs)\n",
    "sample_df = sample_df.query(\"sample_class != -1\")"
   ]
  },
  {
   "cell_type": "code",
   "execution_count": 4,
   "metadata": {
    "collapsed": false
   },
   "outputs": [
    {
     "data": {
      "text/html": [
       "<div>\n",
       "<table border=\"1\" class=\"dataframe\">\n",
       "  <thead>\n",
       "    <tr style=\"text-align: right;\">\n",
       "      <th></th>\n",
       "      <th>doid</th>\n",
       "      <th>gpl_name</th>\n",
       "      <th>gse_name</th>\n",
       "      <th>gsm_name</th>\n",
       "      <th>sample_class</th>\n",
       "    </tr>\n",
       "  </thead>\n",
       "  <tbody>\n",
       "    <tr>\n",
       "      <th>0</th>\n",
       "      <td>DOID_635</td>\n",
       "      <td>GPL3865</td>\n",
       "      <td>GSE12597</td>\n",
       "      <td>GSM315734</td>\n",
       "      <td>0</td>\n",
       "    </tr>\n",
       "    <tr>\n",
       "      <th>1</th>\n",
       "      <td>DOID_635</td>\n",
       "      <td>GPL3865</td>\n",
       "      <td>GSE12597</td>\n",
       "      <td>GSM315735</td>\n",
       "      <td>0</td>\n",
       "    </tr>\n",
       "  </tbody>\n",
       "</table>\n",
       "</div>"
      ],
      "text/plain": [
       "       doid gpl_name  gse_name   gsm_name  sample_class\n",
       "0  DOID_635  GPL3865  GSE12597  GSM315734             0\n",
       "1  DOID_635  GPL3865  GSE12597  GSM315735             0"
      ]
     },
     "execution_count": 4,
     "metadata": {},
     "output_type": "execute_result"
    }
   ],
   "source": [
    "sample_df.head(2)"
   ]
  },
  {
   "cell_type": "code",
   "execution_count": 5,
   "metadata": {
    "collapsed": false
   },
   "outputs": [
    {
     "name": "stdout",
     "output_type": "stream",
     "text": [
      "49 unique doid\n",
      "107 unique gpl_name\n",
      "460 unique gse_name\n",
      "27,019 unique gsm_name\n",
      "2 unique sample_class\n"
     ]
    }
   ],
   "source": [
    "for column in sample_df.columns:\n",
    "    nunique = sample_df[column].nunique()\n",
    "    print('{:,} unique {}'.format(nunique, column))"
   ]
  },
  {
   "cell_type": "markdown",
   "metadata": {},
   "source": [
    "# Compute median up/down regulated genes"
   ]
  },
  {
   "cell_type": "code",
   "execution_count": 6,
   "metadata": {
    "collapsed": false
   },
   "outputs": [],
   "source": [
    "summary_df = pandas.read_table('data/summary.tsv')"
   ]
  },
  {
   "cell_type": "code",
   "execution_count": 7,
   "metadata": {
    "collapsed": false
   },
   "outputs": [
    {
     "data": {
      "text/plain": [
       "down    339.5\n",
       "up      350.5\n",
       "dtype: float64"
      ]
     },
     "execution_count": 7,
     "metadata": {},
     "output_type": "execute_result"
    }
   ],
   "source": [
    "summary_df.median()"
   ]
  }
 ],
 "metadata": {
  "kernelspec": {
   "display_name": "Python 2 - stargeo",
   "language": "python",
   "name": "stargeo"
  },
  "language_info": {
   "codemirror_mode": {
    "name": "ipython",
    "version": 2
   },
   "file_extension": ".py",
   "mimetype": "text/x-python",
   "name": "python",
   "nbconvert_exporter": "python",
   "pygments_lexer": "ipython2",
   "version": "2.7.10"
  }
 },
 "nbformat": 4,
 "nbformat_minor": 0
}
