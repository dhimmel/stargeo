{
 "cells": [
  {
   "cell_type": "markdown",
   "metadata": {},
   "source": [
    "# Combine analyses across diseases"
   ]
  },
  {
   "cell_type": "code",
   "execution_count": 1,
   "metadata": {
    "collapsed": true
   },
   "outputs": [],
   "source": [
    "import os\n",
    "import itertools\n",
    "\n",
    "import pandas\n",
    "from statsmodels.sandbox.stats.multicomp import multipletests"
   ]
  },
  {
   "cell_type": "code",
   "execution_count": 2,
   "metadata": {
    "collapsed": false
   },
   "outputs": [],
   "source": [
    "# Read entrez_df\n",
    "url = 'https://raw.githubusercontent.com/dhimmel/entrez-gene/5352b31e04ec136e99d25a0ba63e8867aa71b69f/data/genes-human.tsv'\n",
    "entrez_df = pandas.read_table(url)\n",
    "entrez_df = entrez_df[entrez_df.type_of_gene == 'protein-coding']"
   ]
  },
  {
   "cell_type": "code",
   "execution_count": 3,
   "metadata": {
    "collapsed": false
   },
   "outputs": [],
   "source": [
    "# Read queries\n",
    "commit = '153688869fb87412dd716ac27994e51baeb16078'\n",
    "url = 'https://raw.githubusercontent.com/dhimmel/stargeo/{}/data/queries.tsv'.format(commit)\n",
    "query_df = pandas.read_table(url)\n",
    "query_df['doid'] = query_df.slim_id.map(lambda x: x.replace(':', '_'))"
   ]
  },
  {
   "cell_type": "code",
   "execution_count": 5,
   "metadata": {
    "collapsed": false
   },
   "outputs": [],
   "source": [
    "# Read files\n",
    "rows = list()\n",
    "filenames = ['log.txt', 'samples.tsv', 'balanced_permutation.tsv']\n",
    "for doid in os.listdir('data/doslim'):\n",
    "    if not doid.startswith('DOID'):\n",
    "        continue\n",
    "    row = [os.path.exists(os.path.join('data', 'doslim', doid, filename)) for filename in filenames]\n",
    "    rows.append([doid] + row)\n",
    "\n",
    "file_df = pandas.DataFrame(rows, columns=['doid'] + filenames)\n",
    "file_df = file_df.merge(query_df)\n",
    "file_df.to_csv('data/files.tsv', sep='\\t', index=False)"
   ]
  },
  {
   "cell_type": "code",
   "execution_count": 6,
   "metadata": {
    "collapsed": false,
    "scrolled": false
   },
   "outputs": [],
   "source": [
    "doids = file_df[file_df['balanced_permutation.tsv']].doid"
   ]
  },
  {
   "cell_type": "code",
   "execution_count": 7,
   "metadata": {
    "collapsed": false
   },
   "outputs": [],
   "source": [
    "#assert not any(meta_df.mygene_entrez.duplicated())"
   ]
  },
  {
   "cell_type": "code",
   "execution_count": 9,
   "metadata": {
    "collapsed": false
   },
   "outputs": [
    {
     "ename": "AttributeError",
     "evalue": "'DataFrame' object has no attribute 'mygene_entrez'",
     "output_type": "error",
     "traceback": [
      "\u001b[1;31m---------------------------------------------------------------------------\u001b[0m",
      "\u001b[1;31mAttributeError\u001b[0m                            Traceback (most recent call last)",
      "\u001b[1;32m<ipython-input-9-bd8280b2b8b2>\u001b[0m in \u001b[0;36m<module>\u001b[1;34m()\u001b[0m\n\u001b[0;32m      3\u001b[0m     \u001b[0mpath\u001b[0m \u001b[1;33m=\u001b[0m \u001b[0mos\u001b[0m\u001b[1;33m.\u001b[0m\u001b[0mpath\u001b[0m\u001b[1;33m.\u001b[0m\u001b[0mjoin\u001b[0m\u001b[1;33m(\u001b[0m\u001b[1;34m'data'\u001b[0m\u001b[1;33m,\u001b[0m \u001b[1;34m'doslim'\u001b[0m\u001b[1;33m,\u001b[0m \u001b[0mdoid\u001b[0m\u001b[1;33m,\u001b[0m \u001b[1;34m'balanced_permutation.tsv'\u001b[0m\u001b[1;33m)\u001b[0m\u001b[1;33m\u001b[0m\u001b[0m\n\u001b[0;32m      4\u001b[0m     \u001b[0mmeta_df\u001b[0m \u001b[1;33m=\u001b[0m \u001b[0mpandas\u001b[0m\u001b[1;33m.\u001b[0m\u001b[0mread_table\u001b[0m\u001b[1;33m(\u001b[0m\u001b[0mpath\u001b[0m\u001b[1;33m)\u001b[0m\u001b[1;33m\u001b[0m\u001b[0m\n\u001b[1;32m----> 5\u001b[1;33m     \u001b[0mmeta_df\u001b[0m \u001b[1;33m=\u001b[0m \u001b[0mmeta_df\u001b[0m\u001b[1;33m[\u001b[0m\u001b[0mmeta_df\u001b[0m\u001b[1;33m.\u001b[0m\u001b[0mmygene_entrez\u001b[0m\u001b[1;33m.\u001b[0m\u001b[0misin\u001b[0m\u001b[1;33m(\u001b[0m\u001b[0mentrez_df\u001b[0m\u001b[1;33m.\u001b[0m\u001b[0mGeneID\u001b[0m\u001b[1;33m)\u001b[0m\u001b[1;33m]\u001b[0m\u001b[1;33m\u001b[0m\u001b[0m\n\u001b[0m\u001b[0;32m      6\u001b[0m     \u001b[0mmult_tests\u001b[0m \u001b[1;33m=\u001b[0m \u001b[0mmultipletests\u001b[0m\u001b[1;33m(\u001b[0m\u001b[0mmeta_df\u001b[0m\u001b[1;33m.\u001b[0m\u001b[0mrandom_pval\u001b[0m\u001b[1;33m,\u001b[0m \u001b[0malpha\u001b[0m\u001b[1;33m=\u001b[0m\u001b[1;36m0.05\u001b[0m\u001b[1;33m,\u001b[0m \u001b[0mmethod\u001b[0m\u001b[1;33m=\u001b[0m\u001b[1;34m'fdr_bh'\u001b[0m\u001b[1;33m)\u001b[0m\u001b[1;33m\u001b[0m\u001b[0m\n\u001b[0;32m      7\u001b[0m     \u001b[0mreject\u001b[0m\u001b[1;33m,\u001b[0m \u001b[0mpvals_corrected\u001b[0m\u001b[1;33m,\u001b[0m \u001b[0malphacSidak\u001b[0m\u001b[1;33m,\u001b[0m \u001b[0malphacBonf\u001b[0m \u001b[1;33m=\u001b[0m \u001b[0mmult_tests\u001b[0m\u001b[1;33m\u001b[0m\u001b[0m\n",
      "\u001b[1;32m/home/dhimmels/anaconda3/lib/python3.5/site-packages/pandas/core/generic.py\u001b[0m in \u001b[0;36m__getattr__\u001b[1;34m(self, name)\u001b[0m\n\u001b[0;32m   2358\u001b[0m                 \u001b[1;32mreturn\u001b[0m \u001b[0mself\u001b[0m\u001b[1;33m[\u001b[0m\u001b[0mname\u001b[0m\u001b[1;33m]\u001b[0m\u001b[1;33m\u001b[0m\u001b[0m\n\u001b[0;32m   2359\u001b[0m             raise AttributeError(\"'%s' object has no attribute '%s'\" %\n\u001b[1;32m-> 2360\u001b[1;33m                                  (type(self).__name__, name))\n\u001b[0m\u001b[0;32m   2361\u001b[0m \u001b[1;33m\u001b[0m\u001b[0m\n\u001b[0;32m   2362\u001b[0m     \u001b[1;32mdef\u001b[0m \u001b[0m__setattr__\u001b[0m\u001b[1;33m(\u001b[0m\u001b[0mself\u001b[0m\u001b[1;33m,\u001b[0m \u001b[0mname\u001b[0m\u001b[1;33m,\u001b[0m \u001b[0mvalue\u001b[0m\u001b[1;33m)\u001b[0m\u001b[1;33m:\u001b[0m\u001b[1;33m\u001b[0m\u001b[0m\n",
      "\u001b[1;31mAttributeError\u001b[0m: 'DataFrame' object has no attribute 'mygene_entrez'"
     ]
    }
   ],
   "source": [
    "rows = list()\n",
    "for doid in doids:\n",
    "    path = os.path.join('data', 'doslim', doid, 'balanced_permutation.tsv')\n",
    "    meta_df = pandas.read_table(path)\n",
    "    meta_df = meta_df[meta_df.mygene_entrez.isin(entrez_df.GeneID)]\n",
    "    mult_tests = multipletests(meta_df.random_pval, alpha=0.05, method='fdr_bh')\n",
    "    reject, pvals_corrected, alphacSidak, alphacBonf = mult_tests\n",
    "    meta_df = meta_df[reject]\n",
    "    for i, row in meta_df.iterrows():\n",
    "        direction = 'up' if row.random_TE > 0 else 'down'\n",
    "        rows.append([doid, direction, row.mygene_entrez])\n",
    "\n",
    "diffex_df = pandas.DataFrame(rows, columns=['doid', 'direction', 'entrez_gene_id'])\n",
    "diffex_df = diffex_df.sort_values(['doid', 'direction', 'entrez_gene_id'])\n",
    "diffex_df = diffex_df.drop_duplicates()\n",
    "diffex_df = diffex_df[-(\n",
    "    diffex_df.duplicated(['doid', 'entrez_gene_id'], 'first') |\n",
    "    diffex_df.duplicated(['doid', 'entrez_gene_id'], 'last')\n",
    "    )]\n",
    "diffex_df.entrez_gene_id = diffex_df.entrez_gene_id.astype(int)"
   ]
  },
  {
   "cell_type": "code",
   "execution_count": null,
   "metadata": {
    "collapsed": false
   },
   "outputs": [],
   "source": [
    "count_df = diffex_df.groupby(['doid', 'direction']).count().reset_index()\n",
    "count_df = count_df.pivot_table('entrez_gene_id', 'doid', 'direction').fillna(0).reset_index()"
   ]
  },
  {
   "cell_type": "code",
   "execution_count": null,
   "metadata": {
    "collapsed": false
   },
   "outputs": [],
   "source": [
    "summary_df = query_df[['doid', 'slim_id', 'slim_name']].merge(count_df)\n",
    "summary_df.to_csv('data/summary.tsv', sep='\\t', index=False)"
   ]
  },
  {
   "cell_type": "code",
   "execution_count": null,
   "metadata": {
    "collapsed": false
   },
   "outputs": [],
   "source": [
    "summary_df"
   ]
  },
  {
   "cell_type": "code",
   "execution_count": null,
   "metadata": {
    "collapsed": false
   },
   "outputs": [],
   "source": [
    "matrix_df = diffex_df.pivot('doid', 'entrez_gene_id', 'direction')\n",
    "matrix_df = matrix_df.fillna(0).replace(['up', 'down'], [1, -1])\n",
    "matrix_df = matrix_df[(matrix_df != 0).sum(axis=1) >= 500]"
   ]
  },
  {
   "cell_type": "markdown",
   "metadata": {
    "collapsed": true
   },
   "source": [
    "## Disease similarities"
   ]
  },
  {
   "cell_type": "code",
   "execution_count": null,
   "metadata": {
    "collapsed": true
   },
   "outputs": [],
   "source": [
    "def get_overlap_coef(series_0, series_1):\n",
    "    \"\"\"jaccard\"\"\"\n",
    "    numerator = sum((series_0 == series_1) & (series_0 * series_1 != 0))\n",
    "    denominator = sum((series_0 != 0) | (series_1 != 0))\n",
    "    return numerator / denominator"
   ]
  },
  {
   "cell_type": "code",
   "execution_count": null,
   "metadata": {
    "collapsed": false,
    "scrolled": true
   },
   "outputs": [],
   "source": [
    "rows = list()\n",
    "for doid_0, doid_1 in itertools.permutations(matrix_df.index, 2):\n",
    "    series_0 = matrix_df.loc[doid_0, :]\n",
    "    series_1 = matrix_df.loc[doid_1, :]\n",
    "    coef = get_overlap_coef(series_0, series_1)\n",
    "    row = doid_0, doid_1, coef\n",
    "    rows.append(row)\n",
    "\n",
    "similarity_df = pandas.DataFrame(rows, columns=['doid_0', 'doid_1', 'similarity'])"
   ]
  },
  {
   "cell_type": "code",
   "execution_count": null,
   "metadata": {
    "collapsed": false
   },
   "outputs": [],
   "source": [
    "similarity_df = query_df[['doid', 'slim_name']].rename(columns={'doid': 'doid_0', 'slim_name': 'disease_0'}).merge(\n",
    "query_df[['doid', 'slim_name']].rename(columns={'doid': 'doid_1', 'slim_name': 'disease_1'}).merge(similarity_df))"
   ]
  },
  {
   "cell_type": "code",
   "execution_count": null,
   "metadata": {
    "collapsed": false,
    "scrolled": false
   },
   "outputs": [],
   "source": [
    "similarity_df = similarity_df.sort_values(['doid_0', 'similarity'], ascending=False)\n",
    "similarity_df.to_csv('data/similarity.tsv', sep='\\t', index=False)"
   ]
  },
  {
   "cell_type": "code",
   "execution_count": null,
   "metadata": {
    "collapsed": false
   },
   "outputs": [],
   "source": [
    "similarity_df.sort_values('similarity', ascending=False).iloc[::2, :].head(20)"
   ]
  },
  {
   "cell_type": "code",
   "execution_count": null,
   "metadata": {
    "collapsed": false
   },
   "outputs": [],
   "source": [
    "diffex_detailed_df = query_df[['doid', 'slim_id', 'slim_name']].merge(diffex_df).merge(\n",
    "    entrez_df[['GeneID', 'Symbol']].rename(\n",
    "    columns={'GeneID': 'entrez_gene_id', 'Symbol': 'gene_symbol'})\n",
    "    ).sort_values(['slim_name', 'direction', 'gene_symbol']).drop('doid', 1)\n",
    "diffex_detailed_df.to_csv('data/diffex.tsv', sep='\\t', index=False)"
   ]
  },
  {
   "cell_type": "code",
   "execution_count": null,
   "metadata": {
    "collapsed": true
   },
   "outputs": [],
   "source": []
  }
 ],
 "metadata": {
  "kernelspec": {
   "display_name": "Python 3",
   "language": "python",
   "name": "python3"
  },
  "language_info": {
   "codemirror_mode": {
    "name": "ipython",
    "version": 3
   },
   "file_extension": ".py",
   "mimetype": "text/x-python",
   "name": "python",
   "nbconvert_exporter": "python",
   "pygments_lexer": "ipython3",
   "version": "3.5.0"
  }
 },
 "nbformat": 4,
 "nbformat_minor": 0
}
