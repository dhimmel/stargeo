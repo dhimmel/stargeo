{
 "cells": [
  {
   "cell_type": "markdown",
   "metadata": {},
   "source": [
    "# Combine analyses across diseases"
   ]
  },
  {
   "cell_type": "code",
   "execution_count": 1,
   "metadata": {
    "collapsed": true
   },
   "outputs": [],
   "source": [
    "import os\n",
    "import itertools\n",
    "\n",
    "import pandas\n",
    "from statsmodels.sandbox.stats.multicomp import multipletests"
   ]
  },
  {
   "cell_type": "code",
   "execution_count": 2,
   "metadata": {
    "collapsed": false
   },
   "outputs": [],
   "source": [
    "# Read entrez_df\n",
    "url = 'https://raw.githubusercontent.com/dhimmel/entrez-gene/5352b31e04ec136e99d25a0ba63e8867aa71b69f/data/genes-human.tsv'\n",
    "entrez_df = pandas.read_table(url)\n",
    "entrez_df = entrez_df[entrez_df.type_of_gene == 'protein-coding']"
   ]
  },
  {
   "cell_type": "code",
   "execution_count": 3,
   "metadata": {
    "collapsed": false
   },
   "outputs": [],
   "source": [
    "# Read queries\n",
    "query_df = pandas.read_table('data/queries.tsv')\n",
    "query_df['doid'] = query_df.slim_id.map(lambda x: x.replace(':', '_'))"
   ]
  },
  {
   "cell_type": "code",
   "execution_count": 4,
   "metadata": {
    "collapsed": false
   },
   "outputs": [],
   "source": [
    "# Read files\n",
    "rows = list()\n",
    "filenames = ['log.txt', 'samples.tsv', 'balanced_permutation.tsv.gz']\n",
    "for doid in os.listdir('data/doslim'):\n",
    "    if not doid.startswith('DOID'):\n",
    "        continue\n",
    "    row = [os.path.exists(os.path.join('data', 'doslim', doid, filename)) for filename in filenames]\n",
    "    rows.append([doid] + row)\n",
    "\n",
    "file_df = pandas.DataFrame(rows, columns=['doid'] + filenames)\n",
    "file_df = file_df.merge(query_df)\n",
    "file_df.to_csv('data/files.tsv', sep='\\t', index=False)"
   ]
  },
  {
   "cell_type": "code",
   "execution_count": 5,
   "metadata": {
    "collapsed": false,
    "scrolled": false
   },
   "outputs": [
    {
     "data": {
      "text/plain": [
       "49"
      ]
     },
     "execution_count": 5,
     "metadata": {},
     "output_type": "execute_result"
    }
   ],
   "source": [
    "# Restrict to diseases with meta-analyses that returned results\n",
    "doids = file_df[file_df['balanced_permutation.tsv.gz']].doid\n",
    "len(doids)"
   ]
  },
  {
   "cell_type": "code",
   "execution_count": 6,
   "metadata": {
    "collapsed": false
   },
   "outputs": [],
   "source": [
    "# Combine meta-analyses signicant genes\n",
    "rows = list()\n",
    "for doid in doids:\n",
    "    path = os.path.join('data', 'doslim', doid, 'balanced_permutation.tsv.gz')\n",
    "    meta_df = pandas.read_table(path)\n",
    "    meta_df = meta_df[meta_df.mygene_entrez.isin(entrez_df.GeneID)]\n",
    "    mult_tests = multipletests(meta_df.random_pval, alpha=0.05, method='fdr_bh')\n",
    "    reject, pvals_corrected, alphacSidak, alphacBonf = mult_tests\n",
    "    meta_df['random_pval_corrected'] = pvals_corrected\n",
    "    meta_df = meta_df[reject]\n",
    "    for i, row in meta_df.iterrows():\n",
    "        direction = 'up' if row.random_TE > 0 else 'down'\n",
    "        rows.append([doid, direction, row.mygene_entrez, row.random_TE, row.random_pval_corrected])\n",
    "\n",
    "diffex_df = pandas.DataFrame(rows, columns=['doid', 'direction', 'entrez_gene_id', 'log2_fold_change', 'p_adjusted'])\n",
    "diffex_df.entrez_gene_id = diffex_df.entrez_gene_id.astype(int)\n",
    "diffex_df = diffex_df.sort_values(['doid', 'direction', 'entrez_gene_id'])\n",
    "assert not diffex_df.duplicated(['doid', 'entrez_gene_id']).any()"
   ]
  },
  {
   "cell_type": "code",
   "execution_count": 7,
   "metadata": {
    "collapsed": false
   },
   "outputs": [
    {
     "data": {
      "text/html": [
       "<div>\n",
       "<table border=\"1\" class=\"dataframe\">\n",
       "  <thead>\n",
       "    <tr style=\"text-align: right;\">\n",
       "      <th></th>\n",
       "      <th>slim_id</th>\n",
       "      <th>slim_name</th>\n",
       "      <th>entrez_gene_id</th>\n",
       "      <th>gene_symbol</th>\n",
       "      <th>direction</th>\n",
       "      <th>log2_fold_change</th>\n",
       "      <th>p_adjusted</th>\n",
       "    </tr>\n",
       "  </thead>\n",
       "  <tbody>\n",
       "    <tr>\n",
       "      <th>15440</th>\n",
       "      <td>DOID:10652</td>\n",
       "      <td>Alzheimer's disease</td>\n",
       "      <td>65985</td>\n",
       "      <td>AACS</td>\n",
       "      <td>down</td>\n",
       "      <td>-0.036000</td>\n",
       "      <td>0.000000e+00</td>\n",
       "    </tr>\n",
       "    <tr>\n",
       "      <th>15551</th>\n",
       "      <td>DOID:10652</td>\n",
       "      <td>Alzheimer's disease</td>\n",
       "      <td>79719</td>\n",
       "      <td>AAGAB</td>\n",
       "      <td>down</td>\n",
       "      <td>-0.051823</td>\n",
       "      <td>0.000000e+00</td>\n",
       "    </tr>\n",
       "    <tr>\n",
       "      <th>11603</th>\n",
       "      <td>DOID:10652</td>\n",
       "      <td>Alzheimer's disease</td>\n",
       "      <td>16</td>\n",
       "      <td>AARS</td>\n",
       "      <td>down</td>\n",
       "      <td>-0.013714</td>\n",
       "      <td>2.006613e-11</td>\n",
       "    </tr>\n",
       "    <tr>\n",
       "      <th>15292</th>\n",
       "      <td>DOID:10652</td>\n",
       "      <td>Alzheimer's disease</td>\n",
       "      <td>60496</td>\n",
       "      <td>AASDHPPT</td>\n",
       "      <td>down</td>\n",
       "      <td>-0.022448</td>\n",
       "      <td>0.000000e+00</td>\n",
       "    </tr>\n",
       "    <tr>\n",
       "      <th>11604</th>\n",
       "      <td>DOID:10652</td>\n",
       "      <td>Alzheimer's disease</td>\n",
       "      <td>21</td>\n",
       "      <td>ABCA3</td>\n",
       "      <td>down</td>\n",
       "      <td>-0.005883</td>\n",
       "      <td>6.815468e-03</td>\n",
       "    </tr>\n",
       "  </tbody>\n",
       "</table>\n",
       "</div>"
      ],
      "text/plain": [
       "          slim_id            slim_name  entrez_gene_id gene_symbol direction  \\\n",
       "15440  DOID:10652  Alzheimer's disease           65985        AACS      down   \n",
       "15551  DOID:10652  Alzheimer's disease           79719       AAGAB      down   \n",
       "11603  DOID:10652  Alzheimer's disease              16        AARS      down   \n",
       "15292  DOID:10652  Alzheimer's disease           60496    AASDHPPT      down   \n",
       "11604  DOID:10652  Alzheimer's disease              21       ABCA3      down   \n",
       "\n",
       "       log2_fold_change    p_adjusted  \n",
       "15440         -0.036000  0.000000e+00  \n",
       "15551         -0.051823  0.000000e+00  \n",
       "11603         -0.013714  2.006613e-11  \n",
       "15292         -0.022448  0.000000e+00  \n",
       "11604         -0.005883  6.815468e-03  "
      ]
     },
     "execution_count": 7,
     "metadata": {},
     "output_type": "execute_result"
    }
   ],
   "source": [
    "diffex_df = query_df[['doid', 'slim_id', 'slim_name']].merge(\n",
    "    entrez_df[['GeneID', 'Symbol']].rename(\n",
    "        columns={'GeneID': 'entrez_gene_id', 'Symbol': 'gene_symbol'}\n",
    "    ).merge(diffex_df))\n",
    "\n",
    "diffex_df = diffex_df.sort_values(['slim_name', 'direction', 'gene_symbol']).drop('doid', 1)\n",
    "diffex_df.to_csv('data/diffex.tsv', sep='\\t', index=False, float_format='%.5g')\n",
    "diffex_df.head()"
   ]
  },
  {
   "cell_type": "code",
   "execution_count": 8,
   "metadata": {
    "collapsed": false
   },
   "outputs": [
    {
     "data": {
      "text/html": [
       "<div>\n",
       "<table border=\"1\" class=\"dataframe\">\n",
       "  <thead>\n",
       "    <tr style=\"text-align: right;\">\n",
       "      <th>direction</th>\n",
       "      <th>slim_id</th>\n",
       "      <th>slim_name</th>\n",
       "      <th>down</th>\n",
       "      <th>up</th>\n",
       "    </tr>\n",
       "  </thead>\n",
       "  <tbody>\n",
       "    <tr>\n",
       "      <th>0</th>\n",
       "      <td>DOID:0050156</td>\n",
       "      <td>idiopathic pulmonary fibrosis</td>\n",
       "      <td>799</td>\n",
       "      <td>963</td>\n",
       "    </tr>\n",
       "    <tr>\n",
       "      <th>1</th>\n",
       "      <td>DOID:0050741</td>\n",
       "      <td>alcohol dependence</td>\n",
       "      <td>143</td>\n",
       "      <td>163</td>\n",
       "    </tr>\n",
       "    <tr>\n",
       "      <th>2</th>\n",
       "      <td>DOID:0050742</td>\n",
       "      <td>nicotine dependence</td>\n",
       "      <td>5178</td>\n",
       "      <td>4277</td>\n",
       "    </tr>\n",
       "    <tr>\n",
       "      <th>3</th>\n",
       "      <td>DOID:10283</td>\n",
       "      <td>prostate cancer</td>\n",
       "      <td>37</td>\n",
       "      <td>43</td>\n",
       "    </tr>\n",
       "    <tr>\n",
       "      <th>4</th>\n",
       "      <td>DOID:10652</td>\n",
       "      <td>Alzheimer's disease</td>\n",
       "      <td>2218</td>\n",
       "      <td>2189</td>\n",
       "    </tr>\n",
       "  </tbody>\n",
       "</table>\n",
       "</div>"
      ],
      "text/plain": [
       "direction       slim_id                      slim_name  down    up\n",
       "0          DOID:0050156  idiopathic pulmonary fibrosis   799   963\n",
       "1          DOID:0050741             alcohol dependence   143   163\n",
       "2          DOID:0050742            nicotine dependence  5178  4277\n",
       "3            DOID:10283                prostate cancer    37    43\n",
       "4            DOID:10652            Alzheimer's disease  2218  2189"
      ]
     },
     "execution_count": 8,
     "metadata": {},
     "output_type": "execute_result"
    }
   ],
   "source": [
    "count_df = diffex_df.groupby(['slim_id', 'slim_name', 'direction']).count().reset_index()\n",
    "count_df = count_df.pivot_table(values='entrez_gene_id', index=['slim_id', 'slim_name'], columns='direction').fillna(0).reset_index()\n",
    "count_df.to_csv('data/summary.tsv', sep='\\t', index=False)\n",
    "count_df.head()"
   ]
  },
  {
   "cell_type": "markdown",
   "metadata": {
    "collapsed": true
   },
   "source": [
    "## Disease similarities"
   ]
  },
  {
   "cell_type": "code",
   "execution_count": 9,
   "metadata": {
    "collapsed": false
   },
   "outputs": [],
   "source": [
    "matrix_df = diffex_df.pivot('slim_id', 'entrez_gene_id', 'direction')\n",
    "matrix_df = matrix_df.fillna(0).replace(['up', 'down'], [1, -1])\n",
    "matrix_df = matrix_df[(matrix_df != 0).sum(axis=1) >= 500]"
   ]
  },
  {
   "cell_type": "code",
   "execution_count": 10,
   "metadata": {
    "collapsed": true
   },
   "outputs": [],
   "source": [
    "def get_overlap_coef(series_0, series_1):\n",
    "    \"\"\"Jaccard coefficient\"\"\"\n",
    "    numerator = sum((series_0 == series_1) & (series_0 * series_1 != 0))\n",
    "    denominator = sum((series_0 != 0) | (series_1 != 0))\n",
    "    return numerator / denominator"
   ]
  },
  {
   "cell_type": "code",
   "execution_count": 11,
   "metadata": {
    "collapsed": false,
    "scrolled": true
   },
   "outputs": [],
   "source": [
    "rows = list()\n",
    "for doid_0, doid_1 in itertools.permutations(matrix_df.index, 2):\n",
    "    series_0 = matrix_df.loc[doid_0, :]\n",
    "    series_1 = matrix_df.loc[doid_1, :]\n",
    "    coef = get_overlap_coef(series_0, series_1)\n",
    "    row = doid_0, doid_1, coef\n",
    "    rows.append(row)\n",
    "\n",
    "similarity_df = pandas.DataFrame(rows, columns=['doid_0', 'doid_1', 'similarity'])"
   ]
  },
  {
   "cell_type": "code",
   "execution_count": 12,
   "metadata": {
    "collapsed": false
   },
   "outputs": [],
   "source": [
    "similarity_df = query_df[['slim_id', 'slim_name']].rename(columns={'slim_id': 'doid_0', 'slim_name': 'disease_0'}).merge(\n",
    "query_df[['slim_id', 'slim_name']].rename(columns={'slim_id': 'doid_1', 'slim_name': 'disease_1'}).merge(similarity_df))\n",
    "similarity_df = similarity_df.sort_values(['doid_0', 'similarity'], ascending=False)\n",
    "similarity_df.to_csv('data/similarity.tsv', sep='\\t', index=False, float_format='%.4g')"
   ]
  },
  {
   "cell_type": "code",
   "execution_count": 13,
   "metadata": {
    "collapsed": false,
    "scrolled": false
   },
   "outputs": [
    {
     "data": {
      "text/html": [
       "<div>\n",
       "<table border=\"1\" class=\"dataframe\">\n",
       "  <thead>\n",
       "    <tr style=\"text-align: right;\">\n",
       "      <th></th>\n",
       "      <th>doid_0</th>\n",
       "      <th>disease_0</th>\n",
       "      <th>doid_1</th>\n",
       "      <th>disease_1</th>\n",
       "      <th>similarity</th>\n",
       "    </tr>\n",
       "  </thead>\n",
       "  <tbody>\n",
       "    <tr>\n",
       "      <th>200</th>\n",
       "      <td>DOID:1612</td>\n",
       "      <td>breast cancer</td>\n",
       "      <td>DOID:263</td>\n",
       "      <td>kidney cancer</td>\n",
       "      <td>0.281850</td>\n",
       "    </tr>\n",
       "    <tr>\n",
       "      <th>579</th>\n",
       "      <td>DOID:8577</td>\n",
       "      <td>ulcerative colitis</td>\n",
       "      <td>DOID:263</td>\n",
       "      <td>kidney cancer</td>\n",
       "      <td>0.271839</td>\n",
       "    </tr>\n",
       "    <tr>\n",
       "      <th>40</th>\n",
       "      <td>DOID:0050742</td>\n",
       "      <td>nicotine dependence</td>\n",
       "      <td>DOID:3083</td>\n",
       "      <td>chronic obstructive pulmonary disease</td>\n",
       "      <td>0.256590</td>\n",
       "    </tr>\n",
       "    <tr>\n",
       "      <th>38</th>\n",
       "      <td>DOID:0050742</td>\n",
       "      <td>nicotine dependence</td>\n",
       "      <td>DOID:263</td>\n",
       "      <td>kidney cancer</td>\n",
       "      <td>0.229478</td>\n",
       "    </tr>\n",
       "    <tr>\n",
       "      <th>33</th>\n",
       "      <td>DOID:0050742</td>\n",
       "      <td>nicotine dependence</td>\n",
       "      <td>DOID:1612</td>\n",
       "      <td>breast cancer</td>\n",
       "      <td>0.210564</td>\n",
       "    </tr>\n",
       "    <tr>\n",
       "      <th>209</th>\n",
       "      <td>DOID:1612</td>\n",
       "      <td>breast cancer</td>\n",
       "      <td>DOID:8577</td>\n",
       "      <td>ulcerative colitis</td>\n",
       "      <td>0.206316</td>\n",
       "    </tr>\n",
       "    <tr>\n",
       "      <th>510</th>\n",
       "      <td>DOID:635</td>\n",
       "      <td>acquired immunodeficiency syndrome</td>\n",
       "      <td>DOID:9074</td>\n",
       "      <td>systemic lupus erythematosus</td>\n",
       "      <td>0.205436</td>\n",
       "    </tr>\n",
       "    <tr>\n",
       "      <th>329</th>\n",
       "      <td>DOID:263</td>\n",
       "      <td>kidney cancer</td>\n",
       "      <td>DOID:14227</td>\n",
       "      <td>azoospermia</td>\n",
       "      <td>0.200949</td>\n",
       "    </tr>\n",
       "    <tr>\n",
       "      <th>47</th>\n",
       "      <td>DOID:0050742</td>\n",
       "      <td>nicotine dependence</td>\n",
       "      <td>DOID:8577</td>\n",
       "      <td>ulcerative colitis</td>\n",
       "      <td>0.180694</td>\n",
       "    </tr>\n",
       "    <tr>\n",
       "      <th>336</th>\n",
       "      <td>DOID:263</td>\n",
       "      <td>kidney cancer</td>\n",
       "      <td>DOID:2986</td>\n",
       "      <td>IgA glomerulonephritis</td>\n",
       "      <td>0.164418</td>\n",
       "    </tr>\n",
       "    <tr>\n",
       "      <th>136</th>\n",
       "      <td>DOID:14227</td>\n",
       "      <td>azoospermia</td>\n",
       "      <td>DOID:0050742</td>\n",
       "      <td>nicotine dependence</td>\n",
       "      <td>0.162609</td>\n",
       "    </tr>\n",
       "    <tr>\n",
       "      <th>206</th>\n",
       "      <td>DOID:1612</td>\n",
       "      <td>breast cancer</td>\n",
       "      <td>DOID:635</td>\n",
       "      <td>acquired immunodeficiency syndrome</td>\n",
       "      <td>0.159886</td>\n",
       "    </tr>\n",
       "    <tr>\n",
       "      <th>198</th>\n",
       "      <td>DOID:1612</td>\n",
       "      <td>breast cancer</td>\n",
       "      <td>DOID:219</td>\n",
       "      <td>colon cancer</td>\n",
       "      <td>0.159691</td>\n",
       "    </tr>\n",
       "    <tr>\n",
       "      <th>585</th>\n",
       "      <td>DOID:8577</td>\n",
       "      <td>ulcerative colitis</td>\n",
       "      <td>DOID:635</td>\n",
       "      <td>acquired immunodeficiency syndrome</td>\n",
       "      <td>0.157443</td>\n",
       "    </tr>\n",
       "    <tr>\n",
       "      <th>290</th>\n",
       "      <td>DOID:219</td>\n",
       "      <td>colon cancer</td>\n",
       "      <td>DOID:8577</td>\n",
       "      <td>ulcerative colitis</td>\n",
       "      <td>0.151916</td>\n",
       "    </tr>\n",
       "    <tr>\n",
       "      <th>358</th>\n",
       "      <td>DOID:2986</td>\n",
       "      <td>IgA glomerulonephritis</td>\n",
       "      <td>DOID:1612</td>\n",
       "      <td>breast cancer</td>\n",
       "      <td>0.142736</td>\n",
       "    </tr>\n",
       "    <tr>\n",
       "      <th>65</th>\n",
       "      <td>DOID:10652</td>\n",
       "      <td>Alzheimer's disease</td>\n",
       "      <td>DOID:263</td>\n",
       "      <td>kidney cancer</td>\n",
       "      <td>0.140421</td>\n",
       "    </tr>\n",
       "    <tr>\n",
       "      <th>334</th>\n",
       "      <td>DOID:263</td>\n",
       "      <td>kidney cancer</td>\n",
       "      <td>DOID:219</td>\n",
       "      <td>colon cancer</td>\n",
       "      <td>0.135574</td>\n",
       "    </tr>\n",
       "    <tr>\n",
       "      <th>141</th>\n",
       "      <td>DOID:14227</td>\n",
       "      <td>azoospermia</td>\n",
       "      <td>DOID:1612</td>\n",
       "      <td>breast cancer</td>\n",
       "      <td>0.131956</td>\n",
       "    </tr>\n",
       "    <tr>\n",
       "      <th>250</th>\n",
       "      <td>DOID:1909</td>\n",
       "      <td>melanoma</td>\n",
       "      <td>DOID:1612</td>\n",
       "      <td>breast cancer</td>\n",
       "      <td>0.130710</td>\n",
       "    </tr>\n",
       "  </tbody>\n",
       "</table>\n",
       "</div>"
      ],
      "text/plain": [
       "           doid_0                           disease_0        doid_1  \\\n",
       "200     DOID:1612                       breast cancer      DOID:263   \n",
       "579     DOID:8577                  ulcerative colitis      DOID:263   \n",
       "40   DOID:0050742                 nicotine dependence     DOID:3083   \n",
       "38   DOID:0050742                 nicotine dependence      DOID:263   \n",
       "33   DOID:0050742                 nicotine dependence     DOID:1612   \n",
       "209     DOID:1612                       breast cancer     DOID:8577   \n",
       "510      DOID:635  acquired immunodeficiency syndrome     DOID:9074   \n",
       "329      DOID:263                       kidney cancer    DOID:14227   \n",
       "47   DOID:0050742                 nicotine dependence     DOID:8577   \n",
       "336      DOID:263                       kidney cancer     DOID:2986   \n",
       "136    DOID:14227                         azoospermia  DOID:0050742   \n",
       "206     DOID:1612                       breast cancer      DOID:635   \n",
       "198     DOID:1612                       breast cancer      DOID:219   \n",
       "585     DOID:8577                  ulcerative colitis      DOID:635   \n",
       "290      DOID:219                        colon cancer     DOID:8577   \n",
       "358     DOID:2986              IgA glomerulonephritis     DOID:1612   \n",
       "65     DOID:10652                 Alzheimer's disease      DOID:263   \n",
       "334      DOID:263                       kidney cancer      DOID:219   \n",
       "141    DOID:14227                         azoospermia     DOID:1612   \n",
       "250     DOID:1909                            melanoma     DOID:1612   \n",
       "\n",
       "                                 disease_1  similarity  \n",
       "200                          kidney cancer    0.281850  \n",
       "579                          kidney cancer    0.271839  \n",
       "40   chronic obstructive pulmonary disease    0.256590  \n",
       "38                           kidney cancer    0.229478  \n",
       "33                           breast cancer    0.210564  \n",
       "209                     ulcerative colitis    0.206316  \n",
       "510           systemic lupus erythematosus    0.205436  \n",
       "329                            azoospermia    0.200949  \n",
       "47                      ulcerative colitis    0.180694  \n",
       "336                 IgA glomerulonephritis    0.164418  \n",
       "136                    nicotine dependence    0.162609  \n",
       "206     acquired immunodeficiency syndrome    0.159886  \n",
       "198                           colon cancer    0.159691  \n",
       "585     acquired immunodeficiency syndrome    0.157443  \n",
       "290                     ulcerative colitis    0.151916  \n",
       "358                          breast cancer    0.142736  \n",
       "65                           kidney cancer    0.140421  \n",
       "334                           colon cancer    0.135574  \n",
       "141                          breast cancer    0.131956  \n",
       "250                          breast cancer    0.130710  "
      ]
     },
     "execution_count": 13,
     "metadata": {},
     "output_type": "execute_result"
    }
   ],
   "source": [
    "similarity_df.sort_values('similarity', ascending=False).iloc[::2, :].head(20)"
   ]
  }
 ],
 "metadata": {
  "kernelspec": {
   "display_name": "Python 3",
   "language": "python",
   "name": "python3"
  },
  "language_info": {
   "codemirror_mode": {
    "name": "ipython",
    "version": 3
   },
   "file_extension": ".py",
   "mimetype": "text/x-python",
   "name": "python",
   "nbconvert_exporter": "python",
   "pygments_lexer": "ipython3",
   "version": "3.5.1"
  }
 },
 "nbformat": 4,
 "nbformat_minor": 0
}
