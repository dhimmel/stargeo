{
 "cells": [
  {
   "cell_type": "markdown",
   "metadata": {},
   "source": [
    "# Combine analyses across diseases"
   ]
  },
  {
   "cell_type": "code",
   "execution_count": 1,
   "metadata": {
    "collapsed": true
   },
   "outputs": [],
   "source": [
    "import os\n",
    "import itertools\n",
    "\n",
    "import pandas\n",
    "from statsmodels.sandbox.stats.multicomp import multipletests"
   ]
  },
  {
   "cell_type": "code",
   "execution_count": 2,
   "metadata": {
    "collapsed": false
   },
   "outputs": [],
   "source": [
    "# Read entrez_df\n",
    "url = 'https://raw.githubusercontent.com/dhimmel/entrez-gene/5352b31e04ec136e99d25a0ba63e8867aa71b69f/data/symbols-human.tsv'\n",
    "entrez_df = pandas.read_table(url)\n",
    "entrez_to_symbols = {entrez_id: set(df.symbol) for entrez_id, df in entrez_df.groupby('GeneID')}"
   ]
  },
  {
   "cell_type": "code",
   "execution_count": 3,
   "metadata": {
    "collapsed": false
   },
   "outputs": [],
   "source": [
    "# Read queries\n",
    "query_df = pandas.read_table('data/queries.tsv')\n",
    "query_df['doid'] = query_df.slim_id.map(lambda x: x.replace(':', '_'))"
   ]
  },
  {
   "cell_type": "code",
   "execution_count": 4,
   "metadata": {
    "collapsed": false
   },
   "outputs": [],
   "source": [
    "# Read files\n",
    "rows = list()\n",
    "filenames = ['log.txt', 'samples.tsv', 'balanced_permutation.tsv.gz']\n",
    "for doid in os.listdir('data/doslim'):\n",
    "    if not doid.startswith('DOID'):\n",
    "        continue\n",
    "    row = [os.path.exists(os.path.join('data', 'doslim', doid, filename)) for filename in filenames]\n",
    "    rows.append([doid] + row)\n",
    "\n",
    "file_df = pandas.DataFrame(rows, columns=['doid'] + filenames)\n",
    "file_df = file_df.merge(query_df)"
   ]
  },
  {
   "cell_type": "code",
   "execution_count": 5,
   "metadata": {
    "collapsed": false
   },
   "outputs": [
    {
     "data": {
      "text/html": [
       "<div>\n",
       "<table border=\"1\" class=\"dataframe\">\n",
       "  <thead>\n",
       "    <tr style=\"text-align: right;\">\n",
       "      <th></th>\n",
       "      <th>mygene_sym</th>\n",
       "      <th>mygene_entrez</th>\n",
       "      <th>doid</th>\n",
       "    </tr>\n",
       "  </thead>\n",
       "  <tbody>\n",
       "    <tr>\n",
       "      <th>0</th>\n",
       "      <td>A1BG</td>\n",
       "      <td>1</td>\n",
       "      <td>DOID_635</td>\n",
       "    </tr>\n",
       "    <tr>\n",
       "      <th>1</th>\n",
       "      <td>A1CF</td>\n",
       "      <td>29974</td>\n",
       "      <td>DOID_635</td>\n",
       "    </tr>\n",
       "  </tbody>\n",
       "</table>\n",
       "</div>"
      ],
      "text/plain": [
       "  mygene_sym  mygene_entrez      doid\n",
       "0       A1BG              1  DOID_635\n",
       "1       A1CF          29974  DOID_635"
      ]
     },
     "execution_count": 5,
     "metadata": {},
     "output_type": "execute_result"
    }
   ],
   "source": [
    "doids = file_df[file_df['balanced_permutation.tsv.gz']].doid\n",
    "dfs = list()\n",
    "for doid in doids:\n",
    "    path = os.path.join('data', 'doslim', doid, 'balanced_permutation.tsv.gz')\n",
    "    df = pandas.read_table(path)\n",
    "    df = df[['mygene_sym', 'mygene_entrez']]\n",
    "    df['doid'] = doid\n",
    "    dfs.append(df)\n",
    "\n",
    "genemap_df = pandas.concat(dfs)\n",
    "genemap_df.head(2)"
   ]
  },
  {
   "cell_type": "markdown",
   "metadata": {},
   "source": [
    "## GeneID-Symbol pairs in STARGEO that do not match Entrez Gene"
   ]
  },
  {
   "cell_type": "code",
   "execution_count": 6,
   "metadata": {
    "collapsed": false
   },
   "outputs": [
    {
     "data": {
      "text/html": [
       "<div>\n",
       "<table border=\"1\" class=\"dataframe\">\n",
       "  <thead>\n",
       "    <tr style=\"text-align: right;\">\n",
       "      <th></th>\n",
       "      <th>mygene_sym</th>\n",
       "      <th>mygene_entrez</th>\n",
       "      <th>doid</th>\n",
       "      <th>slim_id</th>\n",
       "      <th>slim_name</th>\n",
       "      <th>case_query</th>\n",
       "      <th>control_query</th>\n",
       "    </tr>\n",
       "  </thead>\n",
       "  <tbody>\n",
       "    <tr>\n",
       "      <th>0</th>\n",
       "      <td>CTB-174D11.1</td>\n",
       "      <td>728095</td>\n",
       "      <td>DOID_635</td>\n",
       "      <td>DOID:635</td>\n",
       "      <td>acquired immunodeficiency syndrome</td>\n",
       "      <td>HIV_Stage1 == 'HIV_Stage1' or HIV_stage2 == 'H...</td>\n",
       "      <td>HIV_healthycontrol == 'HIV_healthycontrol'</td>\n",
       "    </tr>\n",
       "    <tr>\n",
       "      <th>1</th>\n",
       "      <td>CXorf22</td>\n",
       "      <td>170063</td>\n",
       "      <td>DOID_635</td>\n",
       "      <td>DOID:635</td>\n",
       "      <td>acquired immunodeficiency syndrome</td>\n",
       "      <td>HIV_Stage1 == 'HIV_Stage1' or HIV_stage2 == 'H...</td>\n",
       "      <td>HIV_healthycontrol == 'HIV_healthycontrol'</td>\n",
       "    </tr>\n",
       "    <tr>\n",
       "      <th>2</th>\n",
       "      <td>CXorf30</td>\n",
       "      <td>645090</td>\n",
       "      <td>DOID_635</td>\n",
       "      <td>DOID:635</td>\n",
       "      <td>acquired immunodeficiency syndrome</td>\n",
       "      <td>HIV_Stage1 == 'HIV_Stage1' or HIV_stage2 == 'H...</td>\n",
       "      <td>HIV_healthycontrol == 'HIV_healthycontrol'</td>\n",
       "    </tr>\n",
       "    <tr>\n",
       "      <th>3</th>\n",
       "      <td>FLJ11292</td>\n",
       "      <td>55338</td>\n",
       "      <td>DOID_635</td>\n",
       "      <td>DOID:635</td>\n",
       "      <td>acquired immunodeficiency syndrome</td>\n",
       "      <td>HIV_Stage1 == 'HIV_Stage1' or HIV_stage2 == 'H...</td>\n",
       "      <td>HIV_healthycontrol == 'HIV_healthycontrol'</td>\n",
       "    </tr>\n",
       "    <tr>\n",
       "      <th>4</th>\n",
       "      <td>FLJ22184</td>\n",
       "      <td>80164</td>\n",
       "      <td>DOID_635</td>\n",
       "      <td>DOID:635</td>\n",
       "      <td>acquired immunodeficiency syndrome</td>\n",
       "      <td>HIV_Stage1 == 'HIV_Stage1' or HIV_stage2 == 'H...</td>\n",
       "      <td>HIV_healthycontrol == 'HIV_healthycontrol'</td>\n",
       "    </tr>\n",
       "  </tbody>\n",
       "</table>\n",
       "</div>"
      ],
      "text/plain": [
       "     mygene_sym  mygene_entrez      doid   slim_id  \\\n",
       "0  CTB-174D11.1         728095  DOID_635  DOID:635   \n",
       "1       CXorf22         170063  DOID_635  DOID:635   \n",
       "2       CXorf30         645090  DOID_635  DOID:635   \n",
       "3      FLJ11292          55338  DOID_635  DOID:635   \n",
       "4      FLJ22184          80164  DOID_635  DOID:635   \n",
       "\n",
       "                            slim_name  \\\n",
       "0  acquired immunodeficiency syndrome   \n",
       "1  acquired immunodeficiency syndrome   \n",
       "2  acquired immunodeficiency syndrome   \n",
       "3  acquired immunodeficiency syndrome   \n",
       "4  acquired immunodeficiency syndrome   \n",
       "\n",
       "                                          case_query  \\\n",
       "0  HIV_Stage1 == 'HIV_Stage1' or HIV_stage2 == 'H...   \n",
       "1  HIV_Stage1 == 'HIV_Stage1' or HIV_stage2 == 'H...   \n",
       "2  HIV_Stage1 == 'HIV_Stage1' or HIV_stage2 == 'H...   \n",
       "3  HIV_Stage1 == 'HIV_Stage1' or HIV_stage2 == 'H...   \n",
       "4  HIV_Stage1 == 'HIV_Stage1' or HIV_stage2 == 'H...   \n",
       "\n",
       "                                control_query  \n",
       "0  HIV_healthycontrol == 'HIV_healthycontrol'  \n",
       "1  HIV_healthycontrol == 'HIV_healthycontrol'  \n",
       "2  HIV_healthycontrol == 'HIV_healthycontrol'  \n",
       "3  HIV_healthycontrol == 'HIV_healthycontrol'  \n",
       "4  HIV_healthycontrol == 'HIV_healthycontrol'  "
      ]
     },
     "execution_count": 6,
     "metadata": {},
     "output_type": "execute_result"
    }
   ],
   "source": [
    "# Subset to genes whose symbols do not match their GeneIDs according to Entrez Gene\n",
    "validate = lambda x: x.mygene_sym in entrez_to_symbols.get(x.mygene_entrez, '')\n",
    "discord_df = genemap_df[-genemap_df.apply(validate, axis='columns')]\n",
    "discord_df = discord_df.merge(query_df)\n",
    "discord_df.to_csv('diagnose/discord.tsv', index=False, sep='\\t')\n",
    "discord_df.head(5)"
   ]
  },
  {
   "cell_type": "code",
   "execution_count": 7,
   "metadata": {
    "collapsed": false
   },
   "outputs": [
    {
     "data": {
      "text/plain": [
       "breast cancer                         121\n",
       "obesity                               118\n",
       "Parkinson's disease                   107\n",
       "kidney cancer                         102\n",
       "allergic rhinitis                     101\n",
       "amyotrophic lateral sclerosis         101\n",
       "pancreatic cancer                      98\n",
       "ulcerative colitis                     98\n",
       "endogenous depression                  92\n",
       "polycystic ovary syndrome              90\n",
       "malaria                                88\n",
       "bipolar disorder                       87\n",
       "ovarian cancer                         84\n",
       "atopic dermatitis                      84\n",
       "type 1 diabetes mellitus               84\n",
       "hematologic cancer                     84\n",
       "alopecia areata                        84\n",
       "nicotine dependence                    84\n",
       "psoriatic arthritis                    82\n",
       "idiopathic pulmonary fibrosis          77\n",
       "Crohn's disease                        75\n",
       "melanoma                               73\n",
       "hypertension                           53\n",
       "azoospermia                            49\n",
       "coronary artery disease                40\n",
       "lung cancer                            24\n",
       "acquired immunodeficiency syndrome     21\n",
       "systemic scleroderma                   16\n",
       "abdominal aortic aneurysm              11\n",
       "uterine fibroid                        10\n",
       "IgA glomerulonephritis                 10\n",
       "periodontitis                           8\n",
       "Barrett's esophagus                     7\n",
       "ankylosing spondylitis                  4\n",
       "atherosclerosis                         4\n",
       "colon cancer                            3\n",
       "Name: slim_name, dtype: int64"
      ]
     },
     "execution_count": 7,
     "metadata": {},
     "output_type": "execute_result"
    }
   ],
   "source": [
    "# Number of discordant pairs per disease\n",
    "discord_df.slim_name.value_counts()"
   ]
  },
  {
   "cell_type": "markdown",
   "metadata": {},
   "source": [
    "## Entrez GeneIDs that appear multiple times for the same disease"
   ]
  },
  {
   "cell_type": "code",
   "execution_count": 8,
   "metadata": {
    "collapsed": false
   },
   "outputs": [
    {
     "data": {
      "text/html": [
       "<div>\n",
       "<table border=\"1\" class=\"dataframe\">\n",
       "  <thead>\n",
       "    <tr style=\"text-align: right;\">\n",
       "      <th></th>\n",
       "      <th>mygene_sym</th>\n",
       "      <th>mygene_entrez</th>\n",
       "      <th>doid</th>\n",
       "      <th>slim_id</th>\n",
       "      <th>slim_name</th>\n",
       "      <th>case_query</th>\n",
       "      <th>control_query</th>\n",
       "    </tr>\n",
       "  </thead>\n",
       "  <tbody>\n",
       "    <tr>\n",
       "      <th>0</th>\n",
       "      <td>C22ORF15</td>\n",
       "      <td>150248</td>\n",
       "      <td>DOID_263</td>\n",
       "      <td>DOID:263</td>\n",
       "      <td>kidney cancer</td>\n",
       "      <td>RCC == 'RCC'</td>\n",
       "      <td>RCC_Control == 'RCC_Control'</td>\n",
       "    </tr>\n",
       "    <tr>\n",
       "      <th>1</th>\n",
       "      <td>C22orf15</td>\n",
       "      <td>150248</td>\n",
       "      <td>DOID_263</td>\n",
       "      <td>DOID:263</td>\n",
       "      <td>kidney cancer</td>\n",
       "      <td>RCC == 'RCC'</td>\n",
       "      <td>RCC_Control == 'RCC_Control'</td>\n",
       "    </tr>\n",
       "  </tbody>\n",
       "</table>\n",
       "</div>"
      ],
      "text/plain": [
       "  mygene_sym  mygene_entrez      doid   slim_id      slim_name    case_query  \\\n",
       "0   C22ORF15         150248  DOID_263  DOID:263  kidney cancer  RCC == 'RCC'   \n",
       "1   C22orf15         150248  DOID_263  DOID:263  kidney cancer  RCC == 'RCC'   \n",
       "\n",
       "                  control_query  \n",
       "0  RCC_Control == 'RCC_Control'  \n",
       "1  RCC_Control == 'RCC_Control'  "
      ]
     },
     "execution_count": 8,
     "metadata": {},
     "output_type": "execute_result"
    }
   ],
   "source": [
    "def remove_unique_id(df):\n",
    "    counts = df.mygene_entrez.value_counts()\n",
    "    return df[df.mygene_entrez.isin(counts.index[counts > 1])]\n",
    "    \n",
    "duplicate_id_df = genemap_df.groupby('doid').apply(remove_unique_id).merge(query_df)\n",
    "duplicate_id_df.to_csv('diagnose/duplicate_ids.tsv', index=False, sep='\\t')\n",
    "duplicate_id_df.head()"
   ]
  },
  {
   "cell_type": "markdown",
   "metadata": {},
   "source": [
    "## Symbols that appear multiple times for the same disease"
   ]
  },
  {
   "cell_type": "code",
   "execution_count": 9,
   "metadata": {
    "collapsed": false
   },
   "outputs": [
    {
     "data": {
      "text/html": [
       "<div>\n",
       "<table border=\"1\" class=\"dataframe\">\n",
       "  <thead>\n",
       "    <tr style=\"text-align: right;\">\n",
       "      <th></th>\n",
       "      <th>mygene_sym</th>\n",
       "      <th>mygene_entrez</th>\n",
       "      <th>doid</th>\n",
       "      <th>slim_id</th>\n",
       "      <th>slim_name</th>\n",
       "      <th>case_query</th>\n",
       "      <th>control_query</th>\n",
       "    </tr>\n",
       "  </thead>\n",
       "  <tbody>\n",
       "    <tr>\n",
       "      <th>0</th>\n",
       "      <td>LINC01002</td>\n",
       "      <td>399844</td>\n",
       "      <td>DOID_0050156</td>\n",
       "      <td>DOID:0050156</td>\n",
       "      <td>idiopathic pulmonary fibrosis</td>\n",
       "      <td>IPF == 'IPF'</td>\n",
       "      <td>IPF_control == 'IPF_control'</td>\n",
       "    </tr>\n",
       "    <tr>\n",
       "      <th>1</th>\n",
       "      <td>LINC01002</td>\n",
       "      <td>729737</td>\n",
       "      <td>DOID_0050156</td>\n",
       "      <td>DOID:0050156</td>\n",
       "      <td>idiopathic pulmonary fibrosis</td>\n",
       "      <td>IPF == 'IPF'</td>\n",
       "      <td>IPF_control == 'IPF_control'</td>\n",
       "    </tr>\n",
       "    <tr>\n",
       "      <th>2</th>\n",
       "      <td>SFPQ</td>\n",
       "      <td>6421</td>\n",
       "      <td>DOID_0050156</td>\n",
       "      <td>DOID:0050156</td>\n",
       "      <td>idiopathic pulmonary fibrosis</td>\n",
       "      <td>IPF == 'IPF'</td>\n",
       "      <td>IPF_control == 'IPF_control'</td>\n",
       "    </tr>\n",
       "    <tr>\n",
       "      <th>3</th>\n",
       "      <td>SFPQ</td>\n",
       "      <td>654780</td>\n",
       "      <td>DOID_0050156</td>\n",
       "      <td>DOID:0050156</td>\n",
       "      <td>idiopathic pulmonary fibrosis</td>\n",
       "      <td>IPF == 'IPF'</td>\n",
       "      <td>IPF_control == 'IPF_control'</td>\n",
       "    </tr>\n",
       "    <tr>\n",
       "      <th>4</th>\n",
       "      <td>SFPQ</td>\n",
       "      <td>6421</td>\n",
       "      <td>DOID_0050742</td>\n",
       "      <td>DOID:0050742</td>\n",
       "      <td>nicotine dependence</td>\n",
       "      <td>Smoker == 'Smoker'</td>\n",
       "      <td>Nonsmoker == 'Nonsmoker'</td>\n",
       "    </tr>\n",
       "  </tbody>\n",
       "</table>\n",
       "</div>"
      ],
      "text/plain": [
       "  mygene_sym  mygene_entrez          doid       slim_id  \\\n",
       "0  LINC01002         399844  DOID_0050156  DOID:0050156   \n",
       "1  LINC01002         729737  DOID_0050156  DOID:0050156   \n",
       "2       SFPQ           6421  DOID_0050156  DOID:0050156   \n",
       "3       SFPQ         654780  DOID_0050156  DOID:0050156   \n",
       "4       SFPQ           6421  DOID_0050742  DOID:0050742   \n",
       "\n",
       "                       slim_name          case_query  \\\n",
       "0  idiopathic pulmonary fibrosis        IPF == 'IPF'   \n",
       "1  idiopathic pulmonary fibrosis        IPF == 'IPF'   \n",
       "2  idiopathic pulmonary fibrosis        IPF == 'IPF'   \n",
       "3  idiopathic pulmonary fibrosis        IPF == 'IPF'   \n",
       "4            nicotine dependence  Smoker == 'Smoker'   \n",
       "\n",
       "                  control_query  \n",
       "0  IPF_control == 'IPF_control'  \n",
       "1  IPF_control == 'IPF_control'  \n",
       "2  IPF_control == 'IPF_control'  \n",
       "3  IPF_control == 'IPF_control'  \n",
       "4      Nonsmoker == 'Nonsmoker'  "
      ]
     },
     "execution_count": 9,
     "metadata": {},
     "output_type": "execute_result"
    }
   ],
   "source": [
    "def remove_unique_sym(df):\n",
    "    counts = df.mygene_sym.value_counts()\n",
    "    return df[df.mygene_sym.isin(counts.index[counts > 1])]\n",
    "    \n",
    "duplicate_symbol_df = genemap_df.groupby('doid').apply(remove_unique_sym).merge(query_df)\n",
    "duplicate_symbol_df.to_csv('diagnose/duplicate_symbols.tsv', index=False, sep='\\t')\n",
    "duplicate_symbol_df.head()"
   ]
  }
 ],
 "metadata": {
  "kernelspec": {
   "display_name": "Python 3",
   "language": "python",
   "name": "python3"
  },
  "language_info": {
   "codemirror_mode": {
    "name": "ipython",
    "version": 3
   },
   "file_extension": ".py",
   "mimetype": "text/x-python",
   "name": "python",
   "nbconvert_exporter": "python",
   "pygments_lexer": "ipython3",
   "version": "3.5.1"
  }
 },
 "nbformat": 4,
 "nbformat_minor": 0
}
