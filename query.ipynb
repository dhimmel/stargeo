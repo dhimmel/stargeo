{
 "cells": [
  {
   "cell_type": "markdown",
   "metadata": {},
   "source": [
    "# Prepare STARGEO queries"
   ]
  },
  {
   "cell_type": "code",
   "execution_count": 1,
   "metadata": {
    "collapsed": true
   },
   "outputs": [],
   "source": [
    "import pandas"
   ]
  },
  {
   "cell_type": "code",
   "execution_count": 2,
   "metadata": {
    "collapsed": false
   },
   "outputs": [
    {
     "data": {
      "text/html": [
       "<div>\n",
       "<table border=\"1\" class=\"dataframe\">\n",
       "  <thead>\n",
       "    <tr style=\"text-align: right;\">\n",
       "      <th></th>\n",
       "      <th>doid_id</th>\n",
       "      <th>doid_name</th>\n",
       "      <th>min_distance</th>\n",
       "      <th>case_tag</th>\n",
       "      <th>control_tag</th>\n",
       "      <th>notes</th>\n",
       "    </tr>\n",
       "  </thead>\n",
       "  <tbody>\n",
       "    <tr>\n",
       "      <th>0</th>\n",
       "      <td>DOID:10652</td>\n",
       "      <td>Alzheimer's disease</td>\n",
       "      <td>0</td>\n",
       "      <td>AD</td>\n",
       "      <td>AD_Control</td>\n",
       "      <td>NaN</td>\n",
       "    </tr>\n",
       "    <tr>\n",
       "      <th>1</th>\n",
       "      <td>DOID:9206</td>\n",
       "      <td>Barrett's esophagus</td>\n",
       "      <td>0</td>\n",
       "      <td>BE_Tissue</td>\n",
       "      <td>EAC_Non_Tumor</td>\n",
       "      <td>NaN</td>\n",
       "    </tr>\n",
       "    <tr>\n",
       "      <th>2</th>\n",
       "      <td>DOID:13241</td>\n",
       "      <td>Behcet's disease</td>\n",
       "      <td>0</td>\n",
       "      <td>Behcet</td>\n",
       "      <td>Behcet_control</td>\n",
       "      <td>NaN</td>\n",
       "    </tr>\n",
       "    <tr>\n",
       "      <th>3</th>\n",
       "      <td>DOID:11949</td>\n",
       "      <td>Creutzfeldt-Jakob disease</td>\n",
       "      <td>0</td>\n",
       "      <td>CJD</td>\n",
       "      <td>CJD_control</td>\n",
       "      <td>NaN</td>\n",
       "    </tr>\n",
       "    <tr>\n",
       "      <th>4</th>\n",
       "      <td>DOID:8778</td>\n",
       "      <td>Crohn's disease</td>\n",
       "      <td>0</td>\n",
       "      <td>CD</td>\n",
       "      <td>CD_control</td>\n",
       "      <td>NaN</td>\n",
       "    </tr>\n",
       "  </tbody>\n",
       "</table>\n",
       "</div>"
      ],
      "text/plain": [
       "      doid_id                  doid_name  min_distance   case_tag  \\\n",
       "0  DOID:10652        Alzheimer's disease             0         AD   \n",
       "1   DOID:9206        Barrett's esophagus             0  BE_Tissue   \n",
       "2  DOID:13241           Behcet's disease             0     Behcet   \n",
       "3  DOID:11949  Creutzfeldt-Jakob disease             0        CJD   \n",
       "4   DOID:8778            Crohn's disease             0         CD   \n",
       "\n",
       "      control_tag notes  \n",
       "0      AD_Control   NaN  \n",
       "1   EAC_Non_Tumor   NaN  \n",
       "2  Behcet_control   NaN  \n",
       "3     CJD_control   NaN  \n",
       "4      CD_control   NaN  "
      ]
     },
     "execution_count": 2,
     "metadata": {},
     "output_type": "execute_result"
    }
   ],
   "source": [
    "mapping_df = pandas.read_table('data/DO-tag-mapping.tsv')\n",
    "mapping_df.head()"
   ]
  },
  {
   "cell_type": "code",
   "execution_count": 3,
   "metadata": {
    "collapsed": false
   },
   "outputs": [
    {
     "data": {
      "text/html": [
       "<div>\n",
       "<table border=\"1\" class=\"dataframe\">\n",
       "  <thead>\n",
       "    <tr style=\"text-align: right;\">\n",
       "      <th></th>\n",
       "      <th>slim_id</th>\n",
       "      <th>slim_name</th>\n",
       "      <th>doid_id</th>\n",
       "    </tr>\n",
       "  </thead>\n",
       "  <tbody>\n",
       "    <tr>\n",
       "      <th>0</th>\n",
       "      <td>DOID:0050156</td>\n",
       "      <td>idiopathic pulmonary fibrosis</td>\n",
       "      <td>DOID:0050156</td>\n",
       "    </tr>\n",
       "    <tr>\n",
       "      <th>1</th>\n",
       "      <td>DOID:0050425</td>\n",
       "      <td>restless legs syndrome</td>\n",
       "      <td>DOID:0050425</td>\n",
       "    </tr>\n",
       "    <tr>\n",
       "      <th>2</th>\n",
       "      <td>DOID:0050741</td>\n",
       "      <td>alcohol dependence</td>\n",
       "      <td>DOID:0050741</td>\n",
       "    </tr>\n",
       "    <tr>\n",
       "      <th>3</th>\n",
       "      <td>DOID:0050742</td>\n",
       "      <td>nicotine dependence</td>\n",
       "      <td>DOID:0050742</td>\n",
       "    </tr>\n",
       "    <tr>\n",
       "      <th>4</th>\n",
       "      <td>DOID:0060073</td>\n",
       "      <td>lymphatic system cancer</td>\n",
       "      <td>DOID:0060073</td>\n",
       "    </tr>\n",
       "  </tbody>\n",
       "</table>\n",
       "</div>"
      ],
      "text/plain": [
       "        slim_id                      slim_name       doid_id\n",
       "0  DOID:0050156  idiopathic pulmonary fibrosis  DOID:0050156\n",
       "1  DOID:0050425         restless legs syndrome  DOID:0050425\n",
       "2  DOID:0050741             alcohol dependence  DOID:0050741\n",
       "3  DOID:0050742            nicotine dependence  DOID:0050742\n",
       "4  DOID:0060073        lymphatic system cancer  DOID:0060073"
      ]
     },
     "execution_count": 3,
     "metadata": {},
     "output_type": "execute_result"
    }
   ],
   "source": [
    "url = 'https://raw.githubusercontent.com/dhimmel/disease-ontology/72614ade9f1cc5a5317b8f6836e1e464b31d5587/data/slim-terms-prop.tsv'\n",
    "do_df = pandas.read_table(url).rename(columns={'subsumed_id': 'doid_id', 'subsumed_name': 'doid_name'})\n",
    "do_df = do_df[['slim_id', 'slim_name', 'doid_id']]\n",
    "do_df.head(5)"
   ]
  },
  {
   "cell_type": "code",
   "execution_count": 4,
   "metadata": {
    "collapsed": false
   },
   "outputs": [
    {
     "data": {
      "text/html": [
       "<div>\n",
       "<table border=\"1\" class=\"dataframe\">\n",
       "  <thead>\n",
       "    <tr style=\"text-align: right;\">\n",
       "      <th></th>\n",
       "      <th>slim_id</th>\n",
       "      <th>slim_name</th>\n",
       "      <th>doid_id</th>\n",
       "      <th>doid_name</th>\n",
       "      <th>min_distance</th>\n",
       "      <th>case_tag</th>\n",
       "      <th>control_tag</th>\n",
       "      <th>notes</th>\n",
       "    </tr>\n",
       "  </thead>\n",
       "  <tbody>\n",
       "    <tr>\n",
       "      <th>0</th>\n",
       "      <td>DOID:0050156</td>\n",
       "      <td>idiopathic pulmonary fibrosis</td>\n",
       "      <td>DOID:0050156</td>\n",
       "      <td>idiopathic pulmonary fibrosis</td>\n",
       "      <td>0</td>\n",
       "      <td>IPF</td>\n",
       "      <td>IPF_control</td>\n",
       "      <td>NaN</td>\n",
       "    </tr>\n",
       "    <tr>\n",
       "      <th>1</th>\n",
       "      <td>DOID:0050425</td>\n",
       "      <td>restless legs syndrome</td>\n",
       "      <td>DOID:0050425</td>\n",
       "      <td>restless legs syndrome</td>\n",
       "      <td>0</td>\n",
       "      <td>NaN</td>\n",
       "      <td>NaN</td>\n",
       "      <td>no series to tag - Omar</td>\n",
       "    </tr>\n",
       "    <tr>\n",
       "      <th>2</th>\n",
       "      <td>DOID:0050741</td>\n",
       "      <td>alcohol dependence</td>\n",
       "      <td>DOID:0050741</td>\n",
       "      <td>alcohol dependence</td>\n",
       "      <td>0</td>\n",
       "      <td>alcoholism</td>\n",
       "      <td>alcoholism_control</td>\n",
       "      <td>NaN</td>\n",
       "    </tr>\n",
       "    <tr>\n",
       "      <th>3</th>\n",
       "      <td>DOID:0050742</td>\n",
       "      <td>nicotine dependence</td>\n",
       "      <td>DOID:0050742</td>\n",
       "      <td>nicotine dependence</td>\n",
       "      <td>0</td>\n",
       "      <td>Smoker</td>\n",
       "      <td>Nonsmoker</td>\n",
       "      <td>NaN</td>\n",
       "    </tr>\n",
       "    <tr>\n",
       "      <th>4</th>\n",
       "      <td>DOID:0060073</td>\n",
       "      <td>lymphatic system cancer</td>\n",
       "      <td>DOID:0060073</td>\n",
       "      <td>lymphatic system cancer</td>\n",
       "      <td>0</td>\n",
       "      <td>NaN</td>\n",
       "      <td>NaN</td>\n",
       "      <td>NaN</td>\n",
       "    </tr>\n",
       "  </tbody>\n",
       "</table>\n",
       "</div>"
      ],
      "text/plain": [
       "        slim_id                      slim_name       doid_id  \\\n",
       "0  DOID:0050156  idiopathic pulmonary fibrosis  DOID:0050156   \n",
       "1  DOID:0050425         restless legs syndrome  DOID:0050425   \n",
       "2  DOID:0050741             alcohol dependence  DOID:0050741   \n",
       "3  DOID:0050742            nicotine dependence  DOID:0050742   \n",
       "4  DOID:0060073        lymphatic system cancer  DOID:0060073   \n",
       "\n",
       "                       doid_name  min_distance    case_tag  \\\n",
       "0  idiopathic pulmonary fibrosis             0         IPF   \n",
       "1         restless legs syndrome             0         NaN   \n",
       "2             alcohol dependence             0  alcoholism   \n",
       "3            nicotine dependence             0      Smoker   \n",
       "4        lymphatic system cancer             0         NaN   \n",
       "\n",
       "          control_tag                    notes  \n",
       "0         IPF_control                      NaN  \n",
       "1                 NaN  no series to tag - Omar  \n",
       "2  alcoholism_control                      NaN  \n",
       "3           Nonsmoker                      NaN  \n",
       "4                 NaN                      NaN  "
      ]
     },
     "execution_count": 4,
     "metadata": {},
     "output_type": "execute_result"
    }
   ],
   "source": [
    "merged_df = do_df.merge(mapping_df)\n",
    "merged_df.head()"
   ]
  },
  {
   "cell_type": "code",
   "execution_count": 7,
   "metadata": {
    "collapsed": false
   },
   "outputs": [
    {
     "data": {
      "text/html": [
       "<div>\n",
       "<table border=\"1\" class=\"dataframe\">\n",
       "  <thead>\n",
       "    <tr style=\"text-align: right;\">\n",
       "      <th></th>\n",
       "      <th>slim_id</th>\n",
       "      <th>slim_name</th>\n",
       "      <th>case_query</th>\n",
       "      <th>control_query</th>\n",
       "    </tr>\n",
       "  </thead>\n",
       "  <tbody>\n",
       "    <tr>\n",
       "      <th>0</th>\n",
       "      <td>DOID:0050156</td>\n",
       "      <td>idiopathic pulmonary fibrosis</td>\n",
       "      <td>IPF == 'IPF'</td>\n",
       "      <td>IPF_control == 'IPF_control'</td>\n",
       "    </tr>\n",
       "    <tr>\n",
       "      <th>2</th>\n",
       "      <td>DOID:0050741</td>\n",
       "      <td>alcohol dependence</td>\n",
       "      <td>alcoholism == 'alcoholism'</td>\n",
       "      <td>alcoholism_control == 'alcoholism_control'</td>\n",
       "    </tr>\n",
       "    <tr>\n",
       "      <th>3</th>\n",
       "      <td>DOID:0050742</td>\n",
       "      <td>nicotine dependence</td>\n",
       "      <td>Smoker == 'Smoker'</td>\n",
       "      <td>Nonsmoker == 'Nonsmoker'</td>\n",
       "    </tr>\n",
       "    <tr>\n",
       "      <th>8</th>\n",
       "      <td>DOID:1024</td>\n",
       "      <td>leprosy</td>\n",
       "      <td>borderline_leprosy == 'borderline_leprosy' or ...</td>\n",
       "      <td>leprosy_control == 'leprosy_control'</td>\n",
       "    </tr>\n",
       "    <tr>\n",
       "      <th>9</th>\n",
       "      <td>DOID:10283</td>\n",
       "      <td>prostate cancer</td>\n",
       "      <td>PC == 'PC' or PC_tissue_case == 'PC_tissue_case'</td>\n",
       "      <td>PC_Control == 'PC_Control' or PC_tissue_contro...</td>\n",
       "    </tr>\n",
       "  </tbody>\n",
       "</table>\n",
       "</div>"
      ],
      "text/plain": [
       "        slim_id                      slim_name  \\\n",
       "0  DOID:0050156  idiopathic pulmonary fibrosis   \n",
       "2  DOID:0050741             alcohol dependence   \n",
       "3  DOID:0050742            nicotine dependence   \n",
       "8     DOID:1024                        leprosy   \n",
       "9    DOID:10283                prostate cancer   \n",
       "\n",
       "                                          case_query  \\\n",
       "0                                       IPF == 'IPF'   \n",
       "2                         alcoholism == 'alcoholism'   \n",
       "3                                 Smoker == 'Smoker'   \n",
       "8  borderline_leprosy == 'borderline_leprosy' or ...   \n",
       "9   PC == 'PC' or PC_tissue_case == 'PC_tissue_case'   \n",
       "\n",
       "                                       control_query  \n",
       "0                       IPF_control == 'IPF_control'  \n",
       "2         alcoholism_control == 'alcoholism_control'  \n",
       "3                           Nonsmoker == 'Nonsmoker'  \n",
       "8               leprosy_control == 'leprosy_control'  \n",
       "9  PC_Control == 'PC_Control' or PC_tissue_contro...  "
      ]
     },
     "execution_count": 7,
     "metadata": {},
     "output_type": "execute_result"
    }
   ],
   "source": [
    "all_tags = set()\n",
    "\n",
    "def tags_to_query(tags):\n",
    "    tags = sorted(tags)\n",
    "    return ' or '.join(\"{tag} == '{tag}'\".format(tag=tag) for tag in tags)\n",
    "\n",
    "def taggregate(df):\n",
    "    global all_tags\n",
    "    tags = {'case': set(), 'control': set()}\n",
    "    for i, row in df.iterrows():\n",
    "        for kind in tags.keys():\n",
    "            field = row[kind + '_tag']\n",
    "            if pandas.isnull(field):\n",
    "                continue\n",
    "            split_tags = set(field.split(';'))\n",
    "            all_tags |= split_tags\n",
    "            tags[kind] |= split_tags\n",
    "    queries = {kind + '_query': tags_to_query(tags) for kind, tags in tags.items()}\n",
    "    return pandas.Series(queries)\n",
    "\n",
    "query_df = merged_df.groupby(['slim_id', 'slim_name']).apply(taggregate).reset_index()\n",
    "query_df = query_df[(query_df.case_query != '') & (query_df.control_query != '')]\n",
    "query_df.to_csv('data/queries.tsv', sep='\\t', index=False)\n",
    "query_df.head()"
   ]
  },
  {
   "cell_type": "markdown",
   "metadata": {},
   "source": [
    "## Identify tags in mapping that are not in the database"
   ]
  },
  {
   "cell_type": "code",
   "execution_count": 12,
   "metadata": {
    "collapsed": false
   },
   "outputs": [
    {
     "data": {
      "text/plain": [
       "{'PC_Control'}"
      ]
     },
     "execution_count": 12,
     "metadata": {},
     "output_type": "execute_result"
    }
   ],
   "source": [
    "tag_df = pandas.read_table('download/tag.tsv')\n",
    "db_tags = set(tag_df.tag_name)\n",
    "all_tags - db_tags"
   ]
  },
  {
   "cell_type": "code",
   "execution_count": null,
   "metadata": {
    "collapsed": true
   },
   "outputs": [],
   "source": []
  }
 ],
 "metadata": {
  "kernelspec": {
   "display_name": "Python 3",
   "language": "python",
   "name": "python3"
  },
  "language_info": {
   "codemirror_mode": {
    "name": "ipython",
    "version": 3
   },
   "file_extension": ".py",
   "mimetype": "text/x-python",
   "name": "python",
   "nbconvert_exporter": "python",
   "pygments_lexer": "ipython3",
   "version": "3.4.3"
  }
 },
 "nbformat": 4,
 "nbformat_minor": 0
}
